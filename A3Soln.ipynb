{
 "cells": [
  {
   "cell_type": "markdown",
   "metadata": {},
   "source": [
    "# Assignment 3 Solution\n",
    "\n",
    "This is the code solution to Assignment 3.  It is **not** written out at the same level of detail as I expect for an assignment submission."
   ]
  },
  {
   "cell_type": "markdown",
   "metadata": {},
   "source": [
    "## Setup\n",
    "\n",
    "Let's import our Python packages:"
   ]
  },
  {
   "cell_type": "code",
   "execution_count": 1,
   "metadata": {},
   "outputs": [],
   "source": [
    "import pandas as pd\n",
    "import numpy as np\n",
    "import seaborn as sns\n",
    "import matplotlib.pyplot as plt\n",
    "from census import Census\n",
    "from us import states"
   ]
  },
  {
   "cell_type": "code",
   "execution_count": 2,
   "metadata": {},
   "outputs": [],
   "source": [
    "import seedbank"
   ]
  },
  {
   "cell_type": "code",
   "execution_count": 3,
   "metadata": {},
   "outputs": [],
   "source": [
    "seedbank.initialize(20211019)\n",
    "rng = seedbank.numpy_rng()"
   ]
  },
  {
   "cell_type": "markdown",
   "metadata": {},
   "source": [
    "And set up our census API access:"
   ]
  },
  {
   "cell_type": "code",
   "execution_count": 4,
   "metadata": {},
   "outputs": [],
   "source": [
    "c = Census('cf23a59a4baf3d5e93c239d3d05ce867d87395cb')"
   ]
  },
  {
   "cell_type": "markdown",
   "metadata": {},
   "source": [
    "## State Info\n",
    "\n",
    "Our first order of business is to get state poverty levels.  We're going to use the ACS5 files to get total (estimated) population and the estimated population under the poverty line:"
   ]
  },
  {
   "cell_type": "code",
   "execution_count": 5,
   "metadata": {},
   "outputs": [
    {
     "name": "stdout",
     "output_type": "stream",
     "text": [
      "<class 'pandas.core.frame.DataFrame'>\n",
      "RangeIndex: 52 entries, 0 to 51\n",
      "Data columns (total 4 columns):\n",
      " #   Column       Non-Null Count  Dtype  \n",
      "---  ------       --------------  -----  \n",
      " 0   NAME         52 non-null     object \n",
      " 1   B05010_001E  52 non-null     float64\n",
      " 2   B05010_002E  52 non-null     float64\n",
      " 3   state        52 non-null     object \n",
      "dtypes: float64(2), object(2)\n",
      "memory usage: 1.8+ KB\n"
     ]
    }
   ],
   "source": [
    "state_pop = pd.DataFrame.from_records(c.acs5.state(('NAME', 'B05010_001E', 'B05010_002E'), '*', year=2014))\n",
    "state_pop.info()"
   ]
  },
  {
   "cell_type": "markdown",
   "metadata": {},
   "source": [
    "Now we want to clean up this data a bit, and compute the poverty rate (fraction in poverty):"
   ]
  },
  {
   "cell_type": "code",
   "execution_count": 6,
   "metadata": {},
   "outputs": [
    {
     "name": "stdout",
     "output_type": "stream",
     "text": [
      "<class 'pandas.core.frame.DataFrame'>\n",
      "RangeIndex: 52 entries, 0 to 51\n",
      "Data columns (total 4 columns):\n",
      " #   Column                  Non-Null Count  Dtype  \n",
      "---  ------                  --------------  -----  \n",
      " 0   NAME                    52 non-null     object \n",
      " 1   TotalHouseholds         52 non-null     float64\n",
      " 2   HouseholdsBelowPoverty  52 non-null     float64\n",
      " 3   state                   52 non-null     int32  \n",
      "dtypes: float64(2), int32(1), object(1)\n",
      "memory usage: 1.5+ KB\n"
     ]
    }
   ],
   "source": [
    "state_pop.rename(columns={\n",
    "    'B05010_001E': 'TotalHouseholds',\n",
    "    'B05010_002E': 'HouseholdsBelowPoverty',\n",
    "}, inplace=True)\n",
    "state_pop['state'] = state_pop['state'].astype('i4')\n",
    "state_pop.info()"
   ]
  },
  {
   "cell_type": "code",
   "execution_count": 7,
   "metadata": {},
   "outputs": [],
   "source": [
    "state_pop['PovertyRate'] = state_pop['HouseholdsBelowPoverty'] / state_pop['TotalHouseholds']\n",
    "state_pop.set_index('state', inplace=True)"
   ]
  },
  {
   "cell_type": "markdown",
   "metadata": {},
   "source": [
    "What are the poverty rates of the various states?  We're going to actually show the data.  Remember — **always look at your data**.  In this case, it makes sense to view all the states; in some cases, we will want to only look at some of them, e.g. with `.head()`, or `.nlargest`."
   ]
  },
  {
   "cell_type": "code",
   "execution_count": 8,
   "metadata": {},
   "outputs": [
    {
     "data": {
      "text/html": [
       "<div>\n",
       "<style scoped>\n",
       "    .dataframe tbody tr th:only-of-type {\n",
       "        vertical-align: middle;\n",
       "    }\n",
       "\n",
       "    .dataframe tbody tr th {\n",
       "        vertical-align: top;\n",
       "    }\n",
       "\n",
       "    .dataframe thead th {\n",
       "        text-align: right;\n",
       "    }\n",
       "</style>\n",
       "<table border=\"1\" class=\"dataframe\">\n",
       "  <thead>\n",
       "    <tr style=\"text-align: right;\">\n",
       "      <th></th>\n",
       "      <th>NAME</th>\n",
       "      <th>TotalHouseholds</th>\n",
       "      <th>HouseholdsBelowPoverty</th>\n",
       "      <th>PovertyRate</th>\n",
       "    </tr>\n",
       "    <tr>\n",
       "      <th>state</th>\n",
       "      <th></th>\n",
       "      <th></th>\n",
       "      <th></th>\n",
       "      <th></th>\n",
       "    </tr>\n",
       "  </thead>\n",
       "  <tbody>\n",
       "    <tr>\n",
       "      <th>1</th>\n",
       "      <td>Alabama</td>\n",
       "      <td>1048560.0</td>\n",
       "      <td>281052.0</td>\n",
       "      <td>0.268036</td>\n",
       "    </tr>\n",
       "    <tr>\n",
       "      <th>2</th>\n",
       "      <td>Alaska</td>\n",
       "      <td>179242.0</td>\n",
       "      <td>23963.0</td>\n",
       "      <td>0.133691</td>\n",
       "    </tr>\n",
       "    <tr>\n",
       "      <th>4</th>\n",
       "      <td>Arizona</td>\n",
       "      <td>1532525.0</td>\n",
       "      <td>385737.0</td>\n",
       "      <td>0.251700</td>\n",
       "    </tr>\n",
       "    <tr>\n",
       "      <th>5</th>\n",
       "      <td>Arkansas</td>\n",
       "      <td>663036.0</td>\n",
       "      <td>179070.0</td>\n",
       "      <td>0.270076</td>\n",
       "    </tr>\n",
       "    <tr>\n",
       "      <th>6</th>\n",
       "      <td>California</td>\n",
       "      <td>8778017.0</td>\n",
       "      <td>1945049.0</td>\n",
       "      <td>0.221582</td>\n",
       "    </tr>\n",
       "    <tr>\n",
       "      <th>8</th>\n",
       "      <td>Colorado</td>\n",
       "      <td>1184247.0</td>\n",
       "      <td>196514.0</td>\n",
       "      <td>0.165940</td>\n",
       "    </tr>\n",
       "    <tr>\n",
       "      <th>10</th>\n",
       "      <td>Delaware</td>\n",
       "      <td>192733.0</td>\n",
       "      <td>32257.0</td>\n",
       "      <td>0.167366</td>\n",
       "    </tr>\n",
       "    <tr>\n",
       "      <th>11</th>\n",
       "      <td>District of Columbia</td>\n",
       "      <td>100334.0</td>\n",
       "      <td>27183.0</td>\n",
       "      <td>0.270925</td>\n",
       "    </tr>\n",
       "    <tr>\n",
       "      <th>9</th>\n",
       "      <td>Connecticut</td>\n",
       "      <td>766701.0</td>\n",
       "      <td>103359.0</td>\n",
       "      <td>0.134810</td>\n",
       "    </tr>\n",
       "    <tr>\n",
       "      <th>12</th>\n",
       "      <td>Florida</td>\n",
       "      <td>3810986.0</td>\n",
       "      <td>893168.0</td>\n",
       "      <td>0.234367</td>\n",
       "    </tr>\n",
       "    <tr>\n",
       "      <th>13</th>\n",
       "      <td>Georgia</td>\n",
       "      <td>2351971.0</td>\n",
       "      <td>593082.0</td>\n",
       "      <td>0.252164</td>\n",
       "    </tr>\n",
       "    <tr>\n",
       "      <th>16</th>\n",
       "      <td>Idaho</td>\n",
       "      <td>411999.0</td>\n",
       "      <td>77691.0</td>\n",
       "      <td>0.188571</td>\n",
       "    </tr>\n",
       "    <tr>\n",
       "      <th>15</th>\n",
       "      <td>Hawaii</td>\n",
       "      <td>287422.0</td>\n",
       "      <td>42316.0</td>\n",
       "      <td>0.147226</td>\n",
       "    </tr>\n",
       "    <tr>\n",
       "      <th>17</th>\n",
       "      <td>Illinois</td>\n",
       "      <td>2929213.0</td>\n",
       "      <td>579107.0</td>\n",
       "      <td>0.197701</td>\n",
       "    </tr>\n",
       "    <tr>\n",
       "      <th>18</th>\n",
       "      <td>Indiana</td>\n",
       "      <td>1508326.0</td>\n",
       "      <td>323617.0</td>\n",
       "      <td>0.214554</td>\n",
       "    </tr>\n",
       "    <tr>\n",
       "      <th>19</th>\n",
       "      <td>Iowa</td>\n",
       "      <td>696053.0</td>\n",
       "      <td>108180.0</td>\n",
       "      <td>0.155419</td>\n",
       "    </tr>\n",
       "    <tr>\n",
       "      <th>20</th>\n",
       "      <td>Kansas</td>\n",
       "      <td>692474.0</td>\n",
       "      <td>124664.0</td>\n",
       "      <td>0.180027</td>\n",
       "    </tr>\n",
       "    <tr>\n",
       "      <th>21</th>\n",
       "      <td>Kentucky</td>\n",
       "      <td>946007.0</td>\n",
       "      <td>237801.0</td>\n",
       "      <td>0.251373</td>\n",
       "    </tr>\n",
       "    <tr>\n",
       "      <th>22</th>\n",
       "      <td>Louisiana</td>\n",
       "      <td>1046693.0</td>\n",
       "      <td>281624.0</td>\n",
       "      <td>0.269061</td>\n",
       "    </tr>\n",
       "    <tr>\n",
       "      <th>23</th>\n",
       "      <td>Maine</td>\n",
       "      <td>252237.0</td>\n",
       "      <td>45698.0</td>\n",
       "      <td>0.181171</td>\n",
       "    </tr>\n",
       "    <tr>\n",
       "      <th>24</th>\n",
       "      <td>Maryland</td>\n",
       "      <td>1287009.0</td>\n",
       "      <td>162829.0</td>\n",
       "      <td>0.126517</td>\n",
       "    </tr>\n",
       "    <tr>\n",
       "      <th>25</th>\n",
       "      <td>Massachusetts</td>\n",
       "      <td>1351006.0</td>\n",
       "      <td>196274.0</td>\n",
       "      <td>0.145280</td>\n",
       "    </tr>\n",
       "    <tr>\n",
       "      <th>26</th>\n",
       "      <td>Michigan</td>\n",
       "      <td>2170001.0</td>\n",
       "      <td>502205.0</td>\n",
       "      <td>0.231431</td>\n",
       "    </tr>\n",
       "    <tr>\n",
       "      <th>27</th>\n",
       "      <td>Minnesota</td>\n",
       "      <td>1235470.0</td>\n",
       "      <td>175340.0</td>\n",
       "      <td>0.141922</td>\n",
       "    </tr>\n",
       "    <tr>\n",
       "      <th>28</th>\n",
       "      <td>Mississippi</td>\n",
       "      <td>692760.0</td>\n",
       "      <td>217394.0</td>\n",
       "      <td>0.313809</td>\n",
       "    </tr>\n",
       "    <tr>\n",
       "      <th>29</th>\n",
       "      <td>Missouri</td>\n",
       "      <td>1330961.0</td>\n",
       "      <td>277919.0</td>\n",
       "      <td>0.208811</td>\n",
       "    </tr>\n",
       "    <tr>\n",
       "      <th>30</th>\n",
       "      <td>Montana</td>\n",
       "      <td>211350.0</td>\n",
       "      <td>39900.0</td>\n",
       "      <td>0.188786</td>\n",
       "    </tr>\n",
       "    <tr>\n",
       "      <th>31</th>\n",
       "      <td>Nebraska</td>\n",
       "      <td>442711.0</td>\n",
       "      <td>74977.0</td>\n",
       "      <td>0.169359</td>\n",
       "    </tr>\n",
       "    <tr>\n",
       "      <th>32</th>\n",
       "      <td>Nevada</td>\n",
       "      <td>629958.0</td>\n",
       "      <td>138390.0</td>\n",
       "      <td>0.219681</td>\n",
       "    </tr>\n",
       "    <tr>\n",
       "      <th>33</th>\n",
       "      <td>New Hampshire</td>\n",
       "      <td>265346.0</td>\n",
       "      <td>29439.0</td>\n",
       "      <td>0.110946</td>\n",
       "    </tr>\n",
       "    <tr>\n",
       "      <th>34</th>\n",
       "      <td>New Jersey</td>\n",
       "      <td>1967644.0</td>\n",
       "      <td>293406.0</td>\n",
       "      <td>0.149115</td>\n",
       "    </tr>\n",
       "    <tr>\n",
       "      <th>35</th>\n",
       "      <td>New Mexico</td>\n",
       "      <td>483625.0</td>\n",
       "      <td>140111.0</td>\n",
       "      <td>0.289710</td>\n",
       "    </tr>\n",
       "    <tr>\n",
       "      <th>36</th>\n",
       "      <td>New York</td>\n",
       "      <td>4086170.0</td>\n",
       "      <td>879820.0</td>\n",
       "      <td>0.215317</td>\n",
       "    </tr>\n",
       "    <tr>\n",
       "      <th>37</th>\n",
       "      <td>North Carolina</td>\n",
       "      <td>2168458.0</td>\n",
       "      <td>526767.0</td>\n",
       "      <td>0.242922</td>\n",
       "    </tr>\n",
       "    <tr>\n",
       "      <th>38</th>\n",
       "      <td>North Dakota</td>\n",
       "      <td>152047.0</td>\n",
       "      <td>20921.0</td>\n",
       "      <td>0.137596</td>\n",
       "    </tr>\n",
       "    <tr>\n",
       "      <th>39</th>\n",
       "      <td>Ohio</td>\n",
       "      <td>2540275.0</td>\n",
       "      <td>568711.0</td>\n",
       "      <td>0.223878</td>\n",
       "    </tr>\n",
       "    <tr>\n",
       "      <th>40</th>\n",
       "      <td>Oklahoma</td>\n",
       "      <td>883873.0</td>\n",
       "      <td>202918.0</td>\n",
       "      <td>0.229578</td>\n",
       "    </tr>\n",
       "    <tr>\n",
       "      <th>41</th>\n",
       "      <td>Oregon</td>\n",
       "      <td>818366.0</td>\n",
       "      <td>176493.0</td>\n",
       "      <td>0.215665</td>\n",
       "    </tr>\n",
       "    <tr>\n",
       "      <th>42</th>\n",
       "      <td>Pennsylvania</td>\n",
       "      <td>2619940.0</td>\n",
       "      <td>484560.0</td>\n",
       "      <td>0.184951</td>\n",
       "    </tr>\n",
       "    <tr>\n",
       "      <th>44</th>\n",
       "      <td>Rhode Island</td>\n",
       "      <td>208955.0</td>\n",
       "      <td>40859.0</td>\n",
       "      <td>0.195540</td>\n",
       "    </tr>\n",
       "    <tr>\n",
       "      <th>45</th>\n",
       "      <td>South Carolina</td>\n",
       "      <td>1015513.0</td>\n",
       "      <td>265122.0</td>\n",
       "      <td>0.261072</td>\n",
       "    </tr>\n",
       "    <tr>\n",
       "      <th>46</th>\n",
       "      <td>South Dakota</td>\n",
       "      <td>194888.0</td>\n",
       "      <td>34146.0</td>\n",
       "      <td>0.175208</td>\n",
       "    </tr>\n",
       "    <tr>\n",
       "      <th>47</th>\n",
       "      <td>Tennessee</td>\n",
       "      <td>1403373.0</td>\n",
       "      <td>352800.0</td>\n",
       "      <td>0.251394</td>\n",
       "    </tr>\n",
       "    <tr>\n",
       "      <th>48</th>\n",
       "      <td>Texas</td>\n",
       "      <td>6653461.0</td>\n",
       "      <td>1647149.0</td>\n",
       "      <td>0.247563</td>\n",
       "    </tr>\n",
       "    <tr>\n",
       "      <th>50</th>\n",
       "      <td>Vermont</td>\n",
       "      <td>119436.0</td>\n",
       "      <td>17600.0</td>\n",
       "      <td>0.147359</td>\n",
       "    </tr>\n",
       "    <tr>\n",
       "      <th>49</th>\n",
       "      <td>Utah</td>\n",
       "      <td>859803.0</td>\n",
       "      <td>124944.0</td>\n",
       "      <td>0.145317</td>\n",
       "    </tr>\n",
       "    <tr>\n",
       "      <th>51</th>\n",
       "      <td>Virginia</td>\n",
       "      <td>1779991.0</td>\n",
       "      <td>261270.0</td>\n",
       "      <td>0.146782</td>\n",
       "    </tr>\n",
       "    <tr>\n",
       "      <th>53</th>\n",
       "      <td>Washington</td>\n",
       "      <td>1518407.0</td>\n",
       "      <td>265485.0</td>\n",
       "      <td>0.174844</td>\n",
       "    </tr>\n",
       "    <tr>\n",
       "      <th>54</th>\n",
       "      <td>West Virginia</td>\n",
       "      <td>356808.0</td>\n",
       "      <td>88414.0</td>\n",
       "      <td>0.247792</td>\n",
       "    </tr>\n",
       "    <tr>\n",
       "      <th>55</th>\n",
       "      <td>Wisconsin</td>\n",
       "      <td>1262107.0</td>\n",
       "      <td>226532.0</td>\n",
       "      <td>0.179487</td>\n",
       "    </tr>\n",
       "    <tr>\n",
       "      <th>56</th>\n",
       "      <td>Wyoming</td>\n",
       "      <td>130315.0</td>\n",
       "      <td>19351.0</td>\n",
       "      <td>0.148494</td>\n",
       "    </tr>\n",
       "    <tr>\n",
       "      <th>72</th>\n",
       "      <td>Puerto Rico</td>\n",
       "      <td>798753.0</td>\n",
       "      <td>452678.0</td>\n",
       "      <td>0.566731</td>\n",
       "    </tr>\n",
       "  </tbody>\n",
       "</table>\n",
       "</div>"
      ],
      "text/plain": [
       "                       NAME  TotalHouseholds  HouseholdsBelowPoverty  \\\n",
       "state                                                                  \n",
       "1                   Alabama        1048560.0                281052.0   \n",
       "2                    Alaska         179242.0                 23963.0   \n",
       "4                   Arizona        1532525.0                385737.0   \n",
       "5                  Arkansas         663036.0                179070.0   \n",
       "6                California        8778017.0               1945049.0   \n",
       "8                  Colorado        1184247.0                196514.0   \n",
       "10                 Delaware         192733.0                 32257.0   \n",
       "11     District of Columbia         100334.0                 27183.0   \n",
       "9               Connecticut         766701.0                103359.0   \n",
       "12                  Florida        3810986.0                893168.0   \n",
       "13                  Georgia        2351971.0                593082.0   \n",
       "16                    Idaho         411999.0                 77691.0   \n",
       "15                   Hawaii         287422.0                 42316.0   \n",
       "17                 Illinois        2929213.0                579107.0   \n",
       "18                  Indiana        1508326.0                323617.0   \n",
       "19                     Iowa         696053.0                108180.0   \n",
       "20                   Kansas         692474.0                124664.0   \n",
       "21                 Kentucky         946007.0                237801.0   \n",
       "22                Louisiana        1046693.0                281624.0   \n",
       "23                    Maine         252237.0                 45698.0   \n",
       "24                 Maryland        1287009.0                162829.0   \n",
       "25            Massachusetts        1351006.0                196274.0   \n",
       "26                 Michigan        2170001.0                502205.0   \n",
       "27                Minnesota        1235470.0                175340.0   \n",
       "28              Mississippi         692760.0                217394.0   \n",
       "29                 Missouri        1330961.0                277919.0   \n",
       "30                  Montana         211350.0                 39900.0   \n",
       "31                 Nebraska         442711.0                 74977.0   \n",
       "32                   Nevada         629958.0                138390.0   \n",
       "33            New Hampshire         265346.0                 29439.0   \n",
       "34               New Jersey        1967644.0                293406.0   \n",
       "35               New Mexico         483625.0                140111.0   \n",
       "36                 New York        4086170.0                879820.0   \n",
       "37           North Carolina        2168458.0                526767.0   \n",
       "38             North Dakota         152047.0                 20921.0   \n",
       "39                     Ohio        2540275.0                568711.0   \n",
       "40                 Oklahoma         883873.0                202918.0   \n",
       "41                   Oregon         818366.0                176493.0   \n",
       "42             Pennsylvania        2619940.0                484560.0   \n",
       "44             Rhode Island         208955.0                 40859.0   \n",
       "45           South Carolina        1015513.0                265122.0   \n",
       "46             South Dakota         194888.0                 34146.0   \n",
       "47                Tennessee        1403373.0                352800.0   \n",
       "48                    Texas        6653461.0               1647149.0   \n",
       "50                  Vermont         119436.0                 17600.0   \n",
       "49                     Utah         859803.0                124944.0   \n",
       "51                 Virginia        1779991.0                261270.0   \n",
       "53               Washington        1518407.0                265485.0   \n",
       "54            West Virginia         356808.0                 88414.0   \n",
       "55                Wisconsin        1262107.0                226532.0   \n",
       "56                  Wyoming         130315.0                 19351.0   \n",
       "72              Puerto Rico         798753.0                452678.0   \n",
       "\n",
       "       PovertyRate  \n",
       "state               \n",
       "1         0.268036  \n",
       "2         0.133691  \n",
       "4         0.251700  \n",
       "5         0.270076  \n",
       "6         0.221582  \n",
       "8         0.165940  \n",
       "10        0.167366  \n",
       "11        0.270925  \n",
       "9         0.134810  \n",
       "12        0.234367  \n",
       "13        0.252164  \n",
       "16        0.188571  \n",
       "15        0.147226  \n",
       "17        0.197701  \n",
       "18        0.214554  \n",
       "19        0.155419  \n",
       "20        0.180027  \n",
       "21        0.251373  \n",
       "22        0.269061  \n",
       "23        0.181171  \n",
       "24        0.126517  \n",
       "25        0.145280  \n",
       "26        0.231431  \n",
       "27        0.141922  \n",
       "28        0.313809  \n",
       "29        0.208811  \n",
       "30        0.188786  \n",
       "31        0.169359  \n",
       "32        0.219681  \n",
       "33        0.110946  \n",
       "34        0.149115  \n",
       "35        0.289710  \n",
       "36        0.215317  \n",
       "37        0.242922  \n",
       "38        0.137596  \n",
       "39        0.223878  \n",
       "40        0.229578  \n",
       "41        0.215665  \n",
       "42        0.184951  \n",
       "44        0.195540  \n",
       "45        0.261072  \n",
       "46        0.175208  \n",
       "47        0.251394  \n",
       "48        0.247563  \n",
       "50        0.147359  \n",
       "49        0.145317  \n",
       "51        0.146782  \n",
       "53        0.174844  \n",
       "54        0.247792  \n",
       "55        0.179487  \n",
       "56        0.148494  \n",
       "72        0.566731  "
      ]
     },
     "execution_count": 8,
     "metadata": {},
     "output_type": "execute_result"
    }
   ],
   "source": [
    "state_pop"
   ]
  },
  {
   "cell_type": "markdown",
   "metadata": {},
   "source": [
    "What does the distribution of poverty rate look like? First numerically:"
   ]
  },
  {
   "cell_type": "code",
   "execution_count": 9,
   "metadata": {},
   "outputs": [
    {
     "data": {
      "text/plain": [
       "count    52.000000\n",
       "mean      0.207473\n",
       "std       0.070696\n",
       "min       0.110946\n",
       "25%       0.153843\n",
       "50%       0.196620\n",
       "75%       0.247620\n",
       "max       0.566731\n",
       "Name: PovertyRate, dtype: float64"
      ]
     },
     "execution_count": 9,
     "metadata": {},
     "output_type": "execute_result"
    }
   ],
   "source": [
    "state_pop['PovertyRate'].describe()"
   ]
  },
  {
   "cell_type": "markdown",
   "metadata": {},
   "source": [
    "Graphically:"
   ]
  },
  {
   "cell_type": "code",
   "execution_count": 10,
   "metadata": {},
   "outputs": [
    {
     "data": {
      "image/png": "[encoded data removed]",
      "text/plain": [
       "<Figure size 432x288 with 1 Axes>"
      ]
     },
     "metadata": {
      "needs_background": "light"
     },
     "output_type": "display_data"
    }
   ],
   "source": [
    "state_pop['PovertyRate'].hist()\n",
    "plt.xlabel('Poverty Rate')\n",
    "plt.ylabel('# of States')\n",
    "plt.show()"
   ]
  },
  {
   "cell_type": "markdown",
   "metadata": {},
   "source": [
    "Right skew, but in particular we have one state (or territory) with a much higher poverty rate than the others. What's that highest point? Let's look at the highest-poverty states:"
   ]
  },
  {
   "cell_type": "code",
   "execution_count": 11,
   "metadata": {},
   "outputs": [
    {
     "data": {
      "text/html": [
       "<div>\n",
       "<style scoped>\n",
       "    .dataframe tbody tr th:only-of-type {\n",
       "        vertical-align: middle;\n",
       "    }\n",
       "\n",
       "    .dataframe tbody tr th {\n",
       "        vertical-align: top;\n",
       "    }\n",
       "\n",
       "    .dataframe thead th {\n",
       "        text-align: right;\n",
       "    }\n",
       "</style>\n",
       "<table border=\"1\" class=\"dataframe\">\n",
       "  <thead>\n",
       "    <tr style=\"text-align: right;\">\n",
       "      <th></th>\n",
       "      <th>NAME</th>\n",
       "      <th>TotalHouseholds</th>\n",
       "      <th>HouseholdsBelowPoverty</th>\n",
       "      <th>PovertyRate</th>\n",
       "    </tr>\n",
       "    <tr>\n",
       "      <th>state</th>\n",
       "      <th></th>\n",
       "      <th></th>\n",
       "      <th></th>\n",
       "      <th></th>\n",
       "    </tr>\n",
       "  </thead>\n",
       "  <tbody>\n",
       "    <tr>\n",
       "      <th>72</th>\n",
       "      <td>Puerto Rico</td>\n",
       "      <td>798753.0</td>\n",
       "      <td>452678.0</td>\n",
       "      <td>0.566731</td>\n",
       "    </tr>\n",
       "    <tr>\n",
       "      <th>28</th>\n",
       "      <td>Mississippi</td>\n",
       "      <td>692760.0</td>\n",
       "      <td>217394.0</td>\n",
       "      <td>0.313809</td>\n",
       "    </tr>\n",
       "    <tr>\n",
       "      <th>35</th>\n",
       "      <td>New Mexico</td>\n",
       "      <td>483625.0</td>\n",
       "      <td>140111.0</td>\n",
       "      <td>0.289710</td>\n",
       "    </tr>\n",
       "  </tbody>\n",
       "</table>\n",
       "</div>"
      ],
      "text/plain": [
       "              NAME  TotalHouseholds  HouseholdsBelowPoverty  PovertyRate\n",
       "state                                                                   \n",
       "72     Puerto Rico         798753.0                452678.0     0.566731\n",
       "28     Mississippi         692760.0                217394.0     0.313809\n",
       "35      New Mexico         483625.0                140111.0     0.289710"
      ]
     },
     "execution_count": 11,
     "metadata": {},
     "output_type": "execute_result"
    }
   ],
   "source": [
    "state_pop.nlargest(3, 'PovertyRate')"
   ]
  },
  {
   "cell_type": "markdown",
   "metadata": {},
   "source": [
    "## Infectious Diseases\n",
    "\n",
    "Now we're going to connect these with infectious diseases.\n",
    "\n",
    "First, let's load the file and see what it looks like:"
   ]
  },
  {
   "cell_type": "code",
   "execution_count": 12,
   "metadata": {},
   "outputs": [
    {
     "data": {
      "text/html": [
       "<div>\n",
       "<style scoped>\n",
       "    .dataframe tbody tr th:only-of-type {\n",
       "        vertical-align: middle;\n",
       "    }\n",
       "\n",
       "    .dataframe tbody tr th {\n",
       "        vertical-align: top;\n",
       "    }\n",
       "\n",
       "    .dataframe thead th {\n",
       "        text-align: right;\n",
       "    }\n",
       "</style>\n",
       "<table border=\"1\" class=\"dataframe\">\n",
       "  <thead>\n",
       "    <tr style=\"text-align: right;\">\n",
       "      <th></th>\n",
       "      <th>Location</th>\n",
       "      <th>FIPS</th>\n",
       "      <th>Mortality Rate, 1980*</th>\n",
       "      <th>Mortality Rate, 1985*</th>\n",
       "      <th>Mortality Rate, 1990*</th>\n",
       "      <th>Mortality Rate, 1995*</th>\n",
       "      <th>Mortality Rate, 2000*</th>\n",
       "      <th>Mortality Rate, 2005*</th>\n",
       "      <th>Mortality Rate, 2010*</th>\n",
       "      <th>Mortality Rate, 2014*</th>\n",
       "      <th>% Change in Mortality Rate, 1980-2014</th>\n",
       "    </tr>\n",
       "  </thead>\n",
       "  <tbody>\n",
       "    <tr>\n",
       "      <th>0</th>\n",
       "      <td>United States</td>\n",
       "      <td>NaN</td>\n",
       "      <td>1.52 (1.44, 1.61)</td>\n",
       "      <td>1.26 (1.20, 1.31)</td>\n",
       "      <td>1.03 (0.98, 1.07)</td>\n",
       "      <td>0.78 (0.75, 0.81)</td>\n",
       "      <td>0.50 (0.48, 0.52)</td>\n",
       "      <td>0.34 (0.33, 0.36)</td>\n",
       "      <td>0.27 (0.26, 0.28)</td>\n",
       "      <td>0.25 (0.24, 0.27)</td>\n",
       "      <td>-83.31 (-84.50, -81.97)</td>\n",
       "    </tr>\n",
       "    <tr>\n",
       "      <th>1</th>\n",
       "      <td>Alabama</td>\n",
       "      <td>1.0</td>\n",
       "      <td>1.46 (1.33, 1.59)</td>\n",
       "      <td>1.41 (1.31, 1.51)</td>\n",
       "      <td>1.45 (1.36, 1.54)</td>\n",
       "      <td>1.20 (1.13, 1.27)</td>\n",
       "      <td>0.79 (0.74, 0.84)</td>\n",
       "      <td>0.53 (0.49, 0.57)</td>\n",
       "      <td>0.41 (0.37, 0.44)</td>\n",
       "      <td>0.36 (0.32, 0.39)</td>\n",
       "      <td>-75.63 (-78.45, -72.33)</td>\n",
       "    </tr>\n",
       "    <tr>\n",
       "      <th>2</th>\n",
       "      <td>Autauga County, Alabama</td>\n",
       "      <td>1001.0</td>\n",
       "      <td>0.95 (0.68, 1.29)</td>\n",
       "      <td>1.01 (0.75, 1.35)</td>\n",
       "      <td>1.20 (0.91, 1.59)</td>\n",
       "      <td>0.94 (0.70, 1.23)</td>\n",
       "      <td>0.57 (0.41, 0.76)</td>\n",
       "      <td>0.40 (0.29, 0.55)</td>\n",
       "      <td>0.31 (0.21, 0.45)</td>\n",
       "      <td>0.31 (0.20, 0.44)</td>\n",
       "      <td>-67.31 (-78.44, -52.54)</td>\n",
       "    </tr>\n",
       "    <tr>\n",
       "      <th>3</th>\n",
       "      <td>Baldwin County, Alabama</td>\n",
       "      <td>1003.0</td>\n",
       "      <td>0.84 (0.63, 1.12)</td>\n",
       "      <td>0.83 (0.65, 1.05)</td>\n",
       "      <td>0.83 (0.66, 1.05)</td>\n",
       "      <td>0.66 (0.52, 0.82)</td>\n",
       "      <td>0.41 (0.31, 0.53)</td>\n",
       "      <td>0.27 (0.20, 0.36)</td>\n",
       "      <td>0.21 (0.16, 0.29)</td>\n",
       "      <td>0.20 (0.14, 0.27)</td>\n",
       "      <td>-76.64 (-84.21, -66.06)</td>\n",
       "    </tr>\n",
       "    <tr>\n",
       "      <th>4</th>\n",
       "      <td>Barbour County, Alabama</td>\n",
       "      <td>1005.0</td>\n",
       "      <td>1.11 (0.82, 1.48)</td>\n",
       "      <td>1.25 (0.95, 1.61)</td>\n",
       "      <td>1.41 (1.06, 1.80)</td>\n",
       "      <td>1.23 (0.93, 1.59)</td>\n",
       "      <td>0.83 (0.61, 1.09)</td>\n",
       "      <td>0.59 (0.42, 0.78)</td>\n",
       "      <td>0.44 (0.31, 0.61)</td>\n",
       "      <td>0.42 (0.28, 0.59)</td>\n",
       "      <td>-62.64 (-74.09, -44.50)</td>\n",
       "    </tr>\n",
       "    <tr>\n",
       "      <th>...</th>\n",
       "      <td>...</td>\n",
       "      <td>...</td>\n",
       "      <td>...</td>\n",
       "      <td>...</td>\n",
       "      <td>...</td>\n",
       "      <td>...</td>\n",
       "      <td>...</td>\n",
       "      <td>...</td>\n",
       "      <td>...</td>\n",
       "      <td>...</td>\n",
       "      <td>...</td>\n",
       "    </tr>\n",
       "    <tr>\n",
       "      <th>3189</th>\n",
       "      <td>Sweetwater County, Wyoming</td>\n",
       "      <td>56037.0</td>\n",
       "      <td>0.61 (0.42, 0.89)</td>\n",
       "      <td>0.50 (0.35, 0.71)</td>\n",
       "      <td>0.48 (0.35, 0.65)</td>\n",
       "      <td>0.38 (0.28, 0.50)</td>\n",
       "      <td>0.22 (0.15, 0.30)</td>\n",
       "      <td>0.15 (0.10, 0.21)</td>\n",
       "      <td>0.11 (0.08, 0.17)</td>\n",
       "      <td>0.10 (0.07, 0.15)</td>\n",
       "      <td>-83.67 (-89.04, -76.32)</td>\n",
       "    </tr>\n",
       "    <tr>\n",
       "      <th>3190</th>\n",
       "      <td>Teton County, Wyoming</td>\n",
       "      <td>56039.0</td>\n",
       "      <td>0.46 (0.31, 0.66)</td>\n",
       "      <td>0.39 (0.27, 0.54)</td>\n",
       "      <td>0.36 (0.26, 0.49)</td>\n",
       "      <td>0.30 (0.22, 0.40)</td>\n",
       "      <td>0.18 (0.13, 0.26)</td>\n",
       "      <td>0.13 (0.09, 0.18)</td>\n",
       "      <td>0.10 (0.07, 0.14)</td>\n",
       "      <td>0.09 (0.06, 0.13)</td>\n",
       "      <td>-80.31 (-86.42, -71.83)</td>\n",
       "    </tr>\n",
       "    <tr>\n",
       "      <th>3191</th>\n",
       "      <td>Uinta County, Wyoming</td>\n",
       "      <td>56041.0</td>\n",
       "      <td>0.62 (0.39, 0.94)</td>\n",
       "      <td>0.54 (0.35, 0.82)</td>\n",
       "      <td>0.52 (0.35, 0.76)</td>\n",
       "      <td>0.42 (0.29, 0.60)</td>\n",
       "      <td>0.25 (0.16, 0.36)</td>\n",
       "      <td>0.17 (0.10, 0.25)</td>\n",
       "      <td>0.12 (0.07, 0.19)</td>\n",
       "      <td>0.11 (0.06, 0.17)</td>\n",
       "      <td>-82.22 (-88.76, -72.65)</td>\n",
       "    </tr>\n",
       "    <tr>\n",
       "      <th>3192</th>\n",
       "      <td>Washakie County, Wyoming</td>\n",
       "      <td>56043.0</td>\n",
       "      <td>0.55 (0.36, 0.83)</td>\n",
       "      <td>0.48 (0.32, 0.71)</td>\n",
       "      <td>0.47 (0.33, 0.65)</td>\n",
       "      <td>0.38 (0.27, 0.53)</td>\n",
       "      <td>0.22 (0.14, 0.32)</td>\n",
       "      <td>0.15 (0.09, 0.22)</td>\n",
       "      <td>0.10 (0.06, 0.16)</td>\n",
       "      <td>0.09 (0.06, 0.15)</td>\n",
       "      <td>-83.14 (-89.31, -74.05)</td>\n",
       "    </tr>\n",
       "    <tr>\n",
       "      <th>3193</th>\n",
       "      <td>Weston County, Wyoming</td>\n",
       "      <td>56045.0</td>\n",
       "      <td>0.54 (0.36, 0.81)</td>\n",
       "      <td>0.48 (0.33, 0.70)</td>\n",
       "      <td>0.47 (0.33, 0.65)</td>\n",
       "      <td>0.38 (0.28, 0.52)</td>\n",
       "      <td>0.23 (0.15, 0.33)</td>\n",
       "      <td>0.15 (0.10, 0.23)</td>\n",
       "      <td>0.11 (0.07, 0.16)</td>\n",
       "      <td>0.10 (0.06, 0.15)</td>\n",
       "      <td>-81.22 (-86.59, -73.01)</td>\n",
       "    </tr>\n",
       "  </tbody>\n",
       "</table>\n",
       "<p>3194 rows × 11 columns</p>\n",
       "</div>"
      ],
      "text/plain": [
       "                        Location     FIPS Mortality Rate, 1980*  \\\n",
       "0                  United States      NaN     1.52 (1.44, 1.61)   \n",
       "1                        Alabama      1.0     1.46 (1.33, 1.59)   \n",
       "2        Autauga County, Alabama   1001.0     0.95 (0.68, 1.29)   \n",
       "3        Baldwin County, Alabama   1003.0     0.84 (0.63, 1.12)   \n",
       "4        Barbour County, Alabama   1005.0     1.11 (0.82, 1.48)   \n",
       "...                          ...      ...                   ...   \n",
       "3189  Sweetwater County, Wyoming  56037.0     0.61 (0.42, 0.89)   \n",
       "3190       Teton County, Wyoming  56039.0     0.46 (0.31, 0.66)   \n",
       "3191       Uinta County, Wyoming  56041.0     0.62 (0.39, 0.94)   \n",
       "3192    Washakie County, Wyoming  56043.0     0.55 (0.36, 0.83)   \n",
       "3193      Weston County, Wyoming  56045.0     0.54 (0.36, 0.81)   \n",
       "\n",
       "     Mortality Rate, 1985* Mortality Rate, 1990* Mortality Rate, 1995*  \\\n",
       "0        1.26 (1.20, 1.31)     1.03 (0.98, 1.07)     0.78 (0.75, 0.81)   \n",
       "1        1.41 (1.31, 1.51)     1.45 (1.36, 1.54)     1.20 (1.13, 1.27)   \n",
       "2        1.01 (0.75, 1.35)     1.20 (0.91, 1.59)     0.94 (0.70, 1.23)   \n",
       "3        0.83 (0.65, 1.05)     0.83 (0.66, 1.05)     0.66 (0.52, 0.82)   \n",
       "4        1.25 (0.95, 1.61)     1.41 (1.06, 1.80)     1.23 (0.93, 1.59)   \n",
       "...                    ...                   ...                   ...   \n",
       "3189     0.50 (0.35, 0.71)     0.48 (0.35, 0.65)     0.38 (0.28, 0.50)   \n",
       "3190     0.39 (0.27, 0.54)     0.36 (0.26, 0.49)     0.30 (0.22, 0.40)   \n",
       "3191     0.54 (0.35, 0.82)     0.52 (0.35, 0.76)     0.42 (0.29, 0.60)   \n",
       "3192     0.48 (0.32, 0.71)     0.47 (0.33, 0.65)     0.38 (0.27, 0.53)   \n",
       "3193     0.48 (0.33, 0.70)     0.47 (0.33, 0.65)     0.38 (0.28, 0.52)   \n",
       "\n",
       "     Mortality Rate, 2000* Mortality Rate, 2005* Mortality Rate, 2010*  \\\n",
       "0        0.50 (0.48, 0.52)     0.34 (0.33, 0.36)     0.27 (0.26, 0.28)   \n",
       "1        0.79 (0.74, 0.84)     0.53 (0.49, 0.57)     0.41 (0.37, 0.44)   \n",
       "2        0.57 (0.41, 0.76)     0.40 (0.29, 0.55)     0.31 (0.21, 0.45)   \n",
       "3        0.41 (0.31, 0.53)     0.27 (0.20, 0.36)     0.21 (0.16, 0.29)   \n",
       "4        0.83 (0.61, 1.09)     0.59 (0.42, 0.78)     0.44 (0.31, 0.61)   \n",
       "...                    ...                   ...                   ...   \n",
       "3189     0.22 (0.15, 0.30)     0.15 (0.10, 0.21)     0.11 (0.08, 0.17)   \n",
       "3190     0.18 (0.13, 0.26)     0.13 (0.09, 0.18)     0.10 (0.07, 0.14)   \n",
       "3191     0.25 (0.16, 0.36)     0.17 (0.10, 0.25)     0.12 (0.07, 0.19)   \n",
       "3192     0.22 (0.14, 0.32)     0.15 (0.09, 0.22)     0.10 (0.06, 0.16)   \n",
       "3193     0.23 (0.15, 0.33)     0.15 (0.10, 0.23)     0.11 (0.07, 0.16)   \n",
       "\n",
       "     Mortality Rate, 2014* % Change in Mortality Rate, 1980-2014  \n",
       "0        0.25 (0.24, 0.27)               -83.31 (-84.50, -81.97)  \n",
       "1        0.36 (0.32, 0.39)               -75.63 (-78.45, -72.33)  \n",
       "2        0.31 (0.20, 0.44)               -67.31 (-78.44, -52.54)  \n",
       "3        0.20 (0.14, 0.27)               -76.64 (-84.21, -66.06)  \n",
       "4        0.42 (0.28, 0.59)               -62.64 (-74.09, -44.50)  \n",
       "...                    ...                                   ...  \n",
       "3189     0.10 (0.07, 0.15)               -83.67 (-89.04, -76.32)  \n",
       "3190     0.09 (0.06, 0.13)               -80.31 (-86.42, -71.83)  \n",
       "3191     0.11 (0.06, 0.17)               -82.22 (-88.76, -72.65)  \n",
       "3192     0.09 (0.06, 0.15)               -83.14 (-89.31, -74.05)  \n",
       "3193     0.10 (0.06, 0.15)               -81.22 (-86.59, -73.01)  \n",
       "\n",
       "[3194 rows x 11 columns]"
      ]
     },
     "execution_count": 12,
     "metadata": {},
     "output_type": "execute_result"
    }
   ],
   "source": [
    "sheets = pd.read_excel('../data/IHME_USA_COUNTY_INFECT_DIS_MORT_1980_2014_NATIONAL_Y2018M03D27.XLSX',\n",
    "                       sheet_name=None, header=1, skipfooter=2)\n",
    "sheets['Tuberculosis']"
   ]
  },
  {
   "cell_type": "code",
   "execution_count": 13,
   "metadata": {},
   "outputs": [
    {
     "data": {
      "text/plain": [
       "dict_keys(['Tuberculosis', 'HIV AIDS', 'Diarrheal diseases', 'Lower respiratory infections', 'Meningitis', 'Hepatitis'])"
      ]
     },
     "execution_count": 13,
     "metadata": {},
     "output_type": "execute_result"
    }
   ],
   "source": [
    "sheets.keys()"
   ]
  },
  {
   "cell_type": "markdown",
   "metadata": {},
   "source": [
    "Now we're going to define a function that can get the table for a particular disease and year, converted to a number for computational usability:"
   ]
  },
  {
   "cell_type": "code",
   "execution_count": 15,
   "metadata": {},
   "outputs": [],
   "source": [
    "def state_mortality(disease, year=2014):\n",
    "    df = sheets[disease]\n",
    "    df = df.loc[df['FIPS'] < 100, ['FIPS', f'Mortality Rate, {year}*']]\n",
    "    df['Mortality'] = df.iloc[:, 1].str.replace(r'\\s*\\(.+\\)', '', regex=True).astype('f8')\n",
    "    return df"
   ]
  },
  {
   "cell_type": "markdown",
   "metadata": {},
   "source": [
    "### Meningitis\n",
    "\n",
    "Our first analysis is for meningitis:"
   ]
  },
  {
   "cell_type": "code",
   "execution_count": 17,
   "metadata": {},
   "outputs": [
    {
     "data": {
      "text/html": [
       "<div>\n",
       "<style scoped>\n",
       "    .dataframe tbody tr th:only-of-type {\n",
       "        vertical-align: middle;\n",
       "    }\n",
       "\n",
       "    .dataframe tbody tr th {\n",
       "        vertical-align: top;\n",
       "    }\n",
       "\n",
       "    .dataframe thead th {\n",
       "        text-align: right;\n",
       "    }\n",
       "</style>\n",
       "<table border=\"1\" class=\"dataframe\">\n",
       "  <thead>\n",
       "    <tr style=\"text-align: right;\">\n",
       "      <th></th>\n",
       "      <th>FIPS</th>\n",
       "      <th>Mortality Rate, 2014*</th>\n",
       "      <th>Mortality</th>\n",
       "    </tr>\n",
       "  </thead>\n",
       "  <tbody>\n",
       "    <tr>\n",
       "      <th>1</th>\n",
       "      <td>1.0</td>\n",
       "      <td>0.58 (0.54, 0.64)</td>\n",
       "      <td>0.58</td>\n",
       "    </tr>\n",
       "    <tr>\n",
       "      <th>69</th>\n",
       "      <td>2.0</td>\n",
       "      <td>0.43 (0.33, 0.56)</td>\n",
       "      <td>0.43</td>\n",
       "    </tr>\n",
       "    <tr>\n",
       "      <th>99</th>\n",
       "      <td>4.0</td>\n",
       "      <td>0.43 (0.40, 0.47)</td>\n",
       "      <td>0.43</td>\n",
       "    </tr>\n",
       "    <tr>\n",
       "      <th>115</th>\n",
       "      <td>5.0</td>\n",
       "      <td>0.52 (0.47, 0.58)</td>\n",
       "      <td>0.52</td>\n",
       "    </tr>\n",
       "    <tr>\n",
       "      <th>191</th>\n",
       "      <td>6.0</td>\n",
       "      <td>0.31 (0.29, 0.33)</td>\n",
       "      <td>0.31</td>\n",
       "    </tr>\n",
       "  </tbody>\n",
       "</table>\n",
       "</div>"
      ],
      "text/plain": [
       "     FIPS Mortality Rate, 2014*  Mortality\n",
       "1     1.0     0.58 (0.54, 0.64)       0.58\n",
       "69    2.0     0.43 (0.33, 0.56)       0.43\n",
       "99    4.0     0.43 (0.40, 0.47)       0.43\n",
       "115   5.0     0.52 (0.47, 0.58)       0.52\n",
       "191   6.0     0.31 (0.29, 0.33)       0.31"
      ]
     },
     "execution_count": 17,
     "metadata": {},
     "output_type": "execute_result"
    }
   ],
   "source": [
    "mg = state_mortality('Meningitis')\n",
    "mg.head()"
   ]
  },
  {
   "cell_type": "markdown",
   "metadata": {},
   "source": [
    "Let's peek at the distribution of meningitis mortality:"
   ]
  },
  {
   "cell_type": "code",
   "execution_count": 18,
   "metadata": {},
   "outputs": [
    {
     "data": {
      "text/plain": [
       "<seaborn.axisgrid.FacetGrid at 0x7f000868ee50>"
      ]
     },
     "execution_count": 18,
     "metadata": {},
     "output_type": "execute_result"
    },
    {
     "data": {
      "image/png": "[encoded data removed]",
      "text/plain": [
       "<Figure size 360x360 with 1 Axes>"
      ]
     },
     "metadata": {
      "needs_background": "light"
     },
     "output_type": "display_data"
    }
   ],
   "source": [
    "sns.displot(x='Mortality', data=mg)"
   ]
  },
  {
   "cell_type": "code",
   "execution_count": 38,
   "metadata": {},
   "outputs": [
    {
     "data": {
      "text/plain": [
       "count    51.000000\n",
       "mean      0.415490\n",
       "std       0.091985\n",
       "min       0.270000\n",
       "25%       0.345000\n",
       "50%       0.400000\n",
       "75%       0.470000\n",
       "max       0.660000\n",
       "Name: Mortality, dtype: float64"
      ]
     },
     "execution_count": 38,
     "metadata": {},
     "output_type": "execute_result"
    }
   ],
   "source": [
    "mg['Mortality'].describe()"
   ]
  },
  {
   "cell_type": "markdown",
   "metadata": {},
   "source": [
    "How does meningitis mortality relate to poverty rate?\n",
    "\n",
    "First, join the tables:"
   ]
  },
  {
   "cell_type": "code",
   "execution_count": 19,
   "metadata": {},
   "outputs": [
    {
     "data": {
      "text/html": [
       "<div>\n",
       "<style scoped>\n",
       "    .dataframe tbody tr th:only-of-type {\n",
       "        vertical-align: middle;\n",
       "    }\n",
       "\n",
       "    .dataframe tbody tr th {\n",
       "        vertical-align: top;\n",
       "    }\n",
       "\n",
       "    .dataframe thead th {\n",
       "        text-align: right;\n",
       "    }\n",
       "</style>\n",
       "<table border=\"1\" class=\"dataframe\">\n",
       "  <thead>\n",
       "    <tr style=\"text-align: right;\">\n",
       "      <th></th>\n",
       "      <th>FIPS</th>\n",
       "      <th>Mortality Rate, 2014*</th>\n",
       "      <th>Mortality</th>\n",
       "      <th>NAME</th>\n",
       "      <th>TotalHouseholds</th>\n",
       "      <th>HouseholdsBelowPoverty</th>\n",
       "      <th>PovertyRate</th>\n",
       "    </tr>\n",
       "  </thead>\n",
       "  <tbody>\n",
       "    <tr>\n",
       "      <th>1</th>\n",
       "      <td>1.0</td>\n",
       "      <td>0.58 (0.54, 0.64)</td>\n",
       "      <td>0.58</td>\n",
       "      <td>Alabama</td>\n",
       "      <td>1048560.0</td>\n",
       "      <td>281052.0</td>\n",
       "      <td>0.268036</td>\n",
       "    </tr>\n",
       "    <tr>\n",
       "      <th>69</th>\n",
       "      <td>2.0</td>\n",
       "      <td>0.43 (0.33, 0.56)</td>\n",
       "      <td>0.43</td>\n",
       "      <td>Alaska</td>\n",
       "      <td>179242.0</td>\n",
       "      <td>23963.0</td>\n",
       "      <td>0.133691</td>\n",
       "    </tr>\n",
       "    <tr>\n",
       "      <th>99</th>\n",
       "      <td>4.0</td>\n",
       "      <td>0.43 (0.40, 0.47)</td>\n",
       "      <td>0.43</td>\n",
       "      <td>Arizona</td>\n",
       "      <td>1532525.0</td>\n",
       "      <td>385737.0</td>\n",
       "      <td>0.251700</td>\n",
       "    </tr>\n",
       "    <tr>\n",
       "      <th>115</th>\n",
       "      <td>5.0</td>\n",
       "      <td>0.52 (0.47, 0.58)</td>\n",
       "      <td>0.52</td>\n",
       "      <td>Arkansas</td>\n",
       "      <td>663036.0</td>\n",
       "      <td>179070.0</td>\n",
       "      <td>0.270076</td>\n",
       "    </tr>\n",
       "    <tr>\n",
       "      <th>191</th>\n",
       "      <td>6.0</td>\n",
       "      <td>0.31 (0.29, 0.33)</td>\n",
       "      <td>0.31</td>\n",
       "      <td>California</td>\n",
       "      <td>8778017.0</td>\n",
       "      <td>1945049.0</td>\n",
       "      <td>0.221582</td>\n",
       "    </tr>\n",
       "  </tbody>\n",
       "</table>\n",
       "</div>"
      ],
      "text/plain": [
       "     FIPS Mortality Rate, 2014*  Mortality        NAME  TotalHouseholds  \\\n",
       "1     1.0     0.58 (0.54, 0.64)       0.58     Alabama        1048560.0   \n",
       "69    2.0     0.43 (0.33, 0.56)       0.43      Alaska         179242.0   \n",
       "99    4.0     0.43 (0.40, 0.47)       0.43     Arizona        1532525.0   \n",
       "115   5.0     0.52 (0.47, 0.58)       0.52    Arkansas         663036.0   \n",
       "191   6.0     0.31 (0.29, 0.33)       0.31  California        8778017.0   \n",
       "\n",
       "     HouseholdsBelowPoverty  PovertyRate  \n",
       "1                  281052.0     0.268036  \n",
       "69                  23963.0     0.133691  \n",
       "99                 385737.0     0.251700  \n",
       "115                179070.0     0.270076  \n",
       "191               1945049.0     0.221582  "
      ]
     },
     "execution_count": 19,
     "metadata": {},
     "output_type": "execute_result"
    }
   ],
   "source": [
    "mg_pov = mg.join(state_pop, on='FIPS')\n",
    "mg_pov.head()"
   ]
  },
  {
   "cell_type": "markdown",
   "metadata": {},
   "source": [
    "Now, a scatter plot:"
   ]
  },
  {
   "cell_type": "code",
   "execution_count": 20,
   "metadata": {},
   "outputs": [
    {
     "data": {
      "text/plain": [
       "<AxesSubplot:xlabel='PovertyRate', ylabel='Mortality'>"
      ]
     },
     "execution_count": 20,
     "metadata": {},
     "output_type": "execute_result"
    },
    {
     "data": {
      "image/png": "[encoded data removed]",
      "text/plain": [
       "<Figure size 432x288 with 1 Axes>"
      ]
     },
     "metadata": {
      "needs_background": "light"
     },
     "output_type": "display_data"
    }
   ],
   "source": [
    "sns.regplot(x='PovertyRate', y='Mortality', data=mg_pov)"
   ]
  },
  {
   "cell_type": "markdown",
   "metadata": {},
   "source": [
    "This looks positively correlated!"
   ]
  },
  {
   "cell_type": "markdown",
   "metadata": {},
   "source": [
    "### Diarrheal diseases"
   ]
  },
  {
   "cell_type": "code",
   "execution_count": 23,
   "metadata": {},
   "outputs": [
    {
     "data": {
      "text/html": [
       "<div>\n",
       "<style scoped>\n",
       "    .dataframe tbody tr th:only-of-type {\n",
       "        vertical-align: middle;\n",
       "    }\n",
       "\n",
       "    .dataframe tbody tr th {\n",
       "        vertical-align: top;\n",
       "    }\n",
       "\n",
       "    .dataframe thead th {\n",
       "        text-align: right;\n",
       "    }\n",
       "</style>\n",
       "<table border=\"1\" class=\"dataframe\">\n",
       "  <thead>\n",
       "    <tr style=\"text-align: right;\">\n",
       "      <th></th>\n",
       "      <th>FIPS</th>\n",
       "      <th>Mortality Rate, 2014*</th>\n",
       "      <th>Mortality</th>\n",
       "    </tr>\n",
       "  </thead>\n",
       "  <tbody>\n",
       "    <tr>\n",
       "      <th>1</th>\n",
       "      <td>1.0</td>\n",
       "      <td>2.41 (0.89, 2.70)</td>\n",
       "      <td>2.41</td>\n",
       "    </tr>\n",
       "    <tr>\n",
       "      <th>69</th>\n",
       "      <td>2.0</td>\n",
       "      <td>1.34 (0.50, 1.78)</td>\n",
       "      <td>1.34</td>\n",
       "    </tr>\n",
       "    <tr>\n",
       "      <th>99</th>\n",
       "      <td>4.0</td>\n",
       "      <td>2.55 (0.90, 2.89)</td>\n",
       "      <td>2.55</td>\n",
       "    </tr>\n",
       "    <tr>\n",
       "      <th>115</th>\n",
       "      <td>5.0</td>\n",
       "      <td>2.02 (0.71, 2.31)</td>\n",
       "      <td>2.02</td>\n",
       "    </tr>\n",
       "    <tr>\n",
       "      <th>191</th>\n",
       "      <td>6.0</td>\n",
       "      <td>2.21 (0.78, 2.45)</td>\n",
       "      <td>2.21</td>\n",
       "    </tr>\n",
       "  </tbody>\n",
       "</table>\n",
       "</div>"
      ],
      "text/plain": [
       "     FIPS Mortality Rate, 2014*  Mortality\n",
       "1     1.0     2.41 (0.89, 2.70)       2.41\n",
       "69    2.0     1.34 (0.50, 1.78)       1.34\n",
       "99    4.0     2.55 (0.90, 2.89)       2.55\n",
       "115   5.0     2.02 (0.71, 2.31)       2.02\n",
       "191   6.0     2.21 (0.78, 2.45)       2.21"
      ]
     },
     "execution_count": 23,
     "metadata": {},
     "output_type": "execute_result"
    }
   ],
   "source": [
    "dd = state_mortality('Diarrheal diseases')\n",
    "dd.head()"
   ]
  },
  {
   "cell_type": "markdown",
   "metadata": {},
   "source": [
    "Always look at our outcome distributions:"
   ]
  },
  {
   "cell_type": "code",
   "execution_count": 24,
   "metadata": {},
   "outputs": [
    {
     "data": {
      "text/plain": [
       "<seaborn.axisgrid.FacetGrid at 0x7f0007f86750>"
      ]
     },
     "execution_count": 24,
     "metadata": {},
     "output_type": "execute_result"
    },
    {
     "data": {
      "image/png": "[encoded data removed]",
      "text/plain": [
       "<Figure size 360x360 with 1 Axes>"
      ]
     },
     "metadata": {
      "needs_background": "light"
     },
     "output_type": "display_data"
    }
   ],
   "source": [
    "sns.displot(x='Mortality', data=dd)"
   ]
  },
  {
   "cell_type": "code",
   "execution_count": 25,
   "metadata": {},
   "outputs": [
    {
     "data": {
      "text/html": [
       "<div>\n",
       "<style scoped>\n",
       "    .dataframe tbody tr th:only-of-type {\n",
       "        vertical-align: middle;\n",
       "    }\n",
       "\n",
       "    .dataframe tbody tr th {\n",
       "        vertical-align: top;\n",
       "    }\n",
       "\n",
       "    .dataframe thead th {\n",
       "        text-align: right;\n",
       "    }\n",
       "</style>\n",
       "<table border=\"1\" class=\"dataframe\">\n",
       "  <thead>\n",
       "    <tr style=\"text-align: right;\">\n",
       "      <th></th>\n",
       "      <th>FIPS</th>\n",
       "      <th>Mortality</th>\n",
       "    </tr>\n",
       "  </thead>\n",
       "  <tbody>\n",
       "    <tr>\n",
       "      <th>count</th>\n",
       "      <td>51.000000</td>\n",
       "      <td>51.000000</td>\n",
       "    </tr>\n",
       "    <tr>\n",
       "      <th>mean</th>\n",
       "      <td>28.960784</td>\n",
       "      <td>2.356667</td>\n",
       "    </tr>\n",
       "    <tr>\n",
       "      <th>std</th>\n",
       "      <td>15.832828</td>\n",
       "      <td>0.714162</td>\n",
       "    </tr>\n",
       "    <tr>\n",
       "      <th>min</th>\n",
       "      <td>1.000000</td>\n",
       "      <td>0.490000</td>\n",
       "    </tr>\n",
       "    <tr>\n",
       "      <th>25%</th>\n",
       "      <td>16.500000</td>\n",
       "      <td>1.810000</td>\n",
       "    </tr>\n",
       "    <tr>\n",
       "      <th>50%</th>\n",
       "      <td>29.000000</td>\n",
       "      <td>2.310000</td>\n",
       "    </tr>\n",
       "    <tr>\n",
       "      <th>75%</th>\n",
       "      <td>41.500000</td>\n",
       "      <td>2.850000</td>\n",
       "    </tr>\n",
       "    <tr>\n",
       "      <th>max</th>\n",
       "      <td>56.000000</td>\n",
       "      <td>4.080000</td>\n",
       "    </tr>\n",
       "  </tbody>\n",
       "</table>\n",
       "</div>"
      ],
      "text/plain": [
       "            FIPS  Mortality\n",
       "count  51.000000  51.000000\n",
       "mean   28.960784   2.356667\n",
       "std    15.832828   0.714162\n",
       "min     1.000000   0.490000\n",
       "25%    16.500000   1.810000\n",
       "50%    29.000000   2.310000\n",
       "75%    41.500000   2.850000\n",
       "max    56.000000   4.080000"
      ]
     },
     "execution_count": 25,
     "metadata": {},
     "output_type": "execute_result"
    }
   ],
   "source": [
    "dd.describe()"
   ]
  },
  {
   "cell_type": "markdown",
   "metadata": {},
   "source": [
    "And join and analyze:"
   ]
  },
  {
   "cell_type": "code",
   "execution_count": 26,
   "metadata": {},
   "outputs": [
    {
     "data": {
      "text/plain": [
       "<AxesSubplot:xlabel='PovertyRate', ylabel='Mortality'>"
      ]
     },
     "execution_count": 26,
     "metadata": {},
     "output_type": "execute_result"
    },
    {
     "data": {
      "image/png": "[encoded data removed]",
      "text/plain": [
       "<Figure size 432x288 with 1 Axes>"
      ]
     },
     "metadata": {
      "needs_background": "light"
     },
     "output_type": "display_data"
    }
   ],
   "source": [
    "dd_pov = dd.join(state_pop, on='FIPS')\n",
    "sns.regplot(x='PovertyRate', y='Mortality', data=dd_pov)"
   ]
  },
  {
   "cell_type": "markdown",
   "metadata": {},
   "source": [
    "No discernible correlation."
   ]
  },
  {
   "cell_type": "markdown",
   "metadata": {},
   "source": [
    "## Correlations\n",
    "\n",
    "Now we're going to compute correlations and bootstrapped confidence intervals.\n",
    "\n",
    "I'm going to write a function to do this:"
   ]
  },
  {
   "cell_type": "code",
   "execution_count": 30,
   "metadata": {},
   "outputs": [],
   "source": [
    "def correlation_boot_ci(data, xcol, ycol, NBOOT=10000):\n",
    "    cor = data[xcol].corr(data[ycol])\n",
    "    corrs = np.empty(NBOOT)\n",
    "    for i in range(NBOOT):\n",
    "        samp = data.sample(n=len(data), replace=True)\n",
    "        corrs[i] = samp[xcol].corr(samp[ycol])\n",
    "    return cor, np.quantile(corrs, [0.025, 0.975])"
   ]
  },
  {
   "cell_type": "markdown",
   "metadata": {},
   "source": [
    "What does that look like for meningitis?"
   ]
  },
  {
   "cell_type": "code",
   "execution_count": 28,
   "metadata": {},
   "outputs": [
    {
     "data": {
      "text/plain": [
       "(0.7666266512876152, array([0.62785306, 0.86208167]))"
      ]
     },
     "execution_count": 28,
     "metadata": {},
     "output_type": "execute_result"
    }
   ],
   "source": [
    "correlation_boot_ci(mg_pov, 'PovertyRate', 'Mortality')"
   ]
  },
  {
   "cell_type": "markdown",
   "metadata": {},
   "source": [
    "That is a reasonably strong correlation, and the confidence interval is pretty far away from zero."
   ]
  },
  {
   "cell_type": "markdown",
   "metadata": {},
   "source": [
    "And diarrehal diseases:"
   ]
  },
  {
   "cell_type": "code",
   "execution_count": 31,
   "metadata": {},
   "outputs": [
    {
     "data": {
      "text/plain": [
       "(-0.005990448531004361, array([-0.28940933,  0.27710556]))"
      ]
     },
     "execution_count": 31,
     "metadata": {},
     "output_type": "execute_result"
    }
   ],
   "source": [
    "correlation_boot_ci(dd_pov, 'PovertyRate', 'Mortality')"
   ]
  },
  {
   "cell_type": "markdown",
   "metadata": {},
   "source": [
    "This reinforces (and quantifies) our previous observation that they do not seem correlated."
   ]
  },
  {
   "cell_type": "markdown",
   "metadata": {},
   "source": [
    "## Infant Mortality\n",
    "\n",
    "Now we're going to get infant mortality data."
   ]
  },
  {
   "cell_type": "code",
   "execution_count": 32,
   "metadata": {},
   "outputs": [
    {
     "data": {
      "text/html": [
       "<div>\n",
       "<style scoped>\n",
       "    .dataframe tbody tr th:only-of-type {\n",
       "        vertical-align: middle;\n",
       "    }\n",
       "\n",
       "    .dataframe tbody tr th {\n",
       "        vertical-align: top;\n",
       "    }\n",
       "\n",
       "    .dataframe thead th {\n",
       "        text-align: right;\n",
       "    }\n",
       "</style>\n",
       "<table border=\"1\" class=\"dataframe\">\n",
       "  <thead>\n",
       "    <tr style=\"text-align: right;\">\n",
       "      <th></th>\n",
       "      <th>YEAR</th>\n",
       "      <th>STATE</th>\n",
       "      <th>RATE</th>\n",
       "      <th>DEATHS</th>\n",
       "      <th>URL</th>\n",
       "    </tr>\n",
       "  </thead>\n",
       "  <tbody>\n",
       "    <tr>\n",
       "      <th>0</th>\n",
       "      <td>2019</td>\n",
       "      <td>AL</td>\n",
       "      <td>7.89</td>\n",
       "      <td>449</td>\n",
       "      <td>/nchs/pressroom/states/alabama/al.htm</td>\n",
       "    </tr>\n",
       "    <tr>\n",
       "      <th>1</th>\n",
       "      <td>2019</td>\n",
       "      <td>AK</td>\n",
       "      <td>4.81</td>\n",
       "      <td>48</td>\n",
       "      <td>/nchs/pressroom/states/alaska/ak.htm</td>\n",
       "    </tr>\n",
       "    <tr>\n",
       "      <th>2</th>\n",
       "      <td>2019</td>\n",
       "      <td>AZ</td>\n",
       "      <td>5.24</td>\n",
       "      <td>429</td>\n",
       "      <td>/nchs/pressroom/states/arizona/az.htm</td>\n",
       "    </tr>\n",
       "    <tr>\n",
       "      <th>3</th>\n",
       "      <td>2019</td>\n",
       "      <td>AR</td>\n",
       "      <td>6.9</td>\n",
       "      <td>251</td>\n",
       "      <td>/nchs/pressroom/states/arkansas/ar.htm</td>\n",
       "    </tr>\n",
       "    <tr>\n",
       "      <th>4</th>\n",
       "      <td>2019</td>\n",
       "      <td>CA</td>\n",
       "      <td>4.06</td>\n",
       "      <td>1879</td>\n",
       "      <td>/nchs/pressroom/states/california/ca.htm</td>\n",
       "    </tr>\n",
       "  </tbody>\n",
       "</table>\n",
       "</div>"
      ],
      "text/plain": [
       "   YEAR STATE  RATE  DEATHS                                       URL\n",
       "0  2019    AL  7.89     449     /nchs/pressroom/states/alabama/al.htm\n",
       "1  2019    AK  4.81      48      /nchs/pressroom/states/alaska/ak.htm\n",
       "2  2019    AZ  5.24     429     /nchs/pressroom/states/arizona/az.htm\n",
       "3  2019    AR   6.9     251    /nchs/pressroom/states/arkansas/ar.htm\n",
       "4  2019    CA  4.06    1879  /nchs/pressroom/states/california/ca.htm"
      ]
     },
     "execution_count": 32,
     "metadata": {},
     "output_type": "execute_result"
    }
   ],
   "source": [
    "imort = pd.read_csv('../data/infant-mortality.csv')\n",
    "imort.head()"
   ]
  },
  {
   "cell_type": "code",
   "execution_count": 33,
   "metadata": {},
   "outputs": [
    {
     "data": {
      "text/html": [
       "<div>\n",
       "<style scoped>\n",
       "    .dataframe tbody tr th:only-of-type {\n",
       "        vertical-align: middle;\n",
       "    }\n",
       "\n",
       "    .dataframe tbody tr th {\n",
       "        vertical-align: top;\n",
       "    }\n",
       "\n",
       "    .dataframe thead th {\n",
       "        text-align: right;\n",
       "    }\n",
       "</style>\n",
       "<table border=\"1\" class=\"dataframe\">\n",
       "  <thead>\n",
       "    <tr style=\"text-align: right;\">\n",
       "      <th></th>\n",
       "      <th>abbr</th>\n",
       "      <th>fips</th>\n",
       "    </tr>\n",
       "  </thead>\n",
       "  <tbody>\n",
       "    <tr>\n",
       "      <th>0</th>\n",
       "      <td>AL</td>\n",
       "      <td>1</td>\n",
       "    </tr>\n",
       "    <tr>\n",
       "      <th>1</th>\n",
       "      <td>AK</td>\n",
       "      <td>2</td>\n",
       "    </tr>\n",
       "    <tr>\n",
       "      <th>2</th>\n",
       "      <td>AZ</td>\n",
       "      <td>4</td>\n",
       "    </tr>\n",
       "    <tr>\n",
       "      <th>3</th>\n",
       "      <td>AR</td>\n",
       "      <td>5</td>\n",
       "    </tr>\n",
       "    <tr>\n",
       "      <th>4</th>\n",
       "      <td>CA</td>\n",
       "      <td>6</td>\n",
       "    </tr>\n",
       "  </tbody>\n",
       "</table>\n",
       "</div>"
      ],
      "text/plain": [
       "  abbr  fips\n",
       "0   AL     1\n",
       "1   AK     2\n",
       "2   AZ     4\n",
       "3   AR     5\n",
       "4   CA     6"
      ]
     },
     "execution_count": 33,
     "metadata": {},
     "output_type": "execute_result"
    }
   ],
   "source": [
    "state_fips = pd.DataFrame.from_records(\n",
    "    {'abbr': s.abbr, 'fips': int(s.fips)} for s in states.STATES_AND_TERRITORIES\n",
    ")\n",
    "state_fips.head()"
   ]
  },
  {
   "cell_type": "code",
   "execution_count": 34,
   "metadata": {},
   "outputs": [
    {
     "data": {
      "text/html": [
       "<div>\n",
       "<style scoped>\n",
       "    .dataframe tbody tr th:only-of-type {\n",
       "        vertical-align: middle;\n",
       "    }\n",
       "\n",
       "    .dataframe tbody tr th {\n",
       "        vertical-align: top;\n",
       "    }\n",
       "\n",
       "    .dataframe thead th {\n",
       "        text-align: right;\n",
       "    }\n",
       "</style>\n",
       "<table border=\"1\" class=\"dataframe\">\n",
       "  <thead>\n",
       "    <tr style=\"text-align: right;\">\n",
       "      <th></th>\n",
       "      <th>YEAR</th>\n",
       "      <th>STATE</th>\n",
       "      <th>RATE</th>\n",
       "      <th>DEATHS</th>\n",
       "      <th>URL</th>\n",
       "      <th>fips</th>\n",
       "    </tr>\n",
       "  </thead>\n",
       "  <tbody>\n",
       "    <tr>\n",
       "      <th>0</th>\n",
       "      <td>2019</td>\n",
       "      <td>AL</td>\n",
       "      <td>7.89</td>\n",
       "      <td>449</td>\n",
       "      <td>/nchs/pressroom/states/alabama/al.htm</td>\n",
       "      <td>1</td>\n",
       "    </tr>\n",
       "    <tr>\n",
       "      <th>1</th>\n",
       "      <td>2019</td>\n",
       "      <td>AK</td>\n",
       "      <td>4.81</td>\n",
       "      <td>48</td>\n",
       "      <td>/nchs/pressroom/states/alaska/ak.htm</td>\n",
       "      <td>2</td>\n",
       "    </tr>\n",
       "    <tr>\n",
       "      <th>2</th>\n",
       "      <td>2019</td>\n",
       "      <td>AZ</td>\n",
       "      <td>5.24</td>\n",
       "      <td>429</td>\n",
       "      <td>/nchs/pressroom/states/arizona/az.htm</td>\n",
       "      <td>4</td>\n",
       "    </tr>\n",
       "    <tr>\n",
       "      <th>3</th>\n",
       "      <td>2019</td>\n",
       "      <td>AR</td>\n",
       "      <td>6.9</td>\n",
       "      <td>251</td>\n",
       "      <td>/nchs/pressroom/states/arkansas/ar.htm</td>\n",
       "      <td>5</td>\n",
       "    </tr>\n",
       "    <tr>\n",
       "      <th>4</th>\n",
       "      <td>2019</td>\n",
       "      <td>CA</td>\n",
       "      <td>4.06</td>\n",
       "      <td>1879</td>\n",
       "      <td>/nchs/pressroom/states/california/ca.htm</td>\n",
       "      <td>6</td>\n",
       "    </tr>\n",
       "  </tbody>\n",
       "</table>\n",
       "</div>"
      ],
      "text/plain": [
       "   YEAR STATE  RATE  DEATHS                                       URL  fips\n",
       "0  2019    AL  7.89     449     /nchs/pressroom/states/alabama/al.htm     1\n",
       "1  2019    AK  4.81      48      /nchs/pressroom/states/alaska/ak.htm     2\n",
       "2  2019    AZ  5.24     429     /nchs/pressroom/states/arizona/az.htm     4\n",
       "3  2019    AR   6.9     251    /nchs/pressroom/states/arkansas/ar.htm     5\n",
       "4  2019    CA  4.06    1879  /nchs/pressroom/states/california/ca.htm     6"
      ]
     },
     "execution_count": 34,
     "metadata": {},
     "output_type": "execute_result"
    }
   ],
   "source": [
    "imort = imort.join(state_fips.set_index('abbr'), on='STATE')\n",
    "imort.head()"
   ]
  },
  {
   "cell_type": "code",
   "execution_count": 35,
   "metadata": {},
   "outputs": [],
   "source": [
    "mort_rate = imort['RATE'].copy()\n",
    "mort_rate[mort_rate == 'Unreliable'] = None\n",
    "imort['Mortality'] = mort_rate.astype('f4')"
   ]
  },
  {
   "cell_type": "code",
   "execution_count": 36,
   "metadata": {},
   "outputs": [
    {
     "data": {
      "text/html": [
       "<div>\n",
       "<style scoped>\n",
       "    .dataframe tbody tr th:only-of-type {\n",
       "        vertical-align: middle;\n",
       "    }\n",
       "\n",
       "    .dataframe tbody tr th {\n",
       "        vertical-align: top;\n",
       "    }\n",
       "\n",
       "    .dataframe thead th {\n",
       "        text-align: right;\n",
       "    }\n",
       "</style>\n",
       "<table border=\"1\" class=\"dataframe\">\n",
       "  <thead>\n",
       "    <tr style=\"text-align: right;\">\n",
       "      <th></th>\n",
       "      <th>YEAR</th>\n",
       "      <th>STATE</th>\n",
       "      <th>RATE</th>\n",
       "      <th>DEATHS</th>\n",
       "      <th>URL</th>\n",
       "      <th>fips</th>\n",
       "      <th>Mortality</th>\n",
       "      <th>NAME</th>\n",
       "      <th>TotalHouseholds</th>\n",
       "      <th>HouseholdsBelowPoverty</th>\n",
       "      <th>PovertyRate</th>\n",
       "    </tr>\n",
       "  </thead>\n",
       "  <tbody>\n",
       "    <tr>\n",
       "      <th>250</th>\n",
       "      <td>2014</td>\n",
       "      <td>AL</td>\n",
       "      <td>8.67</td>\n",
       "      <td>515</td>\n",
       "      <td>/nchs/pressroom/states/alabama.htm</td>\n",
       "      <td>1</td>\n",
       "      <td>8.67</td>\n",
       "      <td>Alabama</td>\n",
       "      <td>1048560.0</td>\n",
       "      <td>281052.0</td>\n",
       "      <td>0.268036</td>\n",
       "    </tr>\n",
       "    <tr>\n",
       "      <th>251</th>\n",
       "      <td>2014</td>\n",
       "      <td>AK</td>\n",
       "      <td>6.67</td>\n",
       "      <td>76</td>\n",
       "      <td>/nchs/pressroom/states/alaska.htm</td>\n",
       "      <td>2</td>\n",
       "      <td>6.67</td>\n",
       "      <td>Alaska</td>\n",
       "      <td>179242.0</td>\n",
       "      <td>23963.0</td>\n",
       "      <td>0.133691</td>\n",
       "    </tr>\n",
       "    <tr>\n",
       "      <th>252</th>\n",
       "      <td>2014</td>\n",
       "      <td>AZ</td>\n",
       "      <td>6.1</td>\n",
       "      <td>530</td>\n",
       "      <td>/nchs/pressroom/states/arizona.htm</td>\n",
       "      <td>4</td>\n",
       "      <td>6.10</td>\n",
       "      <td>Arizona</td>\n",
       "      <td>1532525.0</td>\n",
       "      <td>385737.0</td>\n",
       "      <td>0.251700</td>\n",
       "    </tr>\n",
       "    <tr>\n",
       "      <th>253</th>\n",
       "      <td>2014</td>\n",
       "      <td>AR</td>\n",
       "      <td>7.48</td>\n",
       "      <td>288</td>\n",
       "      <td>/nchs/pressroom/states/arkansas.htm</td>\n",
       "      <td>5</td>\n",
       "      <td>7.48</td>\n",
       "      <td>Arkansas</td>\n",
       "      <td>663036.0</td>\n",
       "      <td>179070.0</td>\n",
       "      <td>0.270076</td>\n",
       "    </tr>\n",
       "    <tr>\n",
       "      <th>254</th>\n",
       "      <td>2014</td>\n",
       "      <td>CA</td>\n",
       "      <td>4.32</td>\n",
       "      <td>2173</td>\n",
       "      <td>/nchs/pressroom/states/california.htm</td>\n",
       "      <td>6</td>\n",
       "      <td>4.32</td>\n",
       "      <td>California</td>\n",
       "      <td>8778017.0</td>\n",
       "      <td>1945049.0</td>\n",
       "      <td>0.221582</td>\n",
       "    </tr>\n",
       "  </tbody>\n",
       "</table>\n",
       "</div>"
      ],
      "text/plain": [
       "     YEAR STATE  RATE  DEATHS                                    URL  fips  \\\n",
       "250  2014    AL  8.67     515     /nchs/pressroom/states/alabama.htm     1   \n",
       "251  2014    AK  6.67      76      /nchs/pressroom/states/alaska.htm     2   \n",
       "252  2014    AZ   6.1     530     /nchs/pressroom/states/arizona.htm     4   \n",
       "253  2014    AR  7.48     288    /nchs/pressroom/states/arkansas.htm     5   \n",
       "254  2014    CA  4.32    2173  /nchs/pressroom/states/california.htm     6   \n",
       "\n",
       "     Mortality        NAME  TotalHouseholds  HouseholdsBelowPoverty  \\\n",
       "250       8.67     Alabama        1048560.0                281052.0   \n",
       "251       6.67      Alaska         179242.0                 23963.0   \n",
       "252       6.10     Arizona        1532525.0                385737.0   \n",
       "253       7.48    Arkansas         663036.0                179070.0   \n",
       "254       4.32  California        8778017.0               1945049.0   \n",
       "\n",
       "     PovertyRate  \n",
       "250     0.268036  \n",
       "251     0.133691  \n",
       "252     0.251700  \n",
       "253     0.270076  \n",
       "254     0.221582  "
      ]
     },
     "execution_count": 36,
     "metadata": {},
     "output_type": "execute_result"
    }
   ],
   "source": [
    "imort_pov = imort.join(state_pop, on='fips')\n",
    "imort_pov = imort_pov[imort_pov['YEAR'] == 2014]\n",
    "imort_pov.head()"
   ]
  },
  {
   "cell_type": "markdown",
   "metadata": {},
   "source": [
    "How are these related?"
   ]
  },
  {
   "cell_type": "code",
   "execution_count": 37,
   "metadata": {},
   "outputs": [
    {
     "data": {
      "text/plain": [
       "<AxesSubplot:xlabel='PovertyRate', ylabel='Mortality'>"
      ]
     },
     "execution_count": 37,
     "metadata": {},
     "output_type": "execute_result"
    },
    {
     "data": {
      "image/png": "[encoded data removed]",
      "text/plain": [
       "<Figure size 432x288 with 1 Axes>"
      ]
     },
     "metadata": {
      "needs_background": "light"
     },
     "output_type": "display_data"
    }
   ],
   "source": [
    "sns.regplot(x='PovertyRate', y='Mortality', data=imort_pov)"
   ]
  },
  {
   "cell_type": "markdown",
   "metadata": {},
   "source": [
    "And what's that correlation look like?"
   ]
  },
  {
   "cell_type": "code",
   "execution_count": 38,
   "metadata": {},
   "outputs": [
    {
     "data": {
      "text/plain": [
       "(0.6154666128728916, array([0.39738441, 0.78507225]))"
      ]
     },
     "execution_count": 38,
     "metadata": {},
     "output_type": "execute_result"
    }
   ],
   "source": [
    "correlation_boot_ci(imort_pov, 'PovertyRate', 'Mortality')"
   ]
  },
  {
   "cell_type": "markdown",
   "metadata": {},
   "source": [
    "Evidence for a significant correlation."
   ]
  }
 ],
 "metadata": {
  "kernelspec": {
   "display_name": "Python 3",
   "language": "python",
   "name": "python3"
  },
  "language_info": {
   "codemirror_mode": {
    "name": "ipython",
    "version": 3
   },
   "file_extension": ".py",
   "mimetype": "text/x-python",
   "name": "python",
   "nbconvert_exporter": "python",
   "pygments_lexer": "ipython3",
   "version": "3.7.6"
  }
 },
 "nbformat": 4,
 "nbformat_minor": 4
}
