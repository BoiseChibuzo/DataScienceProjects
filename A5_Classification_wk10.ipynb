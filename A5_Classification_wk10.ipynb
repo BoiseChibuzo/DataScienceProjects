{
 "cells": [
  {
   "cell_type": "markdown",
   "id": "e910a8f7",
   "metadata": {},
   "source": [
    "#  Assignment 5"
   ]
  },
  {
   "cell_type": "markdown",
   "id": "b9e66041",
   "metadata": {},
   "source": [
    "## Purpose\n",
    "The purpose of this assignment is to develop and assess the ability to build classifiers and reason about their effectiveness. I am using SciKit-Learn classifiers; and might also make use of statsmodels in some questions."
   ]
  },
  {
   "cell_type": "markdown",
   "id": "f6f2299b",
   "metadata": {},
   "source": [
    "# Setup"
   ]
  },
  {
   "cell_type": "code",
   "execution_count": 1,
   "id": "6f719b5c",
   "metadata": {},
   "outputs": [],
   "source": [
    "import pandas as pd\n",
    "import seaborn as sns\n",
    "import numpy as np\n",
    "import matplotlib.pyplot as plt\n",
    "import statsmodels.api as sm\n",
    "import statsmodels.formula.api as smf\n",
    "from datetime import datetime\n",
    "from datetime import date\n",
    "from dateutil.relativedelta import relativedelta\n",
    "from pandas.tseries.offsets import DateOffset\n",
    "\n",
    "import warnings \n",
    "warnings.filterwarnings(\"ignore\")\n",
    "from sklearn.preprocessing import StandardScaler, FunctionTransformer, OneHotEncoder, PolynomialFeatures\n",
    "from sklearn.metrics import accuracy_score,precision_score,recall_score\n",
    "from sklearn.model_selection import train_test_split\n",
    "from sklearn.pipeline import Pipeline\n",
    "from sklearn.compose import ColumnTransformer, make_column_selector\n",
    "from sklearn.linear_model import LogisticRegression, LogisticRegressionCV\n",
    "from sklearn.ensemble import RandomForestClassifier\n",
    "from sklearn.impute import SimpleImputer"
   ]
  },
  {
   "cell_type": "markdown",
   "id": "13e27290",
   "metadata": {},
   "source": [
    "Load SciKit-Learn algorithms"
   ]
  },
  {
   "cell_type": "code",
   "execution_count": 2,
   "id": "e0c769da",
   "metadata": {},
   "outputs": [],
   "source": [
    "from sklearn.dummy import DummyClassifier\n",
    "from sklearn.naive_bayes import MultinomialNB\n",
    "from sklearn.pipeline import Pipeline, make_pipeline\n",
    "from sklearn.feature_extraction.text import CountVectorizer\n",
    "from sklearn.metrics import accuracy_score, precision_score, recall_score, classification_report\n",
    "import seedbank\n",
    "from sklearn.compose import ColumnTransformer\n",
    "from sklearn.datasets import fetch_openml\n",
    "from sklearn.pipeline import Pipeline\n",
    "from sklearn.impute import SimpleImputer\n",
    "from sklearn.preprocessing import StandardScaler, OneHotEncoder\n",
    "from sklearn.model_selection import train_test_split, GridSearchCV"
   ]
  },
  {
   "cell_type": "markdown",
   "id": "5157930b",
   "metadata": {},
   "source": [
    "Load the data:"
   ]
  },
  {
   "cell_type": "code",
   "execution_count": 3,
   "id": "720b9db7",
   "metadata": {},
   "outputs": [],
   "source": [
    " Sba=pd.read_csv(\"SBAnational (1).csv\",low_memory=False)"
   ]
  },
  {
   "cell_type": "code",
   "execution_count": 4,
   "id": "4e2f1816",
   "metadata": {},
   "outputs": [
    {
     "name": "stdout",
     "output_type": "stream",
     "text": [
      "<class 'pandas.core.frame.DataFrame'>\n",
      "RangeIndex: 899164 entries, 0 to 899163\n",
      "Data columns (total 27 columns):\n",
      " #   Column             Non-Null Count   Dtype  \n",
      "---  ------             --------------   -----  \n",
      " 0   LoanNr_ChkDgt      899164 non-null  int64  \n",
      " 1   Name               899150 non-null  object \n",
      " 2   City               899134 non-null  object \n",
      " 3   State              899150 non-null  object \n",
      " 4   Zip                899164 non-null  int64  \n",
      " 5   Bank               897605 non-null  object \n",
      " 6   BankState          897598 non-null  object \n",
      " 7   NAICS              899164 non-null  int64  \n",
      " 8   ApprovalDate       899164 non-null  object \n",
      " 9   ApprovalFY         899164 non-null  object \n",
      " 10  Term               899164 non-null  int64  \n",
      " 11  NoEmp              899164 non-null  int64  \n",
      " 12  NewExist           899028 non-null  float64\n",
      " 13  CreateJob          899164 non-null  int64  \n",
      " 14  RetainedJob        899164 non-null  int64  \n",
      " 15  FranchiseCode      899164 non-null  int64  \n",
      " 16  UrbanRural         899164 non-null  int64  \n",
      " 17  RevLineCr          894636 non-null  object \n",
      " 18  LowDoc             896582 non-null  object \n",
      " 19  ChgOffDate         162699 non-null  object \n",
      " 20  DisbursementDate   896796 non-null  object \n",
      " 21  DisbursementGross  899164 non-null  object \n",
      " 22  BalanceGross       899164 non-null  object \n",
      " 23  MIS_Status         897167 non-null  object \n",
      " 24  ChgOffPrinGr       899164 non-null  object \n",
      " 25  GrAppv             899164 non-null  object \n",
      " 26  SBA_Appv           899164 non-null  object \n",
      "dtypes: float64(1), int64(9), object(17)\n",
      "memory usage: 185.2+ MB\n"
     ]
    }
   ],
   "source": [
    "Sba.info()\n"
   ]
  },
  {
   "cell_type": "code",
   "execution_count": 5,
   "id": "b67ccd34",
   "metadata": {},
   "outputs": [
    {
     "name": "stdout",
     "output_type": "stream",
     "text": [
      "There are 899164 observations and  27 variables\n"
     ]
    }
   ],
   "source": [
    "observ, var =  Sba.shape\n",
    "\n",
    "print('There are', observ , 'observations and ', var, 'variables')"
   ]
  },
  {
   "cell_type": "markdown",
   "id": "5a2e363e",
   "metadata": {},
   "source": [
    "## Feature Engineering"
   ]
  },
  {
   "cell_type": "markdown",
   "id": "a39d8683",
   "metadata": {},
   "source": [
    "Renaming the MIS_Status column to Loan_Status:"
   ]
  },
  {
   "cell_type": "code",
   "execution_count": 6,
   "id": "2ba34b30",
   "metadata": {},
   "outputs": [],
   "source": [
    "Sba=Sba.rename(columns={\"MIS_Status\":\"Loan_Status\"})"
   ]
  },
  {
   "cell_type": "code",
   "execution_count": 7,
   "id": "815efa7f",
   "metadata": {},
   "outputs": [],
   "source": [
    "Sba.loc[Sba['Loan_Status'].isna() == True, 'Loan_Status'] = (Sba['ChgOffPrinGr'] == '$0.00 ' )\n",
    "\n",
    "Sba.loc[Sba['Loan_Status'] == 1, 'Loan_Status'] = 'P I F' \n",
    "Sba.loc[Sba['Loan_Status'] == 0, 'Loan_Status'] = 'CHGOFF'\n",
    "\n",
    "\n",
    "Sba['Target_var'] = Sba['Loan_Status'] == 'P I F'\n"
   ]
  },
  {
   "cell_type": "markdown",
   "id": "9d053682",
   "metadata": {},
   "source": [
    "Binning the data: a transaction is backed by real estate or not; longer-term loans are backed by real estate by looking at whether the term is at least 240 months or greater:\n"
   ]
  },
  {
   "cell_type": "code",
   "execution_count": 8,
   "id": "0ec3c3c8",
   "metadata": {},
   "outputs": [],
   "source": [
    "def my_bin(estate):\n",
    "    if estate>=240:\n",
    "        return 1\n",
    "    elif estate<240:\n",
    "        return 0\n"
   ]
  },
  {
   "cell_type": "code",
   "execution_count": 9,
   "id": "b184fe53",
   "metadata": {},
   "outputs": [],
   "source": [
    "#Sba[\"estate_backed\"]=pd.Series('empty', Sba.index) \n",
    "#Sba.loc[Sba[\"Term\"]<240, 'estate_backed']=1\n",
    "#Sba.loc[Sba[\"Term\"]>=240,'estate_backed']=0"
   ]
  },
  {
   "cell_type": "code",
   "execution_count": 10,
   "id": "c00e2ff7",
   "metadata": {},
   "outputs": [],
   "source": [
    "Sba[\"estate_backed\"]=Sba[\"Term\"].apply(my_bin)"
   ]
  },
  {
   "cell_type": "code",
   "execution_count": 11,
   "id": "da578e58",
   "metadata": {},
   "outputs": [
    {
     "data": {
      "text/plain": [
       "0    747007\n",
       "1    152157\n",
       "Name: estate_backed, dtype: int64"
      ]
     },
     "execution_count": 11,
     "metadata": {},
     "output_type": "execute_result"
    }
   ],
   "source": [
    "Sba[\"estate_backed\"].value_counts()"
   ]
  },
  {
   "cell_type": "code",
   "execution_count": 12,
   "id": "f9277042",
   "metadata": {},
   "outputs": [],
   "source": [
    "#plt.figure(figsize=(8,6))\n",
    "#plt.title('Distribution of Loans backed by real_estate',fontsize=16)\n",
    "#sns.countplot(Sba['estate_backed'])\n",
    "#plt.show()"
   ]
  },
  {
   "cell_type": "markdown",
   "id": "18acd073",
   "metadata": {},
   "source": [
    "Removing the Dollar sign from the GrAppv and SBA_Appv columns:"
   ]
  },
  {
   "cell_type": "code",
   "execution_count": 13,
   "id": "2635737b",
   "metadata": {},
   "outputs": [],
   "source": [
    "Sba[['GrAppv','SBA_Appv','DisbursementGross']]=Sba[['GrAppv','SBA_Appv','DisbursementGross']].replace({'\\$':\"\",\",\":\"\"},regex=True).astype(float)"
   ]
  },
  {
   "cell_type": "code",
   "execution_count": null,
   "id": "e129b9cc",
   "metadata": {},
   "outputs": [],
   "source": []
  },
  {
   "cell_type": "markdown",
   "id": "02e3a3c3",
   "metadata": {},
   "source": [
    "..Converting to date-time formats:"
   ]
  },
  {
   "cell_type": "code",
   "execution_count": 14,
   "id": "e1555271",
   "metadata": {},
   "outputs": [],
   "source": [
    "Sba[\"DisbursementDate\"]=pd.to_datetime(Sba[\"DisbursementDate\"],format='%d-%b-%y')\n",
    "#Sba[\"DisbursementDate\"]"
   ]
  },
  {
   "cell_type": "markdown",
   "id": "e72889e6",
   "metadata": {},
   "source": [
    "Calculating the loan due date:"
   ]
  },
  {
   "cell_type": "code",
   "execution_count": 15,
   "id": "b145a613",
   "metadata": {},
   "outputs": [],
   "source": [
    "#Sba[\"EndDateLoan\"]=Sba[\"DisbursementDate\"] + Sba[\"Term\"].apply(\n",
    "#lambda a:pd.DateOffset(months=a))"
   ]
  },
  {
   "cell_type": "markdown",
   "id": "0f6fee98",
   "metadata": {},
   "source": [
    "Checking if Loan was granted during recession or not:"
   ]
  },
  {
   "cell_type": "code",
   "execution_count": 16,
   "id": "6acfcad4",
   "metadata": {},
   "outputs": [
    {
     "data": {
      "text/plain": [
       "False    462811\n",
       "True     436353\n",
       "Name: Recession, dtype: int64"
      ]
     },
     "execution_count": 16,
     "metadata": {},
     "output_type": "execute_result"
    }
   ],
   "source": [
    "\n",
    "Sba['EndDateLoan'] = Sba['DisbursementDate'] + pd.to_timedelta(Sba['Term']*30,unit='D')\n",
    "#create begining and end of recession\n",
    "rec_start = pd.to_datetime('2007-12-01 00:00:00')\n",
    "rec_end = pd.to_datetime('2009-06-01 00:00:00')\n",
    "\n",
    "mask = (Sba['DisbursementDate'] < rec_start) & (Sba['EndDateLoan'] > rec_end)\n",
    "\n",
    "#Create new column of recession variable\n",
    "Sba['Recession'] = mask\n",
    "\n",
    "#return 1 for value within the recession range\n",
    "Sba.loc[Sba['Recession'] == True, 'Recession'] = True\n",
    "Sba.loc[Sba['Recession'] == False, 'Recession'] = False\n",
    "\n",
    "Sba['Recession'].value_counts()\n",
    "\n",
    "\n",
    "\n",
    "\n",
    "\n",
    "\n",
    "#Sba[\"Recession\"]=Sba[\"EndDateLoan\"].apply(\n",
    "#lambda a:1 if a in pd.date_range(start='2007-12-01', end='2009-06-30') \n",
    "  #  else (0 if a not in pd.date_range(start='2007-12-01', end='2009-06-30') else x))"
   ]
  },
  {
   "cell_type": "code",
   "execution_count": 17,
   "id": "23196ac9",
   "metadata": {},
   "outputs": [],
   "source": [
    "encode = OneHotEncoder(drop = 'first',sparse= False)\n",
    "urb = pd.DataFrame(encode.fit_transform(Sba[['UrbanRural']]))\n",
    "urb.rename(columns = {0:'Urban', 1:'Rural'}, inplace = True)\n",
    "new_Sba=  Sba.join(urb).copy()"
   ]
  },
  {
   "cell_type": "code",
   "execution_count": 18,
   "id": "608cdaaa",
   "metadata": {},
   "outputs": [],
   "source": [
    "#Sba['Urban_Rural']=Sba.loc[Sba['UrbanRural'] !=0]"
   ]
  },
  {
   "cell_type": "markdown",
   "id": "5c34fa03",
   "metadata": {},
   "source": [
    "Calculating the ratio of the Loan Guaranteed by SBA:"
   ]
  },
  {
   "cell_type": "code",
   "execution_count": 19,
   "id": "934f86f6",
   "metadata": {},
   "outputs": [
    {
     "data": {
      "text/plain": [
       "Series([], Name: LoanRatio, dtype: bool)"
      ]
     },
     "execution_count": 19,
     "metadata": {},
     "output_type": "execute_result"
    }
   ],
   "source": [
    "new_Sba[\"LoanRatio\"]=new_Sba[\"SBA_Appv\"]/new_Sba[\"GrAppv\"]\n",
    "\n",
    "new_Sba.loc[new_Sba[\"LoanRatio\"]==np.inf,'LoanRatio']==0\n",
    "new_Sba.loc[new_Sba[\"LoanRatio\"]==np.nan,'LoanRatio']==0"
   ]
  },
  {
   "cell_type": "markdown",
   "id": "1073d9a6",
   "metadata": {},
   "source": [
    "Selecting the outcome variable:"
   ]
  },
  {
   "cell_type": "code",
   "execution_count": 20,
   "id": "0113f3db",
   "metadata": {},
   "outputs": [
    {
     "data": {
      "text/plain": [
       "True     741349\n",
       "False    157815\n",
       "Name: Target_var, dtype: int64"
      ]
     },
     "execution_count": 20,
     "metadata": {},
     "output_type": "execute_result"
    }
   ],
   "source": [
    "new_Sba['Target_var'].value_counts()"
   ]
  },
  {
   "cell_type": "markdown",
   "id": "93c7b30b",
   "metadata": {},
   "source": [
    "Converting other categorical variables into appropriate dummy variables: UrbanRural is considered cause the economic health of urban businesses are different from ones in the rural, so it makes sense selecting it"
   ]
  },
  {
   "cell_type": "code",
   "execution_count": 21,
   "id": "7d09f2c6",
   "metadata": {},
   "outputs": [],
   "source": [
    "# #trying to rename columns\n",
    "# encode = OneHotEncoder(drop = 'first',sparse= False)\n",
    "# Sba1= pd.DataFrame(encode.fit_transform(Sba[['UrbanRural']]))\n",
    "# Sba1.rename(columns = {0:'Urban', 1:'Rural'}, inplace = True)\n",
    "# merged_Sba= Sba.join(Sba1).copy()"
   ]
  },
  {
   "cell_type": "markdown",
   "id": "2a74da6b",
   "metadata": {},
   "source": [
    "Selecting and encoding whether a business is new or not:"
   ]
  },
  {
   "cell_type": "code",
   "execution_count": 22,
   "id": "5ca0cbdf",
   "metadata": {},
   "outputs": [],
   "source": [
    "\n",
    "new_Sba.loc[new_Sba['NewExist'] == 1, 'NewExist'] = False\n",
    "new_Sba.loc[new_Sba['NewExist'] == 2, 'NewExist'] = True"
   ]
  },
  {
   "cell_type": "code",
   "execution_count": 23,
   "id": "7f3d0ec7",
   "metadata": {},
   "outputs": [],
   "source": [
    "#plt.figure(figsize=(8,6))\n",
    "#plt.title(' Distribution of the NewExist')\n",
    "#sns.countplot(Sba['NewExist'])\n",
    "#plt.show()"
   ]
  },
  {
   "cell_type": "code",
   "execution_count": 24,
   "id": "723296f9",
   "metadata": {},
   "outputs": [],
   "source": [
    "My_dict={'11':'Agriculture, forestry, fishing and hunting',\n",
    "'21':'Mining, quarrying, and oil and gas extraction',\n",
    "'22':'Utilities',\n",
    "'23':'Construction',\n",
    "'31':'Manufacturing',\n",
    "'32':'Manufacturing',\n",
    "'33':'Manufacturing',\n",
    "'42':'Wholesale trade',\n",
    "'44':'Retail trade',\n",
    "'45':'Retail trade',\n",
    "'48':'Transportation and warehousing',\n",
    "'49':'Transportation and warehousing',\n",
    "'51':'Information',\n",
    "'52':'Finance and insurance',\n",
    "'53':'Real estate and rental and leasing',\n",
    "'54':'Professional, scientific, and technical services',\n",
    "'55':'Management of companies and enterprises',\n",
    "'56':'Administrative and support and waste management and remediation services',\n",
    "'61':'Educational services',\n",
    "'62':'Health care and social assistance',\n",
    "'71':'Arts, entertainment, and recreation',\n",
    "'72':'Accommodation and food services',\n",
    "'81':'Other services (except public administration)',\n",
    "'92':'Public administration'}\n",
    "dict_to=list(My_dict.items())\n",
    "\n",
    "new_Sba['ind_code'] = [code[:2] for code in new_Sba['NAICS'].astype('str')]\n"
   ]
  },
  {
   "cell_type": "code",
   "execution_count": 25,
   "id": "4d7f34f9",
   "metadata": {},
   "outputs": [],
   "source": [
    "Industry = pd.DataFrame(dict_to, columns=['ind_code', 'Industry'])"
   ]
  },
  {
   "cell_type": "code",
   "execution_count": 26,
   "id": "d5228f71",
   "metadata": {},
   "outputs": [],
   "source": [
    "new_Sba= new_Sba.merge(Industry, on='ind_code')"
   ]
  },
  {
   "cell_type": "code",
   "execution_count": 27,
   "id": "6b5a13e1",
   "metadata": {},
   "outputs": [],
   "source": [
    "new_Sba[[\"State\"]]= new_Sba[[\"State\"]].astype(\"category\")"
   ]
  },
  {
   "cell_type": "code",
   "execution_count": 28,
   "id": "39916a47",
   "metadata": {},
   "outputs": [],
   "source": [
    "new_Sba[[\"Industry\"]]= new_Sba[[\"Industry\"]].astype(\"category\")"
   ]
  },
  {
   "cell_type": "markdown",
   "id": "722f84a4",
   "metadata": {},
   "source": [
    "## Splitting the data"
   ]
  },
  {
   "cell_type": "code",
   "execution_count": 29,
   "id": "df42e13b",
   "metadata": {},
   "outputs": [],
   "source": [
    "rng = np.random.RandomState(20211022)\n",
    "#train, test=train_test_split(Sba,test_size=0.25) #random_state=rng)\n",
    "#mypredict=Sba[Sba[\"Loan_Status\"].notnull()]\n",
    "#mypredict=mypredict[mypredict[\"Loan_Status\"].notnull()]"
   ]
  },
  {
   "cell_type": "code",
   "execution_count": 30,
   "id": "361176c7",
   "metadata": {},
   "outputs": [],
   "source": [
    "#mytrain, mytest=train_test_split(mypredict,test_size=0.25)"
   ]
  },
  {
   "cell_type": "code",
   "execution_count": 31,
   "id": "f7ff47a8",
   "metadata": {},
   "outputs": [],
   "source": [
    "rng = np.random.RandomState(20211031)\n",
    "seedbank.initialize(20211028)\n",
    "test_set = new_Sba.sample(frac=0.25, random_state=rng)\n",
    "mask = pd.Series(True, index=new_Sba.index)\n",
    "mask[test_set.index] = False\n",
    "train_set = new_Sba[mask]"
   ]
  },
  {
   "cell_type": "code",
   "execution_count": null,
   "id": "45eec13c",
   "metadata": {},
   "outputs": [],
   "source": []
  },
  {
   "cell_type": "markdown",
   "id": "25a0eca6",
   "metadata": {},
   "source": [
    ".."
   ]
  },
  {
   "cell_type": "markdown",
   "id": "e044eabe",
   "metadata": {},
   "source": [
    "Describing the Majority class variable visually:"
   ]
  },
  {
   "cell_type": "code",
   "execution_count": 32,
   "id": "b5bf8381",
   "metadata": {},
   "outputs": [
    {
     "data": {
      "image/png": "[encoded data removed]",
      "text/plain": [
       "<Figure size 432x432 with 1 Axes>"
      ]
     },
     "metadata": {
      "needs_background": "light"
     },
     "output_type": "display_data"
    }
   ],
   "source": [
    "\n",
    "plt.figure(figsize=(6,6))\n",
    "plt.title('Distribution of the outcome variable',fontsize=16)\n",
    "sns.countplot(train_set['Target_var'])\n",
    "plt.show()"
   ]
  },
  {
   "cell_type": "markdown",
   "id": "f40111ca",
   "metadata": {},
   "source": [
    "The majority class is P I F, here represented as True."
   ]
  },
  {
   "cell_type": "markdown",
   "id": "7ea7e563",
   "metadata": {},
   "source": [
    ".."
   ]
  },
  {
   "cell_type": "markdown",
   "id": "2fe3cb7b",
   "metadata": {},
   "source": [
    " Calculating the Accuracy,Precision, and Recall of the majority class classifier on test data"
   ]
  },
  {
   "cell_type": "code",
   "execution_count": 33,
   "id": "d5cde119",
   "metadata": {},
   "outputs": [],
   "source": [
    "#yHatMaj=np.ones(len(merged_Sba))\n",
    "mod_Test = pd.Series(True, index = test_set.index)\n"
   ]
  },
  {
   "cell_type": "code",
   "execution_count": 34,
   "id": "f0a97006",
   "metadata": {},
   "outputs": [
    {
     "data": {
      "text/plain": [
       "0.8001594914631908"
      ]
     },
     "execution_count": 34,
     "metadata": {},
     "output_type": "execute_result"
    }
   ],
   "source": [
    "accuracy_score(test_set['Target_var'],mod_Test)"
   ]
  },
  {
   "cell_type": "code",
   "execution_count": 35,
   "id": "100d1718",
   "metadata": {},
   "outputs": [
    {
     "data": {
      "text/plain": [
       "0.8001594914631908"
      ]
     },
     "execution_count": 35,
     "metadata": {},
     "output_type": "execute_result"
    }
   ],
   "source": [
    "precision_score(test_set['Target_var'], mod_Test)"
   ]
  },
  {
   "cell_type": "code",
   "execution_count": 36,
   "id": "428cde0c",
   "metadata": {},
   "outputs": [
    {
     "data": {
      "text/plain": [
       "1.0"
      ]
     },
     "execution_count": 36,
     "metadata": {},
     "output_type": "execute_result"
    }
   ],
   "source": [
    "recall_score(test_set['Target_var'],mod_Test)"
   ]
  },
  {
   "cell_type": "markdown",
   "id": "62ae708e",
   "metadata": {},
   "source": [
    "Identifying some variables that, based on my understanding and reading of the source paper are likely to be useful for predicting default. Describing them, my motivation, their distribution, and their relationship to outcomes (in the training data):"
   ]
  },
  {
   "cell_type": "markdown",
   "id": "3d43502c",
   "metadata": {},
   "source": [
    "### Loans Backed by Real estate:"
   ]
  },
  {
   "cell_type": "markdown",
   "id": "6df68c7a",
   "metadata": {},
   "source": [
    "Describing the estate_backed loans graphically:"
   ]
  },
  {
   "cell_type": "code",
   "execution_count": 37,
   "id": "3c912f5d",
   "metadata": {},
   "outputs": [
    {
     "data": {
      "image/png": "[encoded data removed]",
      "text/plain": [
       "<Figure size 432x432 with 1 Axes>"
      ]
     },
     "metadata": {
      "needs_background": "light"
     },
     "output_type": "display_data"
    }
   ],
   "source": [
    "\n",
    "plt.figure(figsize=(6,6))\n",
    "#plt.SubPlot(1,2,1)\n",
    "plt.title('Distribution of the estate_backed laons variable',fontsize=16)\n",
    "sns.countplot(train_set['estate_backed'])\n",
    "plt.show()\n",
    "#plt.SubPlot(1,2,1)\n",
    "#plt.figure(figsize=(6,6))\n",
    "#plt.title('Distribution of the R/ship between the outcome variable and the estate_backed laons variable',fontsize=16)\n",
    "#sns.countplot"
   ]
  },
  {
   "cell_type": "markdown",
   "id": "01d33a99",
   "metadata": {},
   "source": [
    "###  Loan Ratio variable: Describing visually and numerically:"
   ]
  },
  {
   "cell_type": "code",
   "execution_count": 38,
   "id": "20f3a052",
   "metadata": {},
   "outputs": [
    {
     "data": {
      "image/png": "[encoded data removed]",
      "text/plain": [
       "<Figure size 432x432 with 1 Axes>"
      ]
     },
     "metadata": {
      "needs_background": "light"
     },
     "output_type": "display_data"
    }
   ],
   "source": [
    "plt.figure(figsize=(6,6))\n",
    "plt.title('Distribution of the Loan_Ratio variable',fontsize=16)\n",
    "sns.distplot(train_set['LoanRatio'])\n",
    "plt.show()"
   ]
  },
  {
   "cell_type": "code",
   "execution_count": 39,
   "id": "d7970d19",
   "metadata": {},
   "outputs": [
    {
     "data": {
      "text/plain": [
       "count    522912.000000\n",
       "mean          0.680026\n",
       "std           0.175610\n",
       "min           0.050000\n",
       "25%           0.500000\n",
       "50%           0.750000\n",
       "75%           0.850000\n",
       "max           1.000000\n",
       "Name: LoanRatio, dtype: float64"
      ]
     },
     "execution_count": 39,
     "metadata": {},
     "output_type": "execute_result"
    }
   ],
   "source": [
    "train_set['LoanRatio'].describe()"
   ]
  },
  {
   "cell_type": "markdown",
   "id": "cb125558",
   "metadata": {},
   "source": [
    "### NewExist Variable: Whether a business is new or existing"
   ]
  },
  {
   "cell_type": "code",
   "execution_count": 40,
   "id": "6d430e1b",
   "metadata": {},
   "outputs": [
    {
     "data": {
      "image/png": "[encoded data removed]",
      "text/plain": [
       "<Figure size 432x432 with 1 Axes>"
      ]
     },
     "metadata": {
      "needs_background": "light"
     },
     "output_type": "display_data"
    }
   ],
   "source": [
    "plt.figure(figsize=(6,6))\n",
    "plt.title('Distribution of the NewExist variable',fontsize=16)\n",
    "sns.countplot(train_set['NewExist'])\n",
    "plt.show()"
   ]
  },
  {
   "cell_type": "markdown",
   "id": "d422fa13",
   "metadata": {},
   "source": [
    "### Loan during Recession:"
   ]
  },
  {
   "cell_type": "code",
   "execution_count": 41,
   "id": "dd24ec01",
   "metadata": {},
   "outputs": [
    {
     "data": {
      "image/png": "[encoded data removed]",
      "text/plain": [
       "<Figure size 432x432 with 1 Axes>"
      ]
     },
     "metadata": {
      "needs_background": "light"
     },
     "output_type": "display_data"
    }
   ],
   "source": [
    "plt.figure(figsize=(6,6))\n",
    "plt.title('Distribution of the Recession variable',fontsize=16)\n",
    "sns.countplot(train_set['Recession'])\n",
    "plt.show()"
   ]
  },
  {
   "cell_type": "markdown",
   "id": "0753dff3",
   "metadata": {},
   "source": [
    "### UrbanRural variable:"
   ]
  },
  {
   "cell_type": "code",
   "execution_count": 42,
   "id": "3b9d16a1",
   "metadata": {},
   "outputs": [
    {
     "data": {
      "image/png": "[encoded data removed]",
      "text/plain": [
       "<Figure size 432x432 with 1 Axes>"
      ]
     },
     "metadata": {
      "needs_background": "light"
     },
     "output_type": "display_data"
    }
   ],
   "source": [
    "plt.figure(figsize=(6,6))\n",
    "plt.title('Distribution of the UrbanRural variable',fontsize=16)\n",
    "sns.countplot(train_set.loc[train_set['UrbanRural'] !=0, \"UrbanRural\"])\n",
    "plt.show()"
   ]
  },
  {
   "cell_type": "code",
   "execution_count": 43,
   "id": "c16ef01f",
   "metadata": {},
   "outputs": [],
   "source": [
    "data = [train_set['UrbanRural'].value_counts()[1], train_set['UrbanRural'].value_counts()[1]]\n",
    "variables = [\"Urban\", \"Rural\"]"
   ]
  },
  {
   "cell_type": "markdown",
   "id": "459fc16a",
   "metadata": {},
   "source": [
    "### GrossApproved"
   ]
  },
  {
   "cell_type": "code",
   "execution_count": 44,
   "id": "3f2df494",
   "metadata": {},
   "outputs": [
    {
     "data": {
      "image/png": "[encoded data removed]",
      "text/plain": [
       "<Figure size 432x432 with 1 Axes>"
      ]
     },
     "metadata": {
      "needs_background": "light"
     },
     "output_type": "display_data"
    }
   ],
   "source": [
    "plt.figure(figsize=(6,6))\n",
    "plt.title('Distribution of the GrossApproved variable',fontsize=16)\n",
    "sns.distplot(new_Sba['GrAppv'])\n",
    "plt.show()"
   ]
  },
  {
   "cell_type": "code",
   "execution_count": 45,
   "id": "6b5af157",
   "metadata": {},
   "outputs": [
    {
     "data": {
      "text/plain": [
       "count    6.972160e+05\n",
       "mean     1.823464e+05\n",
       "std      2.900294e+05\n",
       "min      2.000000e+02\n",
       "25%      3.000000e+04\n",
       "50%      7.500000e+04\n",
       "75%      2.000000e+05\n",
       "max      5.472000e+06\n",
       "Name: GrAppv, dtype: float64"
      ]
     },
     "execution_count": 45,
     "metadata": {},
     "output_type": "execute_result"
    }
   ],
   "source": [
    "new_Sba['GrAppv'].describe()"
   ]
  },
  {
   "cell_type": "markdown",
   "id": "2237380f",
   "metadata": {},
   "source": [
    "### DisbursementGross variable"
   ]
  },
  {
   "cell_type": "code",
   "execution_count": 46,
   "id": "101826cc",
   "metadata": {},
   "outputs": [
    {
     "data": {
      "image/png": "[encoded data removed]",
      "text/plain": [
       "<Figure size 432x432 with 1 Axes>"
      ]
     },
     "metadata": {
      "needs_background": "light"
     },
     "output_type": "display_data"
    }
   ],
   "source": [
    "plt.figure(figsize=(6,6))\n",
    "plt.title('Distribution of the DisbursementGross variable',fontsize=16)\n",
    "sns.distplot(new_Sba['DisbursementGross'])\n",
    "plt.show()"
   ]
  },
  {
   "cell_type": "code",
   "execution_count": 47,
   "id": "7e81e88f",
   "metadata": {},
   "outputs": [
    {
     "data": {
      "text/plain": [
       "count    6.972160e+05\n",
       "mean     1.938967e+05\n",
       "std      2.964580e+05\n",
       "min      0.000000e+00\n",
       "25%      3.586725e+04\n",
       "50%      9.000000e+04\n",
       "75%      2.152215e+05\n",
       "max      1.144632e+07\n",
       "Name: DisbursementGross, dtype: float64"
      ]
     },
     "execution_count": 47,
     "metadata": {},
     "output_type": "execute_result"
    }
   ],
   "source": [
    "new_Sba['DisbursementGross'].describe()"
   ]
  },
  {
   "cell_type": "markdown",
   "id": "2eaa2ace",
   "metadata": {},
   "source": [
    "### SBAApproved Variable"
   ]
  },
  {
   "cell_type": "code",
   "execution_count": 48,
   "id": "8bf24ceb",
   "metadata": {},
   "outputs": [
    {
     "data": {
      "image/png": "[encoded data removed]",
      "text/plain": [
       "<Figure size 432x432 with 1 Axes>"
      ]
     },
     "metadata": {
      "needs_background": "light"
     },
     "output_type": "display_data"
    }
   ],
   "source": [
    "plt.figure(figsize=(6,6))\n",
    "plt.title('Distribution of the DisbursementGross variable',fontsize=16)\n",
    "sns.distplot(train_set['SBA_Appv'])\n",
    "plt.show()"
   ]
  },
  {
   "cell_type": "code",
   "execution_count": 49,
   "id": "01f82624",
   "metadata": {},
   "outputs": [
    {
     "data": {
      "text/plain": [
       "count    5.229120e+05\n",
       "mean     1.398546e+05\n",
       "std      2.375250e+05\n",
       "min      2.000000e+02\n",
       "25%      1.700000e+04\n",
       "50%      5.000000e+04\n",
       "75%      1.500000e+05\n",
       "max      5.472000e+06\n",
       "Name: SBA_Appv, dtype: float64"
      ]
     },
     "execution_count": 49,
     "metadata": {},
     "output_type": "execute_result"
    }
   ],
   "source": [
    "train_set['SBA_Appv'].describe()"
   ]
  },
  {
   "cell_type": "markdown",
   "id": "da5e7821",
   "metadata": {},
   "source": [
    "### State Variable"
   ]
  },
  {
   "cell_type": "code",
   "execution_count": 50,
   "id": "1f2bf74f",
   "metadata": {},
   "outputs": [
    {
     "data": {
      "image/png": "[encoded data removed]",
      "text/plain": [
       "<Figure size 1296x432 with 1 Axes>"
      ]
     },
     "metadata": {
      "needs_background": "light"
     },
     "output_type": "display_data"
    }
   ],
   "source": [
    "plt.figure(figsize=(18,6))\n",
    "plt.title('Distribution of the State variable',fontsize=16)\n",
    "sns.countplot(train_set['State'])\n",
    "plt.show()"
   ]
  },
  {
   "cell_type": "markdown",
   "id": "19b4aa36",
   "metadata": {},
   "source": [
    "### Variables selected and justifications"
   ]
  },
  {
   "cell_type": "markdown",
   "id": "64fca28e",
   "metadata": {},
   "source": [
    "The states have different default rates owing to the  great recession and the mineral resources in those states. While some states were affected by the great recession others where not due to the mineral resources they have. This accounts for the difference in the default rates.We selected the state variable because the various states have different economic environment that can affect the target variable.We can actually draw insights from the default rate of various states and see it in the distribution also."
   ]
  },
  {
   "cell_type": "markdown",
   "id": "6952f9be",
   "metadata": {},
   "source": [
    "SBA's Guaranteed Portion of Approved Loan:We selected this variable due to its relevance to the outcome variable. Loans that were guaranteed by the SBA tend not to default and a whole lot that were not guaranteed defaulted, as such it we recommended its use in our work."
   ]
  },
  {
   "cell_type": "markdown",
   "id": "2ddce183",
   "metadata": {},
   "source": [
    "We selected industries due to the varying rates of defaults it has. While industries in the oil and gas and other lucrative sectors had a lower default rates,  the ones that are on the other hand had a higher rate of default due to the fact that their business are not so promising and hence stand the chance to default on the laon."
   ]
  },
  {
   "cell_type": "markdown",
   "id": "a5853124",
   "metadata": {},
   "source": [
    "Gross disbursement (represented as “DisbursementGross” in the dataset) is another risk indicator identified as a key variable to consider. The reason behind selecting “DisbursementGross” is that the larger the loan size, the more likely the underlying business will be established and expanding (i.e., purchasing assets that have some resale value), thereby increasing the likelihood of paying off the loan. "
   ]
  },
  {
   "cell_type": "markdown",
   "id": "ac060a6c",
   "metadata": {},
   "source": [
    "NewExist variable is another variable we considered. New businesses are fragile and are likey to default while the existing businesses have some experiences and foundation that will foster their ability to payoff their loan."
   ]
  },
  {
   "cell_type": "markdown",
   "id": "1d01dd25",
   "metadata": {},
   "source": [
    "Loans Backed by Real Estate is another variable we saw fit to include. Loans backed by real estate are likey not to default because the value of the property can pay off the loan. So, we selected it.\n"
   ]
  },
  {
   "cell_type": "markdown",
   "id": "4b9c89a0",
   "metadata": {},
   "source": [
    "Recession is another variable we selected going by the fact that loans giving during the recession or ones that entered into that period are likely to default."
   ]
  },
  {
   "cell_type": "markdown",
   "id": "e62c3ae8",
   "metadata": {},
   "source": [
    "## Initial Logistic Model"
   ]
  },
  {
   "cell_type": "markdown",
   "id": "5ae9a3ce",
   "metadata": {},
   "source": [
    "### Extracting train_y and train_x from train_set"
   ]
  },
  {
   "cell_type": "code",
   "execution_count": null,
   "id": "48219c70",
   "metadata": {},
   "outputs": [],
   "source": []
  },
  {
   "cell_type": "code",
   "execution_count": 51,
   "id": "c2451b83",
   "metadata": {},
   "outputs": [],
   "source": [
    "train_set1=train_set[train_set['NewExist'].notnull()].copy()"
   ]
  },
  {
   "cell_type": "code",
   "execution_count": 52,
   "id": "9ca1bb9e",
   "metadata": {},
   "outputs": [],
   "source": [
    "train_x= train_set1[[\"NewExist\",\"DisbursementGross\",\"Recession\",\n",
    "\"LoanRatio\",\"estate_backed\",\"State\",\"Industry\"]]\n",
    "train_y=train_set1[\"Target_var\"]\n",
    "train_y=np.ravel(train_y)                    "
   ]
  },
  {
   "cell_type": "markdown",
   "id": "543cec95",
   "metadata": {},
   "source": [
    "### Extracting test_x and test_y from test_set:"
   ]
  },
  {
   "cell_type": "code",
   "execution_count": 53,
   "id": "2c461945",
   "metadata": {},
   "outputs": [],
   "source": [
    "test_set1=test_set[test_set['NewExist'].notnull()].copy()"
   ]
  },
  {
   "cell_type": "code",
   "execution_count": 54,
   "id": "2b2d7559",
   "metadata": {},
   "outputs": [],
   "source": [
    "test_x= test_set1[[\"NewExist\",\"DisbursementGross\",\"Recession\",\n",
    "\"LoanRatio\",\"estate_backed\",\"State\",\"Industry\"]]\n",
    "test_y=test_set1[\"Target_var\"]"
   ]
  },
  {
   "cell_type": "code",
   "execution_count": null,
   "id": "dbf4a2b4",
   "metadata": {},
   "outputs": [],
   "source": []
  },
  {
   "cell_type": "code",
   "execution_count": 55,
   "id": "bb5f2fce",
   "metadata": {},
   "outputs": [],
   "source": [
    "test_set1=test_set[test_set['NewExist'].notnull()].copy()"
   ]
  },
  {
   "cell_type": "code",
   "execution_count": 56,
   "id": "28f22390",
   "metadata": {},
   "outputs": [],
   "source": [
    "# test_x= test_set1[[\"NewExist\",\"DisbursementGross\",\"Recession\",\n",
    "# \"LoanRatio\",\"estate_backed\",\"State\",\"Industry\"]]\n",
    "# test_y=test_set1[\"Target_var\"]\n",
    "# test_y=np.ravel(test_y)     \n",
    "numeric_features = [\"DisbursementGross\",\"LoanRatio\"]\n",
    "numeric_transformer = Pipeline(\n",
    "    steps=[(\"imputer\", SimpleImputer(strategy=\"constant\")), (\"scaler\", StandardScaler())]\n",
    ")\n",
    "\n",
    "categorical_features = [\"NewExist\",\"Recession\", \"estate_backed\",\"Industry\",\"State\"]\n",
    "categorical_transformer = OneHotEncoder(handle_unknown=\"ignore\")\n",
    "\n",
    "preprocessor = ColumnTransformer(\n",
    "    transformers=[\n",
    "        (\"num\", numeric_transformer, numeric_features),\n",
    "        (\"cat\", categorical_transformer, categorical_features),\n",
    "    ]\n",
    ")\n",
    "\n",
    "# Append classifier to preprocessing pipeline.\n",
    "# Now we have a full prediction pipeline.\n",
    "log_clf = Pipeline(\n",
    "    steps=[(\"preprocessor\", preprocessor), (\"classifier\", LogisticRegression(penalty='none'))])"
   ]
  },
  {
   "cell_type": "markdown",
   "id": "45c358ed",
   "metadata": {},
   "source": [
    "Fitting the Logistic model:"
   ]
  },
  {
   "cell_type": "code",
   "execution_count": null,
   "id": "76789116",
   "metadata": {},
   "outputs": [],
   "source": []
  },
  {
   "cell_type": "code",
   "execution_count": 57,
   "id": "5ba7021d",
   "metadata": {},
   "outputs": [],
   "source": [
    "#logis_mod=LogisticRegression(penalty='none')\n",
    "logis_mod=log_clf.fit(train_x,train_y)"
   ]
  },
  {
   "cell_type": "code",
   "execution_count": null,
   "id": "5434bdb1",
   "metadata": {},
   "outputs": [],
   "source": []
  },
  {
   "cell_type": "markdown",
   "id": "25b3907f",
   "metadata": {},
   "source": [
    "### Calculating the Accuracy"
   ]
  },
  {
   "cell_type": "code",
   "execution_count": 58,
   "id": "6e7b76bf",
   "metadata": {},
   "outputs": [
    {
     "data": {
      "text/plain": [
       "0.7980761690171018"
      ]
     },
     "execution_count": 58,
     "metadata": {},
     "output_type": "execute_result"
    }
   ],
   "source": [
    "logis_acc=logis_mod.predict(train_x)\n",
    "accuracy_score(train_y,logis_acc)"
   ]
  },
  {
   "cell_type": "markdown",
   "id": "dd811f34",
   "metadata": {},
   "source": [
    "Doing same thing on the test set:"
   ]
  },
  {
   "cell_type": "code",
   "execution_count": 59,
   "id": "3821614e",
   "metadata": {},
   "outputs": [],
   "source": [
    "#logis_mod1=LogisticRegression(penalty='none')\n",
    "logis_mod1=log_clf.fit(test_x,test_y)"
   ]
  },
  {
   "cell_type": "code",
   "execution_count": 60,
   "id": "9d8271a3",
   "metadata": {},
   "outputs": [
    {
     "data": {
      "text/plain": [
       "0.8009054966746811"
      ]
     },
     "execution_count": 60,
     "metadata": {},
     "output_type": "execute_result"
    }
   ],
   "source": [
    "logis_acc1=logis_mod.predict(test_x)\n",
    "accuracy_score(test_y,logis_acc1)"
   ]
  },
  {
   "cell_type": "markdown",
   "id": "6037d780",
   "metadata": {},
   "source": [
    "### Lasso Regression"
   ]
  },
  {
   "cell_type": "code",
   "execution_count": 61,
   "id": "34f28341",
   "metadata": {},
   "outputs": [],
   "source": [
    "numeric_features = [\"DisbursementGross\",\"LoanRatio\"]\n",
    "numeric_transformer = Pipeline(\n",
    "    steps=[(\"imputer\", SimpleImputer(strategy=\"constant\")), (\"scaler\", StandardScaler())]\n",
    ")\n",
    "\n",
    "categorical_features = [\"NewExist\",\"Recession\", \"estate_backed\",\"Industry\",\"State\"]\n",
    "categorical_transformer = OneHotEncoder(handle_unknown=\"ignore\")\n",
    "\n",
    "preprocessor = ColumnTransformer(\n",
    "    transformers=[\n",
    "        (\"num\", numeric_transformer, numeric_features),\n",
    "        (\"cat\", categorical_transformer, categorical_features),\n",
    "    ]\n",
    ")\n",
    "\n",
    "# Append classifier to preprocessing pipeline.\n",
    "# Now we have a full prediction pipeline.\n",
    "clf = Pipeline(\n",
    "    steps=[(\"preprocessor\", preprocessor), (\"classifier\", LogisticRegressionCV(penalty='l1', cv=2, solver='saga', max_iter=300, n_jobs=-1))]\n",
    ")"
   ]
  },
  {
   "cell_type": "markdown",
   "id": "e8888880",
   "metadata": {},
   "source": [
    "Fitting the model"
   ]
  },
  {
   "cell_type": "code",
   "execution_count": 62,
   "id": "c629a837",
   "metadata": {},
   "outputs": [],
   "source": [
    "\n",
    "lasso_mod=clf.fit(train_x,train_y)"
   ]
  },
  {
   "cell_type": "code",
   "execution_count": null,
   "id": "bc2664a4",
   "metadata": {},
   "outputs": [],
   "source": []
  },
  {
   "cell_type": "markdown",
   "id": "d903db98",
   "metadata": {},
   "source": [
    "### Calculating the Accuracy"
   ]
  },
  {
   "cell_type": "code",
   "execution_count": 63,
   "id": "9d916d6d",
   "metadata": {},
   "outputs": [
    {
     "data": {
      "text/plain": [
       "0.7970872839324344"
      ]
     },
     "execution_count": 63,
     "metadata": {},
     "output_type": "execute_result"
    }
   ],
   "source": [
    "lasso_acc=clf.predict(train_x)\n",
    "accuracy_score(train_y,lasso_acc)"
   ]
  },
  {
   "cell_type": "markdown",
   "id": "ea026ca6",
   "metadata": {},
   "source": [
    "Doing same thing on the test set:"
   ]
  },
  {
   "cell_type": "code",
   "execution_count": 64,
   "id": "278838f9",
   "metadata": {},
   "outputs": [
    {
     "data": {
      "text/plain": [
       "0.8001423087296077"
      ]
     },
     "execution_count": 64,
     "metadata": {},
     "output_type": "execute_result"
    }
   ],
   "source": [
    "lasso_acc1=clf.predict(test_x)\n",
    "accuracy_score(test_y,lasso_acc1)"
   ]
  },
  {
   "cell_type": "markdown",
   "id": "5b3ab345",
   "metadata": {},
   "source": [
    "### ElasticNet"
   ]
  },
  {
   "cell_type": "code",
   "execution_count": 65,
   "id": "5805eee0",
   "metadata": {},
   "outputs": [],
   "source": [
    "clf_elastic = Pipeline(\n",
    "    steps=[(\"preprocessor\", preprocessor), (\"classifier\", LogisticRegressionCV(penalty='elasticnet', cv=2, solver='saga', max_iter=500, n_jobs=-1,l1_ratios=np.arange(0,1,0.2)))]\n",
    ")"
   ]
  },
  {
   "cell_type": "markdown",
   "id": "807ca05b",
   "metadata": {},
   "source": [
    "Fitting the model"
   ]
  },
  {
   "cell_type": "code",
   "execution_count": 66,
   "id": "aeaa2919",
   "metadata": {},
   "outputs": [],
   "source": [
    "elastic_mod=clf_elastic.fit(train_x,train_y)"
   ]
  },
  {
   "cell_type": "markdown",
   "id": "29f9e6cc",
   "metadata": {},
   "source": [
    "### Calculating the Accuracy"
   ]
  },
  {
   "cell_type": "code",
   "execution_count": 67,
   "id": "b65594fe",
   "metadata": {},
   "outputs": [
    {
     "data": {
      "text/plain": [
       "0.7970853711953269"
      ]
     },
     "execution_count": 67,
     "metadata": {},
     "output_type": "execute_result"
    }
   ],
   "source": [
    "elastic_acc=clf_elastic.predict(train_x)\n",
    "accuracy_score(train_y,elastic_acc)"
   ]
  },
  {
   "cell_type": "markdown",
   "id": "476d917c",
   "metadata": {},
   "source": [
    "Doing same thing on the 25% test Data"
   ]
  },
  {
   "cell_type": "code",
   "execution_count": 68,
   "id": "86c572b2",
   "metadata": {},
   "outputs": [
    {
     "data": {
      "text/plain": [
       "0.8001423087296077"
      ]
     },
     "execution_count": 68,
     "metadata": {},
     "output_type": "execute_result"
    }
   ],
   "source": [
    "elastic_acc1=clf_elastic.predict(test_x)\n",
    "accuracy_score(test_y,elastic_acc1)"
   ]
  },
  {
   "cell_type": "markdown",
   "id": "93e80ca2",
   "metadata": {},
   "source": [
    "## Random Forest\n"
   ]
  },
  {
   "cell_type": "code",
   "execution_count": 69,
   "id": "69971dcd",
   "metadata": {},
   "outputs": [
    {
     "data": {
      "text/plain": [
       "Pipeline(steps=[('preprocessor',\n",
       "                 ColumnTransformer(transformers=[('num',\n",
       "                                                  Pipeline(steps=[('imputer',\n",
       "                                                                   SimpleImputer(strategy='constant')),\n",
       "                                                                  ('scaler',\n",
       "                                                                   StandardScaler())]),\n",
       "                                                  ['DisbursementGross',\n",
       "                                                   'LoanRatio']),\n",
       "                                                 ('cat',\n",
       "                                                  OneHotEncoder(handle_unknown='ignore'),\n",
       "                                                  ['NewExist', 'Recession',\n",
       "                                                   'estate_backed', 'Industry',\n",
       "                                                   'State'])])),\n",
       "                ('classifier', RandomForestClassifier(n_estimators=20))])"
      ]
     },
     "execution_count": 69,
     "metadata": {},
     "output_type": "execute_result"
    }
   ],
   "source": [
    "clf_Rforest = Pipeline(\n",
    "    steps=[(\"preprocessor\", preprocessor), (\"classifier\", RandomForestClassifier(n_estimators=100))])\n",
    "\n",
    "clf_Rforest.fit(train_x,train_y)"
   ]
  },
  {
   "cell_type": "markdown",
   "id": "591c5359",
   "metadata": {},
   "source": [
    "### Calculating the Accuracy"
   ]
  },
  {
   "cell_type": "code",
   "execution_count": 70,
   "id": "87e277d1",
   "metadata": {},
   "outputs": [
    {
     "data": {
      "text/plain": [
       "0.9345977800773129"
      ]
     },
     "execution_count": 70,
     "metadata": {},
     "output_type": "execute_result"
    }
   ],
   "source": [
    "Rforest_acc=clf_Rforest.predict(train_x)\n",
    "accuracy_score(train_y,Rforest_acc)"
   ]
  },
  {
   "cell_type": "markdown",
   "id": "f6e116df",
   "metadata": {},
   "source": [
    "Doing same thing on the 25% test Data"
   ]
  },
  {
   "cell_type": "code",
   "execution_count": 71,
   "id": "9b122dc2",
   "metadata": {},
   "outputs": [
    {
     "data": {
      "text/plain": [
       "0.7667743545897434"
      ]
     },
     "execution_count": 71,
     "metadata": {},
     "output_type": "execute_result"
    }
   ],
   "source": [
    "Rforest_acc1=clf_Rforest.predict(test_x)\n",
    "accuracy_score(test_y,Rforest_acc1)"
   ]
  },
  {
   "cell_type": "code",
   "execution_count": null,
   "id": "137a2734",
   "metadata": {},
   "outputs": [],
   "source": []
  },
  {
   "cell_type": "code",
   "execution_count": null,
   "id": "940ee22d",
   "metadata": {},
   "outputs": [],
   "source": []
  },
  {
   "cell_type": "code",
   "execution_count": null,
   "id": "c459a8c1",
   "metadata": {},
   "outputs": [],
   "source": []
  },
  {
   "cell_type": "code",
   "execution_count": null,
   "id": "30ee28a8",
   "metadata": {},
   "outputs": [],
   "source": []
  },
  {
   "cell_type": "code",
   "execution_count": null,
   "id": "5f2f515b",
   "metadata": {},
   "outputs": [],
   "source": []
  },
  {
   "cell_type": "code",
   "execution_count": null,
   "id": "8c042467",
   "metadata": {},
   "outputs": [],
   "source": []
  },
  {
   "cell_type": "markdown",
   "id": "92bdf843",
   "metadata": {},
   "source": [
    "### Final Summary and Reflection"
   ]
  },
  {
   "cell_type": "code",
   "execution_count": 72,
   "id": "def9b39e",
   "metadata": {},
   "outputs": [],
   "source": [
    "def Fpos_r(y_test, y_pred):\n",
    "    t_pos,f_pos,f_neg,t_neg = confusion_matrix(y_test, y_pred).ravel()\n",
    "    return f_pos/(f_pos+t_neg)\n",
    "\n",
    "def Spec_r(y_test, y_pred):\n",
    "    t_pos,f_pos,f_neg,t_neg = confusion_matrix(y_test, y_pred).ravel()\n",
    "    return t_neg/(f_pos+t_neg)\n",
    "\n",
    "def Fneg_r(y_test, y_pred):\n",
    "    t_pos,f_pos,f_neg,t_neg = confusion_matrix(y_test, y_pred).ravel()\n",
    "    return f_neg/(t_pos+f_neg)\n",
    "\n",
    "def cost_r(y_test, y_pred):\n",
    "    t_pos,f_pos,f_neg,t_neg = confusion_matrix(y_test, y_pred).ravel()\n",
    "    return (5 * f_neg) + f_pos"
   ]
  },
  {
   "cell_type": "code",
   "execution_count": 73,
   "id": "322d1e21",
   "metadata": {},
   "outputs": [
    {
     "ename": "NameError",
     "evalue": "name 'lasso_pipe' is not defined",
     "output_type": "error",
     "traceback": [
      "\u001b[0;31m---------------------------------------------------------------------------\u001b[0m",
      "\u001b[0;31mNameError\u001b[0m                                 Traceback (most recent call last)",
      "\u001b[0;32m/tmp/ipykernel_73704/114198142.py\u001b[0m in \u001b[0;36m<module>\u001b[0;34m\u001b[0m\n\u001b[1;32m     10\u001b[0m \u001b[0;34m\u001b[0m\u001b[0m\n\u001b[1;32m     11\u001b[0m \u001b[0;34m\u001b[0m\u001b[0m\n\u001b[0;32m---> 12\u001b[0;31m \u001b[0mmodels\u001b[0m \u001b[0;34m=\u001b[0m \u001b[0;34m[\u001b[0m\u001b[0mlasso_pipe\u001b[0m\u001b[0;34m,\u001b[0m\u001b[0melastic_pipe\u001b[0m\u001b[0;34m,\u001b[0m\u001b[0mrandf_pipe\u001b[0m\u001b[0;34m]\u001b[0m\u001b[0;34m\u001b[0m\u001b[0;34m\u001b[0m\u001b[0m\n\u001b[0m\u001b[1;32m     13\u001b[0m \u001b[0mmodels_names\u001b[0m \u001b[0;34m=\u001b[0m \u001b[0;34m[\u001b[0m\u001b[0;34m'lasso Pipeline'\u001b[0m\u001b[0;34m,\u001b[0m\u001b[0;34m'Elastic Pipeline'\u001b[0m\u001b[0;34m,\u001b[0m\u001b[0;34m'Random Classifier'\u001b[0m\u001b[0;34m]\u001b[0m\u001b[0;34m\u001b[0m\u001b[0;34m\u001b[0m\u001b[0m\n\u001b[1;32m     14\u001b[0m \u001b[0;34m\u001b[0m\u001b[0m\n",
      "\u001b[0;31mNameError\u001b[0m: name 'lasso_pipe' is not defined"
     ]
    }
   ],
   "source": [
    "no_models = 4\n",
    "\n",
    "accuracy_ = np.ones(no_models)\n",
    "precision_ = np.ones(no_models)\n",
    "recall_ = np.ones(no_models)\n",
    "falseP = np.ones(no_models)\n",
    "falseN = np.ones(no_models)\n",
    "specificity = np.ones(no_models)\n",
    "cost_ = np.ones(no_models)\n",
    "\n",
    "\n",
    "models = [lasso_pipe,elastic_pipe,randf_pipe]\n",
    "models_names = ['lasso Pipeline','Elastic Pipeline','Random Classifier']\n",
    "\n",
    "for i in range(len(models)):\n",
    "    pred = models[i].predict(X_test)\n",
    "    accuracy_[i] = accuracy_score(y_test,pred)\n",
    "    precision_[i] = precision_score(y_test,pred)\n",
    "    recall_[i] = recall_score(y_test,pred)\n",
    "    falseP[i] = fpr(y_test,pred)\n",
    "    falseN[i] = fnr(y_test,pred)\n",
    "    specificity[i] = spec(y_test,pred)\n",
    "    cost_[i] = cost(y_test,pred)\n",
    "\n",
    "\n"
   ]
  },
  {
   "cell_type": "code",
   "execution_count": null,
   "id": "2a6d3d03",
   "metadata": {},
   "outputs": [],
   "source": [
    "model_metrics = pd.DataFrame({'Model':models_names ,'Accuracy': accuracy_,'Precision': precision_,'Recall': recall_,'Specificity':specificity,'FalsePositives':falseP,'FalseNegatives':falseN,'Costs':cost_})"
   ]
  },
  {
   "cell_type": "code",
   "execution_count": null,
   "id": "abec94f5",
   "metadata": {},
   "outputs": [],
   "source": [
    "temp_df = model_metrics.drop(['Costs'], axis=1)\n",
    "temp_df = temp_df.melt(id_vars='Model')\n",
    "# temp_df\n",
    "plt.figure(figsize=(18,6))\n",
    "sns.barplot(x = 'variable', y='value', hue='Model', data=temp_df)\n",
    "plt.show()"
   ]
  },
  {
   "cell_type": "code",
   "execution_count": null,
   "id": "494a125b",
   "metadata": {},
   "outputs": [],
   "source": []
  },
  {
   "cell_type": "code",
   "execution_count": null,
   "id": "5ac37fa0",
   "metadata": {},
   "outputs": [],
   "source": []
  },
  {
   "cell_type": "code",
   "execution_count": null,
   "id": "b0156bba",
   "metadata": {},
   "outputs": [],
   "source": []
  },
  {
   "cell_type": "code",
   "execution_count": null,
   "id": "f75e6a30",
   "metadata": {},
   "outputs": [],
   "source": []
  }
 ],
 "metadata": {
  "kernelspec": {
   "display_name": "Python 3 (ipykernel)",
   "language": "python",
   "name": "python3"
  },
  "language_info": {
   "codemirror_mode": {
    "name": "ipython",
    "version": 3
   },
   "file_extension": ".py",
   "mimetype": "text/x-python",
   "name": "python",
   "nbconvert_exporter": "python",
   "pygments_lexer": "ipython3",
   "version": "3.8.8"
  }
 },
 "nbformat": 4,
 "nbformat_minor": 5
}
