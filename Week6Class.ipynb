{
 "cells": [
  {
   "cell_type": "markdown",
   "metadata": {},
   "source": [
    "# Week 6 Exercise - Census Data\n",
    "\n",
    "This exercise has you apply two things:\n",
    "\n",
    "- Obtaining data from the census (see the [tutorial notebook](https://cs533.ekstrandom.net/f21/resources/tutorials/UsingTheCensus/)\n",
    "- Plotting two related numeric variables\n",
    "\n",
    "The guiding question for this notebook is “is a higher level of college education in the population correlated with income?”\n",
    "\n",
    "Let's go!"
   ]
  },
  {
   "cell_type": "markdown",
   "metadata": {},
   "source": [
    "## Setup\n",
    "\n",
    "We first need to make sure we have the `census` and `US` packages:"
   ]
  },
  {
   "cell_type": "code",
   "execution_count": 1,
   "metadata": {},
   "outputs": [
    {
     "name": "stdout",
     "output_type": "stream",
     "text": [
      "Requirement already satisfied: census in /home/chibuzoukegbu/anaconda3/lib/python3.8/site-packages (0.8.17)\n",
      "Requirement already satisfied: us in /home/chibuzoukegbu/anaconda3/lib/python3.8/site-packages (2.0.2)\n",
      "Requirement already satisfied: requests>=1.1.0 in /home/chibuzoukegbu/anaconda3/lib/python3.8/site-packages (from census) (2.26.0)\n",
      "Requirement already satisfied: charset-normalizer~=2.0.0 in /home/chibuzoukegbu/anaconda3/lib/python3.8/site-packages (from requests>=1.1.0->census) (2.0.4)\n",
      "Requirement already satisfied: certifi>=2017.4.17 in /home/chibuzoukegbu/anaconda3/lib/python3.8/site-packages (from requests>=1.1.0->census) (2021.5.30)\n",
      "Requirement already satisfied: idna<4,>=2.5 in /home/chibuzoukegbu/anaconda3/lib/python3.8/site-packages (from requests>=1.1.0->census) (3.2)\n",
      "Requirement already satisfied: urllib3<1.27,>=1.21.1 in /home/chibuzoukegbu/anaconda3/lib/python3.8/site-packages (from requests>=1.1.0->census) (1.26.6)\n",
      "Requirement already satisfied: jellyfish==0.6.1 in /home/chibuzoukegbu/anaconda3/lib/python3.8/site-packages (from us) (0.6.1)\n",
      "Note: you may need to restart the kernel to use updated packages.\n"
     ]
    }
   ],
   "source": [
    "%pip install census us"
   ]
  },
  {
   "cell_type": "markdown",
   "metadata": {},
   "source": [
    "And then we can import:"
   ]
  },
  {
   "cell_type": "code",
   "execution_count": 2,
   "metadata": {},
   "outputs": [],
   "source": [
    "import pandas as pd\n",
    "import numpy as np\n",
    "import seaborn as sns\n",
    "import matplotlib.pyplot as plt\n",
    "from census import Census\n",
    "from us import states"
   ]
  },
  {
   "cell_type": "markdown",
   "metadata": {},
   "source": [
    "And set up a census object (replace API KEY with your API key):"
   ]
  },
  {
   "cell_type": "code",
   "execution_count": 3,
   "metadata": {},
   "outputs": [],
   "source": [
    "c = Census('829119ee66068d44227c9769ac2cf4f03aed308e')"
   ]
  },
  {
   "cell_type": "markdown",
   "metadata": {},
   "source": [
    "## Census Data\n",
    "\n",
    "The census data comes in a variety of *files*. These files include:\n",
    "\n",
    "- `sf1` — Summary File 1, containing complete count information on the *decennial* census.\n",
    "- `acs1` — American Community Survey, a supplementary annual survey of a sample of the population carried out by the census bureau every year.\n",
    "\n",
    "Both of these files are accessed in the same way, via the Census object, but they contain different variables.  Each contains thousands of variables.\n",
    "\n",
    "This notebook focuses on the ACS.  The [variable list](https://api.census.gov/data/2014/acs/acs5/variables.html) describes these variables, and the ones of interest are all reported as **estimated population counts**.  That means variable `B06009_003E` is an estimate, based on the sample, of the number of people in a geographic region whose highest educational attainment is a high school degree.\n",
    "\n",
    "To fetch data, we need to know three things:\n",
    "\n",
    "- The *geographic level* we want: county or state?\n",
    "- *Which* geographic area(s)?\n",
    "- The variables to retrieve.\n",
    "- The year. We're going to use 2014.\n",
    "\n",
    "Variables in turn are nested. Many variables are estimated population counts; for these, one variable is the total population, and others are counts within subgroups.  Look at the variable list to see how these are described:\n",
    "\n",
    "- `B01001_001E` is the estimated total population\n",
    "- `B01001_002E` is the estimated male population\n",
    "- `B01001_026E` is the estimated female population\n",
    "\n",
    "There are variables for a *lot* of different breakdowns.\n",
    "\n",
    "The API returns a list of dictionaries containing the variables.  Let's get the gender population estimate for Idaho:"
   ]
  },
  {
   "cell_type": "code",
   "execution_count": 4,
   "metadata": {},
   "outputs": [
    {
     "data": {
      "text/plain": [
       "[{'NAME': 'Idaho',\n",
       "  'B01001_001E': 1634464.0,\n",
       "  'B01001_002E': 817050.0,\n",
       "  'B01001_026E': 817414.0,\n",
       "  'state': '16'}]"
      ]
     },
     "execution_count": 4,
     "metadata": {},
     "output_type": "execute_result"
    }
   ],
   "source": [
    "c.acs1.state(('NAME', 'B01001_001E', 'B01001_002E', 'B01001_026E'), states.ID.fips, year=2014)"
   ]
  },
  {
   "cell_type": "markdown",
   "metadata": {},
   "source": [
    "Regions are identified by **FIPS codes**: numeric codes that identify states and counties.  Each state has a 2-digit FIPS code, and the `us.states` module lets us look up a state's FIPS code.  (We can also get a [table of them](https://www.census.gov/library/reference/code-lists/ansi/ansi-codes-for-states.html).)\n",
    "\n",
    "Each county's code is a 5-digit number: its state code, followed by 3 digits to identify the county.\n",
    "\n",
    "When calling `state`, we can provide `'*'` instead of a FIPS code to request all states, and use Pandas `from_records` to make a data frame:"
   ]
  },
  {
   "cell_type": "code",
   "execution_count": 5,
   "metadata": {},
   "outputs": [
    {
     "data": {
      "text/html": [
       "<div>\n",
       "<style scoped>\n",
       "    .dataframe tbody tr th:only-of-type {\n",
       "        vertical-align: middle;\n",
       "    }\n",
       "\n",
       "    .dataframe tbody tr th {\n",
       "        vertical-align: top;\n",
       "    }\n",
       "\n",
       "    .dataframe thead th {\n",
       "        text-align: right;\n",
       "    }\n",
       "</style>\n",
       "<table border=\"1\" class=\"dataframe\">\n",
       "  <thead>\n",
       "    <tr style=\"text-align: right;\">\n",
       "      <th></th>\n",
       "      <th>NAME</th>\n",
       "      <th>B01001_001E</th>\n",
       "      <th>B01001_002E</th>\n",
       "      <th>B01001_026E</th>\n",
       "      <th>state</th>\n",
       "    </tr>\n",
       "  </thead>\n",
       "  <tbody>\n",
       "    <tr>\n",
       "      <th>0</th>\n",
       "      <td>Alabama</td>\n",
       "      <td>4849377.0</td>\n",
       "      <td>2347969.0</td>\n",
       "      <td>2501408.0</td>\n",
       "      <td>01</td>\n",
       "    </tr>\n",
       "    <tr>\n",
       "      <th>1</th>\n",
       "      <td>Alaska</td>\n",
       "      <td>736732.0</td>\n",
       "      <td>385582.0</td>\n",
       "      <td>351150.0</td>\n",
       "      <td>02</td>\n",
       "    </tr>\n",
       "    <tr>\n",
       "      <th>2</th>\n",
       "      <td>Arizona</td>\n",
       "      <td>6731484.0</td>\n",
       "      <td>3342946.0</td>\n",
       "      <td>3388538.0</td>\n",
       "      <td>04</td>\n",
       "    </tr>\n",
       "    <tr>\n",
       "      <th>3</th>\n",
       "      <td>Arkansas</td>\n",
       "      <td>2966369.0</td>\n",
       "      <td>1456778.0</td>\n",
       "      <td>1509591.0</td>\n",
       "      <td>05</td>\n",
       "    </tr>\n",
       "    <tr>\n",
       "      <th>4</th>\n",
       "      <td>California</td>\n",
       "      <td>38802500.0</td>\n",
       "      <td>19264457.0</td>\n",
       "      <td>19538043.0</td>\n",
       "      <td>06</td>\n",
       "    </tr>\n",
       "  </tbody>\n",
       "</table>\n",
       "</div>"
      ],
      "text/plain": [
       "         NAME  B01001_001E  B01001_002E  B01001_026E state\n",
       "0     Alabama    4849377.0    2347969.0    2501408.0    01\n",
       "1      Alaska     736732.0     385582.0     351150.0    02\n",
       "2     Arizona    6731484.0    3342946.0    3388538.0    04\n",
       "3    Arkansas    2966369.0    1456778.0    1509591.0    05\n",
       "4  California   38802500.0   19264457.0   19538043.0    06"
      ]
     },
     "execution_count": 5,
     "metadata": {},
     "output_type": "execute_result"
    }
   ],
   "source": [
    "gender_pop = pd.DataFrame.from_records(\n",
    "    c.acs1.state(('NAME', 'B01001_001E', 'B01001_002E', 'B01001_026E'), '*', year=2014)\n",
    ")\n",
    "gender_pop.head()"
   ]
  },
  {
   "cell_type": "code",
   "execution_count": 6,
   "metadata": {},
   "outputs": [
    {
     "name": "stdout",
     "output_type": "stream",
     "text": [
      "<class 'pandas.core.frame.DataFrame'>\n",
      "RangeIndex: 52 entries, 0 to 51\n",
      "Data columns (total 5 columns):\n",
      " #   Column       Non-Null Count  Dtype  \n",
      "---  ------       --------------  -----  \n",
      " 0   NAME         52 non-null     object \n",
      " 1   B01001_001E  52 non-null     float64\n",
      " 2   B01001_002E  52 non-null     float64\n",
      " 3   B01001_026E  52 non-null     float64\n",
      " 4   state        52 non-null     object \n",
      "dtypes: float64(3), object(2)\n",
      "memory usage: 2.2+ KB\n"
     ]
    }
   ],
   "source": [
    "gender_pop.info()"
   ]
  },
  {
   "cell_type": "markdown",
   "metadata": {},
   "source": [
    "Why is total a string?  Let's make it an int:"
   ]
  },
  {
   "cell_type": "code",
   "execution_count": 7,
   "metadata": {},
   "outputs": [
    {
     "name": "stdout",
     "output_type": "stream",
     "text": [
      "<class 'pandas.core.frame.DataFrame'>\n",
      "RangeIndex: 52 entries, 0 to 51\n",
      "Data columns (total 5 columns):\n",
      " #   Column       Non-Null Count  Dtype  \n",
      "---  ------       --------------  -----  \n",
      " 0   NAME         52 non-null     object \n",
      " 1   B01001_001E  52 non-null     int32  \n",
      " 2   B01001_002E  52 non-null     float64\n",
      " 3   B01001_026E  52 non-null     float64\n",
      " 4   state        52 non-null     object \n",
      "dtypes: float64(2), int32(1), object(2)\n",
      "memory usage: 2.0+ KB\n"
     ]
    }
   ],
   "source": [
    "gender_pop['B01001_001E'] = gender_pop['B01001_001E'].astype('i4')\n",
    "gender_pop.info()"
   ]
  },
  {
   "cell_type": "markdown",
   "metadata": {},
   "source": [
    "✅ **Todo:** do the following:\n",
    "\n",
    "- Rename the columns to have meaningful names\n",
    "- Compute the fraction of the population that is female in each state\n",
    "- Plot the distribution of '% female'"
   ]
  },
  {
   "cell_type": "code",
   "execution_count": 8,
   "metadata": {},
   "outputs": [
    {
     "data": {
      "text/html": [
       "<div>\n",
       "<style scoped>\n",
       "    .dataframe tbody tr th:only-of-type {\n",
       "        vertical-align: middle;\n",
       "    }\n",
       "\n",
       "    .dataframe tbody tr th {\n",
       "        vertical-align: top;\n",
       "    }\n",
       "\n",
       "    .dataframe thead th {\n",
       "        text-align: right;\n",
       "    }\n",
       "</style>\n",
       "<table border=\"1\" class=\"dataframe\">\n",
       "  <thead>\n",
       "    <tr style=\"text-align: right;\">\n",
       "      <th></th>\n",
       "      <th>NAME</th>\n",
       "      <th>totalPop</th>\n",
       "      <th>malePop</th>\n",
       "      <th>femalePop</th>\n",
       "      <th>state</th>\n",
       "    </tr>\n",
       "  </thead>\n",
       "  <tbody>\n",
       "    <tr>\n",
       "      <th>0</th>\n",
       "      <td>Alabama</td>\n",
       "      <td>4849377</td>\n",
       "      <td>2347969.0</td>\n",
       "      <td>2501408.0</td>\n",
       "      <td>01</td>\n",
       "    </tr>\n",
       "    <tr>\n",
       "      <th>1</th>\n",
       "      <td>Alaska</td>\n",
       "      <td>736732</td>\n",
       "      <td>385582.0</td>\n",
       "      <td>351150.0</td>\n",
       "      <td>02</td>\n",
       "    </tr>\n",
       "    <tr>\n",
       "      <th>2</th>\n",
       "      <td>Arizona</td>\n",
       "      <td>6731484</td>\n",
       "      <td>3342946.0</td>\n",
       "      <td>3388538.0</td>\n",
       "      <td>04</td>\n",
       "    </tr>\n",
       "    <tr>\n",
       "      <th>3</th>\n",
       "      <td>Arkansas</td>\n",
       "      <td>2966369</td>\n",
       "      <td>1456778.0</td>\n",
       "      <td>1509591.0</td>\n",
       "      <td>05</td>\n",
       "    </tr>\n",
       "    <tr>\n",
       "      <th>4</th>\n",
       "      <td>California</td>\n",
       "      <td>38802500</td>\n",
       "      <td>19264457.0</td>\n",
       "      <td>19538043.0</td>\n",
       "      <td>06</td>\n",
       "    </tr>\n",
       "  </tbody>\n",
       "</table>\n",
       "</div>"
      ],
      "text/plain": [
       "         NAME  totalPop     malePop   femalePop state\n",
       "0     Alabama   4849377   2347969.0   2501408.0    01\n",
       "1      Alaska    736732    385582.0    351150.0    02\n",
       "2     Arizona   6731484   3342946.0   3388538.0    04\n",
       "3    Arkansas   2966369   1456778.0   1509591.0    05\n",
       "4  California  38802500  19264457.0  19538043.0    06"
      ]
     },
     "execution_count": 8,
     "metadata": {},
     "output_type": "execute_result"
    }
   ],
   "source": [
    "gender_pop.rename(columns={'B01001_001E':'totalPop', 'B01001_002E':'malePop', 'B01001_026E':'femalePop'},inplace=True)\n",
    "gender_pop.head()"
   ]
  },
  {
   "cell_type": "code",
   "execution_count": 9,
   "metadata": {},
   "outputs": [
    {
     "data": {
      "text/html": [
       "<div>\n",
       "<style scoped>\n",
       "    .dataframe tbody tr th:only-of-type {\n",
       "        vertical-align: middle;\n",
       "    }\n",
       "\n",
       "    .dataframe tbody tr th {\n",
       "        vertical-align: top;\n",
       "    }\n",
       "\n",
       "    .dataframe thead th {\n",
       "        text-align: right;\n",
       "    }\n",
       "</style>\n",
       "<table border=\"1\" class=\"dataframe\">\n",
       "  <thead>\n",
       "    <tr style=\"text-align: right;\">\n",
       "      <th></th>\n",
       "      <th>NAME</th>\n",
       "      <th>totalPop</th>\n",
       "      <th>malePop</th>\n",
       "      <th>femalePop</th>\n",
       "      <th>state</th>\n",
       "      <th>feFrac</th>\n",
       "    </tr>\n",
       "  </thead>\n",
       "  <tbody>\n",
       "    <tr>\n",
       "      <th>0</th>\n",
       "      <td>Alabama</td>\n",
       "      <td>4849377</td>\n",
       "      <td>2347969.0</td>\n",
       "      <td>2501408.0</td>\n",
       "      <td>01</td>\n",
       "      <td>51.582049</td>\n",
       "    </tr>\n",
       "    <tr>\n",
       "      <th>1</th>\n",
       "      <td>Alaska</td>\n",
       "      <td>736732</td>\n",
       "      <td>385582.0</td>\n",
       "      <td>351150.0</td>\n",
       "      <td>02</td>\n",
       "      <td>47.663194</td>\n",
       "    </tr>\n",
       "    <tr>\n",
       "      <th>2</th>\n",
       "      <td>Arizona</td>\n",
       "      <td>6731484</td>\n",
       "      <td>3342946.0</td>\n",
       "      <td>3388538.0</td>\n",
       "      <td>04</td>\n",
       "      <td>50.338647</td>\n",
       "    </tr>\n",
       "    <tr>\n",
       "      <th>3</th>\n",
       "      <td>Arkansas</td>\n",
       "      <td>2966369</td>\n",
       "      <td>1456778.0</td>\n",
       "      <td>1509591.0</td>\n",
       "      <td>05</td>\n",
       "      <td>50.890196</td>\n",
       "    </tr>\n",
       "    <tr>\n",
       "      <th>4</th>\n",
       "      <td>California</td>\n",
       "      <td>38802500</td>\n",
       "      <td>19264457.0</td>\n",
       "      <td>19538043.0</td>\n",
       "      <td>06</td>\n",
       "      <td>50.352537</td>\n",
       "    </tr>\n",
       "  </tbody>\n",
       "</table>\n",
       "</div>"
      ],
      "text/plain": [
       "         NAME  totalPop     malePop   femalePop state     feFrac\n",
       "0     Alabama   4849377   2347969.0   2501408.0    01  51.582049\n",
       "1      Alaska    736732    385582.0    351150.0    02  47.663194\n",
       "2     Arizona   6731484   3342946.0   3388538.0    04  50.338647\n",
       "3    Arkansas   2966369   1456778.0   1509591.0    05  50.890196\n",
       "4  California  38802500  19264457.0  19538043.0    06  50.352537"
      ]
     },
     "execution_count": 9,
     "metadata": {},
     "output_type": "execute_result"
    }
   ],
   "source": [
    "gender_pop['feFrac']=gender_pop['femalePop'].div(gender_pop['totalPop'])*100\n",
    "gender_pop.head()"
   ]
  },
  {
   "cell_type": "markdown",
   "metadata": {},
   "source": [
    "## Educational Attainment and Income\n",
    "\n",
    "The [06009](https://www.socialexplorer.com/data/ACS2014_5yr/metadata/?ds=ACS14_5yr&table=B06009) variables (`B06009_001E` and subcounts) report the number of people whose highest education is at at different levels. `B06009_002E` is people who have not completed high school, etc.  The [07011](https://www.socialexplorer.com/data/ACS2014_5yr/metadata/?ds=ACS14_5yr&table=B07011) variable reports the median income (`B07011_001E` is an estimate of median income - it is one of the variables that is *not* reported as a population count).\n",
    "\n",
    "1. Fetch these variables for all states.\n",
    "2. Compute the **fraction** of the population that has at least completed college.  Look at the variable list to see which variables you will need.\n",
    "3. Show the distribution of this variable."
   ]
  },
  {
   "cell_type": "code",
   "execution_count": 10,
   "metadata": {
    "scrolled": true
   },
   "outputs": [
    {
     "name": "stderr",
     "output_type": "stream",
     "text": [
      "/home/chibuzoukegbu/anaconda3/lib/python3.8/site-packages/seaborn/distributions.py:2619: FutureWarning: `distplot` is a deprecated function and will be removed in a future version. Please adapt your code to use either `displot` (a figure-level function with similar flexibility) or `histplot` (an axes-level function for histograms).\n",
      "  warnings.warn(msg, FutureWarning)\n"
     ]
    },
    {
     "data": {
      "text/plain": [
       "<AxesSubplot:xlabel='feFrac', ylabel='Density'>"
      ]
     },
     "execution_count": 10,
     "metadata": {},
     "output_type": "execute_result"
    },
    {
     "data": {
      "image/png": "[encoded data removed]",
      "text/plain": [
       "<Figure size 432x288 with 1 Axes>"
      ]
     },
     "metadata": {
      "needs_background": "light"
     },
     "output_type": "display_data"
    }
   ],
   "source": [
    "#plt.figure(figsize=(5,10))\n",
    "sns.distplot(gender_pop['feFrac'],kde=True)"
   ]
  },
  {
   "cell_type": "markdown",
   "metadata": {},
   "source": [
    "Not all variables are counts! `B07011_001E` is the **median income** for a region.\n",
    "\n",
    "Fetch it too, and show *its* distribution!"
   ]
  },
  {
   "cell_type": "code",
   "execution_count": 11,
   "metadata": {},
   "outputs": [
    {
     "data": {
      "text/plain": [
       "[{'NAME': 'Idaho',\n",
       "  'B06009_001E': 1045193.0,\n",
       "  'B06009_002E': 103178.0,\n",
       "  'B07011_001E': 23448.0,\n",
       "  'state': '16'}]"
      ]
     },
     "execution_count": 11,
     "metadata": {},
     "output_type": "execute_result"
    }
   ],
   "source": [
    "c.acs1.state(('NAME', 'B06009_001E', 'B06009_002E', 'B07011_001E'), states.ID.fips, year=2014)"
   ]
  },
  {
   "cell_type": "markdown",
   "metadata": {},
   "source": [
    "\n",
    "Now, look at the question: do states with a higher fraction of their education college-educated have higher median incomes?  Show with a scatterplot and compute a correlation coefficient (Pandas `.corr` method)."
   ]
  },
  {
   "cell_type": "code",
   "execution_count": 12,
   "metadata": {},
   "outputs": [
    {
     "data": {
      "text/html": [
       "<div>\n",
       "<style scoped>\n",
       "    .dataframe tbody tr th:only-of-type {\n",
       "        vertical-align: middle;\n",
       "    }\n",
       "\n",
       "    .dataframe tbody tr th {\n",
       "        vertical-align: top;\n",
       "    }\n",
       "\n",
       "    .dataframe thead th {\n",
       "        text-align: right;\n",
       "    }\n",
       "</style>\n",
       "<table border=\"1\" class=\"dataframe\">\n",
       "  <thead>\n",
       "    <tr style=\"text-align: right;\">\n",
       "      <th></th>\n",
       "      <th>NAME</th>\n",
       "      <th>B06009_001E</th>\n",
       "      <th>B06009_002E</th>\n",
       "      <th>B07011_001E</th>\n",
       "      <th>state</th>\n",
       "    </tr>\n",
       "  </thead>\n",
       "  <tbody>\n",
       "    <tr>\n",
       "      <th>0</th>\n",
       "      <td>Alabama</td>\n",
       "      <td>3256766.0</td>\n",
       "      <td>497759.0</td>\n",
       "      <td>22327.0</td>\n",
       "      <td>01</td>\n",
       "    </tr>\n",
       "    <tr>\n",
       "      <th>1</th>\n",
       "      <td>Alaska</td>\n",
       "      <td>465149.0</td>\n",
       "      <td>33253.0</td>\n",
       "      <td>31557.0</td>\n",
       "      <td>02</td>\n",
       "    </tr>\n",
       "    <tr>\n",
       "      <th>2</th>\n",
       "      <td>Arizona</td>\n",
       "      <td>4436226.0</td>\n",
       "      <td>618786.0</td>\n",
       "      <td>26070.0</td>\n",
       "      <td>04</td>\n",
       "    </tr>\n",
       "    <tr>\n",
       "      <th>3</th>\n",
       "      <td>Arkansas</td>\n",
       "      <td>1968414.0</td>\n",
       "      <td>288737.0</td>\n",
       "      <td>22179.0</td>\n",
       "      <td>05</td>\n",
       "    </tr>\n",
       "    <tr>\n",
       "      <th>4</th>\n",
       "      <td>California</td>\n",
       "      <td>25654292.0</td>\n",
       "      <td>4593525.0</td>\n",
       "      <td>26997.0</td>\n",
       "      <td>06</td>\n",
       "    </tr>\n",
       "  </tbody>\n",
       "</table>\n",
       "</div>"
      ],
      "text/plain": [
       "         NAME  B06009_001E  B06009_002E  B07011_001E state\n",
       "0     Alabama    3256766.0     497759.0      22327.0    01\n",
       "1      Alaska     465149.0      33253.0      31557.0    02\n",
       "2     Arizona    4436226.0     618786.0      26070.0    04\n",
       "3    Arkansas    1968414.0     288737.0      22179.0    05\n",
       "4  California   25654292.0    4593525.0      26997.0    06"
      ]
     },
     "execution_count": 12,
     "metadata": {},
     "output_type": "execute_result"
    }
   ],
   "source": [
    "gender_pop1= pd.DataFrame.from_records(\n",
    "    c.acs1.state(('NAME', 'B06009_001E', 'B06009_002E', 'B07011_001E'), '*', year=2014)\n",
    ")\n",
    "gender_pop1.head()"
   ]
  },
  {
   "cell_type": "code",
   "execution_count": 14,
   "metadata": {},
   "outputs": [
    {
     "data": {
      "text/html": [
       "<div>\n",
       "<style scoped>\n",
       "    .dataframe tbody tr th:only-of-type {\n",
       "        vertical-align: middle;\n",
       "    }\n",
       "\n",
       "    .dataframe tbody tr th {\n",
       "        vertical-align: top;\n",
       "    }\n",
       "\n",
       "    .dataframe thead th {\n",
       "        text-align: right;\n",
       "    }\n",
       "</style>\n",
       "<table border=\"1\" class=\"dataframe\">\n",
       "  <thead>\n",
       "    <tr style=\"text-align: right;\">\n",
       "      <th></th>\n",
       "      <th>NAME</th>\n",
       "      <th>people_edu_level_count</th>\n",
       "      <th>people_without_high_school</th>\n",
       "      <th>est_median_income</th>\n",
       "      <th>state</th>\n",
       "    </tr>\n",
       "  </thead>\n",
       "  <tbody>\n",
       "    <tr>\n",
       "      <th>0</th>\n",
       "      <td>Alabama</td>\n",
       "      <td>3256766.0</td>\n",
       "      <td>497759.0</td>\n",
       "      <td>22327.0</td>\n",
       "      <td>01</td>\n",
       "    </tr>\n",
       "    <tr>\n",
       "      <th>1</th>\n",
       "      <td>Alaska</td>\n",
       "      <td>465149.0</td>\n",
       "      <td>33253.0</td>\n",
       "      <td>31557.0</td>\n",
       "      <td>02</td>\n",
       "    </tr>\n",
       "    <tr>\n",
       "      <th>2</th>\n",
       "      <td>Arizona</td>\n",
       "      <td>4436226.0</td>\n",
       "      <td>618786.0</td>\n",
       "      <td>26070.0</td>\n",
       "      <td>04</td>\n",
       "    </tr>\n",
       "    <tr>\n",
       "      <th>3</th>\n",
       "      <td>Arkansas</td>\n",
       "      <td>1968414.0</td>\n",
       "      <td>288737.0</td>\n",
       "      <td>22179.0</td>\n",
       "      <td>05</td>\n",
       "    </tr>\n",
       "    <tr>\n",
       "      <th>4</th>\n",
       "      <td>California</td>\n",
       "      <td>25654292.0</td>\n",
       "      <td>4593525.0</td>\n",
       "      <td>26997.0</td>\n",
       "      <td>06</td>\n",
       "    </tr>\n",
       "  </tbody>\n",
       "</table>\n",
       "</div>"
      ],
      "text/plain": [
       "         NAME  people_edu_level_count  people_without_high_school  \\\n",
       "0     Alabama               3256766.0                    497759.0   \n",
       "1      Alaska                465149.0                     33253.0   \n",
       "2     Arizona               4436226.0                    618786.0   \n",
       "3    Arkansas               1968414.0                    288737.0   \n",
       "4  California              25654292.0                   4593525.0   \n",
       "\n",
       "   est_median_income state  \n",
       "0            22327.0    01  \n",
       "1            31557.0    02  \n",
       "2            26070.0    04  \n",
       "3            22179.0    05  \n",
       "4            26997.0    06  "
      ]
     },
     "execution_count": 14,
     "metadata": {},
     "output_type": "execute_result"
    }
   ],
   "source": [
    "gender_pop1=gender_pop1.rename(columns={'B06009_001E':'people_edu_level_count','B06009_002E':'people_without_high_school','B07011_001E':'est_median_income'})\n",
    "gender_pop1.head()"
   ]
  },
  {
   "cell_type": "code",
   "execution_count": 15,
   "metadata": {},
   "outputs": [],
   "source": [
    "gender_pop1['atleast_college_edu']=gender_pop1['people_edu_level_count']-gender_pop1['people_without_high_school']"
   ]
  },
  {
   "cell_type": "code",
   "execution_count": 16,
   "metadata": {},
   "outputs": [
    {
     "data": {
      "text/html": [
       "<div>\n",
       "<style scoped>\n",
       "    .dataframe tbody tr th:only-of-type {\n",
       "        vertical-align: middle;\n",
       "    }\n",
       "\n",
       "    .dataframe tbody tr th {\n",
       "        vertical-align: top;\n",
       "    }\n",
       "\n",
       "    .dataframe thead th {\n",
       "        text-align: right;\n",
       "    }\n",
       "</style>\n",
       "<table border=\"1\" class=\"dataframe\">\n",
       "  <thead>\n",
       "    <tr style=\"text-align: right;\">\n",
       "      <th></th>\n",
       "      <th>NAME</th>\n",
       "      <th>people_edu_level_count</th>\n",
       "      <th>people_without_high_school</th>\n",
       "      <th>est_median_income</th>\n",
       "      <th>state</th>\n",
       "      <th>atleast_college_edu</th>\n",
       "      <th>atleast_college_edu_frac</th>\n",
       "    </tr>\n",
       "  </thead>\n",
       "  <tbody>\n",
       "    <tr>\n",
       "      <th>0</th>\n",
       "      <td>Alabama</td>\n",
       "      <td>3256766.0</td>\n",
       "      <td>497759.0</td>\n",
       "      <td>22327.0</td>\n",
       "      <td>01</td>\n",
       "      <td>2759007.0</td>\n",
       "      <td>0.847162</td>\n",
       "    </tr>\n",
       "    <tr>\n",
       "      <th>1</th>\n",
       "      <td>Alaska</td>\n",
       "      <td>465149.0</td>\n",
       "      <td>33253.0</td>\n",
       "      <td>31557.0</td>\n",
       "      <td>02</td>\n",
       "      <td>431896.0</td>\n",
       "      <td>0.928511</td>\n",
       "    </tr>\n",
       "    <tr>\n",
       "      <th>2</th>\n",
       "      <td>Arizona</td>\n",
       "      <td>4436226.0</td>\n",
       "      <td>618786.0</td>\n",
       "      <td>26070.0</td>\n",
       "      <td>04</td>\n",
       "      <td>3817440.0</td>\n",
       "      <td>0.860515</td>\n",
       "    </tr>\n",
       "    <tr>\n",
       "      <th>3</th>\n",
       "      <td>Arkansas</td>\n",
       "      <td>1968414.0</td>\n",
       "      <td>288737.0</td>\n",
       "      <td>22179.0</td>\n",
       "      <td>05</td>\n",
       "      <td>1679677.0</td>\n",
       "      <td>0.853315</td>\n",
       "    </tr>\n",
       "    <tr>\n",
       "      <th>4</th>\n",
       "      <td>California</td>\n",
       "      <td>25654292.0</td>\n",
       "      <td>4593525.0</td>\n",
       "      <td>26997.0</td>\n",
       "      <td>06</td>\n",
       "      <td>21060767.0</td>\n",
       "      <td>0.820945</td>\n",
       "    </tr>\n",
       "  </tbody>\n",
       "</table>\n",
       "</div>"
      ],
      "text/plain": [
       "         NAME  people_edu_level_count  people_without_high_school  \\\n",
       "0     Alabama               3256766.0                    497759.0   \n",
       "1      Alaska                465149.0                     33253.0   \n",
       "2     Arizona               4436226.0                    618786.0   \n",
       "3    Arkansas               1968414.0                    288737.0   \n",
       "4  California              25654292.0                   4593525.0   \n",
       "\n",
       "   est_median_income state  atleast_college_edu  atleast_college_edu_frac  \n",
       "0            22327.0    01            2759007.0                  0.847162  \n",
       "1            31557.0    02             431896.0                  0.928511  \n",
       "2            26070.0    04            3817440.0                  0.860515  \n",
       "3            22179.0    05            1679677.0                  0.853315  \n",
       "4            26997.0    06           21060767.0                  0.820945  "
      ]
     },
     "execution_count": 16,
     "metadata": {},
     "output_type": "execute_result"
    }
   ],
   "source": [
    "gender_pop1['atleast_college_edu_frac']= gender_pop1['atleast_college_edu']/gender_pop1['people_edu_level_count']\n",
    "gender_pop1.head()"
   ]
  },
  {
   "cell_type": "markdown",
   "metadata": {},
   "source": [
    "## County Level\n",
    "\n",
    "(if you have time)\n",
    "\n",
    "The `c.acs1.state_county` method fetches county-level data.  For example, to fetch data from counties in Idaho:"
   ]
  },
  {
   "cell_type": "markdown",
   "metadata": {},
   "source": [
    "A lot of counties are missing, because there is not enough sample data from them.\n",
    "\n",
    "You can provide `'*'` for both state and county, to get all counties in the US (for which data is available).\n",
    "\n",
    "Look at education and income at the county level!"
   ]
  },
  {
   "cell_type": "code",
   "execution_count": 17,
   "metadata": {},
   "outputs": [
    {
     "data": {
      "text/plain": [
       "<AxesSubplot:>"
      ]
     },
     "execution_count": 17,
     "metadata": {},
     "output_type": "execute_result"
    },
    {
     "data": {
      "image/png": "[encoded data removed]",
      "text/plain": [
       "<Figure size 432x288 with 1 Axes>"
      ]
     },
     "metadata": {
      "needs_background": "light"
     },
     "output_type": "display_data"
    }
   ],
   "source": [
    "gender_pop1['atleast_college_edu_frac'].hist(bins=10)"
   ]
  },
  {
   "cell_type": "code",
   "execution_count": 18,
   "metadata": {},
   "outputs": [
    {
     "data": {
      "text/plain": [
       "<AxesSubplot:>"
      ]
     },
     "execution_count": 18,
     "metadata": {},
     "output_type": "execute_result"
    },
    {
     "data": {
      "image/png": "[encoded data removed]",
      "text/plain": [
       "<Figure size 432x288 with 1 Axes>"
      ]
     },
     "metadata": {
      "needs_background": "light"
     },
     "output_type": "display_data"
    }
   ],
   "source": [
    "gender_pop1['est_median_income'].hist(bins=10)"
   ]
  },
  {
   "cell_type": "code",
   "execution_count": 19,
   "metadata": {},
   "outputs": [
    {
     "name": "stderr",
     "output_type": "stream",
     "text": [
      "/home/chibuzoukegbu/anaconda3/lib/python3.8/site-packages/seaborn/_decorators.py:36: FutureWarning: Pass the following variables as keyword args: x, y. From version 0.12, the only valid positional argument will be `data`, and passing other arguments without an explicit keyword will result in an error or misinterpretation.\n",
      "  warnings.warn(\n"
     ]
    },
    {
     "data": {
      "text/plain": [
       "<AxesSubplot:xlabel='atleast_college_edu_frac', ylabel='est_median_income'>"
      ]
     },
     "execution_count": 19,
     "metadata": {},
     "output_type": "execute_result"
    },
    {
     "data": {
      "image/png": "[encoded data removed]",
      "text/plain": [
       "<Figure size 432x288 with 1 Axes>"
      ]
     },
     "metadata": {
      "needs_background": "light"
     },
     "output_type": "display_data"
    }
   ],
   "source": [
    "sns.scatterplot('atleast_college_edu_frac','est_median_income',data=gender_pop1)"
   ]
  },
  {
   "cell_type": "code",
   "execution_count": 20,
   "metadata": {},
   "outputs": [
    {
     "data": {
      "text/plain": [
       "0.5055876111044691"
      ]
     },
     "execution_count": 20,
     "metadata": {},
     "output_type": "execute_result"
    }
   ],
   "source": [
    "gender_pop1.corr()['est_median_income']['atleast_college_edu_frac']"
   ]
  },
  {
   "cell_type": "code",
   "execution_count": 21,
   "metadata": {},
   "outputs": [
    {
     "data": {
      "text/html": [
       "<div>\n",
       "<style scoped>\n",
       "    .dataframe tbody tr th:only-of-type {\n",
       "        vertical-align: middle;\n",
       "    }\n",
       "\n",
       "    .dataframe tbody tr th {\n",
       "        vertical-align: top;\n",
       "    }\n",
       "\n",
       "    .dataframe thead th {\n",
       "        text-align: right;\n",
       "    }\n",
       "</style>\n",
       "<table border=\"1\" class=\"dataframe\">\n",
       "  <thead>\n",
       "    <tr style=\"text-align: right;\">\n",
       "      <th></th>\n",
       "      <th>NAME</th>\n",
       "      <th>B06009_001E</th>\n",
       "      <th>B06009_002E</th>\n",
       "      <th>B07011_001E</th>\n",
       "      <th>state</th>\n",
       "      <th>county</th>\n",
       "    </tr>\n",
       "  </thead>\n",
       "  <tbody>\n",
       "    <tr>\n",
       "      <th>0</th>\n",
       "      <td>Santa Cruz County, California</td>\n",
       "      <td>175924.0</td>\n",
       "      <td>23708.0</td>\n",
       "      <td>27000.0</td>\n",
       "      <td>06</td>\n",
       "      <td>087</td>\n",
       "    </tr>\n",
       "    <tr>\n",
       "      <th>1</th>\n",
       "      <td>Shasta County, California</td>\n",
       "      <td>125999.0</td>\n",
       "      <td>11325.0</td>\n",
       "      <td>22980.0</td>\n",
       "      <td>06</td>\n",
       "      <td>089</td>\n",
       "    </tr>\n",
       "    <tr>\n",
       "      <th>2</th>\n",
       "      <td>Solano County, California</td>\n",
       "      <td>289822.0</td>\n",
       "      <td>37577.0</td>\n",
       "      <td>30657.0</td>\n",
       "      <td>06</td>\n",
       "      <td>095</td>\n",
       "    </tr>\n",
       "    <tr>\n",
       "      <th>3</th>\n",
       "      <td>Sonoma County, California</td>\n",
       "      <td>352785.0</td>\n",
       "      <td>43768.0</td>\n",
       "      <td>30722.0</td>\n",
       "      <td>06</td>\n",
       "      <td>097</td>\n",
       "    </tr>\n",
       "    <tr>\n",
       "      <th>4</th>\n",
       "      <td>Stanislaus County, California</td>\n",
       "      <td>332346.0</td>\n",
       "      <td>71835.0</td>\n",
       "      <td>23227.0</td>\n",
       "      <td>06</td>\n",
       "      <td>099</td>\n",
       "    </tr>\n",
       "    <tr>\n",
       "      <th>...</th>\n",
       "      <td>...</td>\n",
       "      <td>...</td>\n",
       "      <td>...</td>\n",
       "      <td>...</td>\n",
       "      <td>...</td>\n",
       "      <td>...</td>\n",
       "    </tr>\n",
       "    <tr>\n",
       "      <th>823</th>\n",
       "      <td>Ponce Municipio, Puerto Rico</td>\n",
       "      <td>NaN</td>\n",
       "      <td>NaN</td>\n",
       "      <td>NaN</td>\n",
       "      <td>72</td>\n",
       "      <td>113</td>\n",
       "    </tr>\n",
       "    <tr>\n",
       "      <th>824</th>\n",
       "      <td>Toa Alta Municipio, Puerto Rico</td>\n",
       "      <td>NaN</td>\n",
       "      <td>NaN</td>\n",
       "      <td>NaN</td>\n",
       "      <td>72</td>\n",
       "      <td>135</td>\n",
       "    </tr>\n",
       "    <tr>\n",
       "      <th>825</th>\n",
       "      <td>Carolina Municipio, Puerto Rico</td>\n",
       "      <td>NaN</td>\n",
       "      <td>NaN</td>\n",
       "      <td>NaN</td>\n",
       "      <td>72</td>\n",
       "      <td>031</td>\n",
       "    </tr>\n",
       "    <tr>\n",
       "      <th>826</th>\n",
       "      <td>Guaynabo Municipio, Puerto Rico</td>\n",
       "      <td>NaN</td>\n",
       "      <td>NaN</td>\n",
       "      <td>NaN</td>\n",
       "      <td>72</td>\n",
       "      <td>061</td>\n",
       "    </tr>\n",
       "    <tr>\n",
       "      <th>827</th>\n",
       "      <td>Arecibo Municipio, Puerto Rico</td>\n",
       "      <td>NaN</td>\n",
       "      <td>NaN</td>\n",
       "      <td>NaN</td>\n",
       "      <td>72</td>\n",
       "      <td>013</td>\n",
       "    </tr>\n",
       "  </tbody>\n",
       "</table>\n",
       "<p>828 rows × 6 columns</p>\n",
       "</div>"
      ],
      "text/plain": [
       "                                NAME  B06009_001E  B06009_002E  B07011_001E  \\\n",
       "0      Santa Cruz County, California     175924.0      23708.0      27000.0   \n",
       "1          Shasta County, California     125999.0      11325.0      22980.0   \n",
       "2          Solano County, California     289822.0      37577.0      30657.0   \n",
       "3          Sonoma County, California     352785.0      43768.0      30722.0   \n",
       "4      Stanislaus County, California     332346.0      71835.0      23227.0   \n",
       "..                               ...          ...          ...          ...   \n",
       "823     Ponce Municipio, Puerto Rico          NaN          NaN          NaN   \n",
       "824  Toa Alta Municipio, Puerto Rico          NaN          NaN          NaN   \n",
       "825  Carolina Municipio, Puerto Rico          NaN          NaN          NaN   \n",
       "826  Guaynabo Municipio, Puerto Rico          NaN          NaN          NaN   \n",
       "827   Arecibo Municipio, Puerto Rico          NaN          NaN          NaN   \n",
       "\n",
       "    state county  \n",
       "0      06    087  \n",
       "1      06    089  \n",
       "2      06    095  \n",
       "3      06    097  \n",
       "4      06    099  \n",
       "..    ...    ...  \n",
       "823    72    113  \n",
       "824    72    135  \n",
       "825    72    031  \n",
       "826    72    061  \n",
       "827    72    013  \n",
       "\n",
       "[828 rows x 6 columns]"
      ]
     },
     "execution_count": 21,
     "metadata": {},
     "output_type": "execute_result"
    }
   ],
   "source": [
    "gender_pop1_county=pd.DataFrame.from_records(\n",
    "    c.acs1.state_county(('NAME', 'B06009_001E', 'B06009_002E', 'B07011_001E'), '*', '*', year=2014)\n",
    ")\n",
    "gender_pop1_county"
   ]
  },
  {
   "cell_type": "code",
   "execution_count": 22,
   "metadata": {},
   "outputs": [
    {
     "data": {
      "text/html": [
       "<div>\n",
       "<style scoped>\n",
       "    .dataframe tbody tr th:only-of-type {\n",
       "        vertical-align: middle;\n",
       "    }\n",
       "\n",
       "    .dataframe tbody tr th {\n",
       "        vertical-align: top;\n",
       "    }\n",
       "\n",
       "    .dataframe thead th {\n",
       "        text-align: right;\n",
       "    }\n",
       "</style>\n",
       "<table border=\"1\" class=\"dataframe\">\n",
       "  <thead>\n",
       "    <tr style=\"text-align: right;\">\n",
       "      <th></th>\n",
       "      <th>NAME</th>\n",
       "      <th>people_edu_level_count</th>\n",
       "      <th>people_without_high_school</th>\n",
       "      <th>est_median_income</th>\n",
       "      <th>state</th>\n",
       "      <th>county</th>\n",
       "    </tr>\n",
       "  </thead>\n",
       "  <tbody>\n",
       "    <tr>\n",
       "      <th>0</th>\n",
       "      <td>Santa Cruz County, California</td>\n",
       "      <td>175924.0</td>\n",
       "      <td>23708.0</td>\n",
       "      <td>27000.0</td>\n",
       "      <td>06</td>\n",
       "      <td>087</td>\n",
       "    </tr>\n",
       "    <tr>\n",
       "      <th>1</th>\n",
       "      <td>Shasta County, California</td>\n",
       "      <td>125999.0</td>\n",
       "      <td>11325.0</td>\n",
       "      <td>22980.0</td>\n",
       "      <td>06</td>\n",
       "      <td>089</td>\n",
       "    </tr>\n",
       "    <tr>\n",
       "      <th>2</th>\n",
       "      <td>Solano County, California</td>\n",
       "      <td>289822.0</td>\n",
       "      <td>37577.0</td>\n",
       "      <td>30657.0</td>\n",
       "      <td>06</td>\n",
       "      <td>095</td>\n",
       "    </tr>\n",
       "    <tr>\n",
       "      <th>3</th>\n",
       "      <td>Sonoma County, California</td>\n",
       "      <td>352785.0</td>\n",
       "      <td>43768.0</td>\n",
       "      <td>30722.0</td>\n",
       "      <td>06</td>\n",
       "      <td>097</td>\n",
       "    </tr>\n",
       "    <tr>\n",
       "      <th>4</th>\n",
       "      <td>Stanislaus County, California</td>\n",
       "      <td>332346.0</td>\n",
       "      <td>71835.0</td>\n",
       "      <td>23227.0</td>\n",
       "      <td>06</td>\n",
       "      <td>099</td>\n",
       "    </tr>\n",
       "    <tr>\n",
       "      <th>...</th>\n",
       "      <td>...</td>\n",
       "      <td>...</td>\n",
       "      <td>...</td>\n",
       "      <td>...</td>\n",
       "      <td>...</td>\n",
       "      <td>...</td>\n",
       "    </tr>\n",
       "    <tr>\n",
       "      <th>823</th>\n",
       "      <td>Ponce Municipio, Puerto Rico</td>\n",
       "      <td>NaN</td>\n",
       "      <td>NaN</td>\n",
       "      <td>NaN</td>\n",
       "      <td>72</td>\n",
       "      <td>113</td>\n",
       "    </tr>\n",
       "    <tr>\n",
       "      <th>824</th>\n",
       "      <td>Toa Alta Municipio, Puerto Rico</td>\n",
       "      <td>NaN</td>\n",
       "      <td>NaN</td>\n",
       "      <td>NaN</td>\n",
       "      <td>72</td>\n",
       "      <td>135</td>\n",
       "    </tr>\n",
       "    <tr>\n",
       "      <th>825</th>\n",
       "      <td>Carolina Municipio, Puerto Rico</td>\n",
       "      <td>NaN</td>\n",
       "      <td>NaN</td>\n",
       "      <td>NaN</td>\n",
       "      <td>72</td>\n",
       "      <td>031</td>\n",
       "    </tr>\n",
       "    <tr>\n",
       "      <th>826</th>\n",
       "      <td>Guaynabo Municipio, Puerto Rico</td>\n",
       "      <td>NaN</td>\n",
       "      <td>NaN</td>\n",
       "      <td>NaN</td>\n",
       "      <td>72</td>\n",
       "      <td>061</td>\n",
       "    </tr>\n",
       "    <tr>\n",
       "      <th>827</th>\n",
       "      <td>Arecibo Municipio, Puerto Rico</td>\n",
       "      <td>NaN</td>\n",
       "      <td>NaN</td>\n",
       "      <td>NaN</td>\n",
       "      <td>72</td>\n",
       "      <td>013</td>\n",
       "    </tr>\n",
       "  </tbody>\n",
       "</table>\n",
       "<p>828 rows × 6 columns</p>\n",
       "</div>"
      ],
      "text/plain": [
       "                                NAME  people_edu_level_count  \\\n",
       "0      Santa Cruz County, California                175924.0   \n",
       "1          Shasta County, California                125999.0   \n",
       "2          Solano County, California                289822.0   \n",
       "3          Sonoma County, California                352785.0   \n",
       "4      Stanislaus County, California                332346.0   \n",
       "..                               ...                     ...   \n",
       "823     Ponce Municipio, Puerto Rico                     NaN   \n",
       "824  Toa Alta Municipio, Puerto Rico                     NaN   \n",
       "825  Carolina Municipio, Puerto Rico                     NaN   \n",
       "826  Guaynabo Municipio, Puerto Rico                     NaN   \n",
       "827   Arecibo Municipio, Puerto Rico                     NaN   \n",
       "\n",
       "     people_without_high_school  est_median_income state county  \n",
       "0                       23708.0            27000.0    06    087  \n",
       "1                       11325.0            22980.0    06    089  \n",
       "2                       37577.0            30657.0    06    095  \n",
       "3                       43768.0            30722.0    06    097  \n",
       "4                       71835.0            23227.0    06    099  \n",
       "..                          ...                ...   ...    ...  \n",
       "823                         NaN                NaN    72    113  \n",
       "824                         NaN                NaN    72    135  \n",
       "825                         NaN                NaN    72    031  \n",
       "826                         NaN                NaN    72    061  \n",
       "827                         NaN                NaN    72    013  \n",
       "\n",
       "[828 rows x 6 columns]"
      ]
     },
     "execution_count": 22,
     "metadata": {},
     "output_type": "execute_result"
    }
   ],
   "source": [
    "gender_pop1_county=gender_pop1_county.rename(columns={\n",
    "    'B06009_001E':'people_edu_level_count','B06009_002E':'people_without_high_school','B07011_001E':'est_median_income'\n",
    "})\n",
    "gender_pop1_county"
   ]
  },
  {
   "cell_type": "code",
   "execution_count": null,
   "metadata": {},
   "outputs": [],
   "source": []
  }
 ],
 "metadata": {
  "kernelspec": {
   "display_name": "Python 3 (ipykernel)",
   "language": "python",
   "name": "python3"
  },
  "language_info": {
   "codemirror_mode": {
    "name": "ipython",
    "version": 3
   },
   "file_extension": ".py",
   "mimetype": "text/x-python",
   "name": "python",
   "nbconvert_exporter": "python",
   "pygments_lexer": "ipython3",
   "version": "3.8.8"
  }
 },
 "nbformat": 4,
 "nbformat_minor": 4
}
