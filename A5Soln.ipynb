{
 "cells": [
  {
   "cell_type": "markdown",
   "metadata": {},
   "source": [
    "# Assignment 5 Solution\n",
    "\n",
    "This is my Assignment 5 solution.\n",
    "\n",
    "It is **not** fully written up - I am focusing on the technical coding pieces.\n",
    "\n",
    "It is also likely not optimal.  I have not aggressively optimimized what I can get out of the data."
   ]
  },
  {
   "cell_type": "markdown",
   "metadata": {},
   "source": [
    "## Setup\n",
    "\n",
    "Let's import our base libraries:"
   ]
  },
  {
   "cell_type": "code",
   "execution_count": 1,
   "metadata": {},
   "outputs": [],
   "source": [
    "import pandas as pd\n",
    "import numpy as np\n",
    "import matplotlib.pyplot as plt\n",
    "import seaborn as sns"
   ]
  },
  {
   "cell_type": "code",
   "execution_count": 2,
   "metadata": {},
   "outputs": [],
   "source": [
    "from sklearn.base import BaseEstimator, TransformerMixin\n",
    "from sklearn.pipeline import Pipeline\n",
    "from sklearn.dummy import DummyClassifier\n",
    "from sklearn.preprocessing import StandardScaler, FunctionTransformer, Binarizer, OneHotEncoder, PolynomialFeatures\n",
    "from sklearn.model_selection import train_test_split\n",
    "from sklearn.compose import ColumnTransformer, make_column_selector\n",
    "from sklearn.linear_model import LogisticRegression, LogisticRegressionCV\n",
    "from sklearn.ensemble import RandomForestClassifier\n",
    "from sklearn.impute import SimpleImputer\n",
    "from sklearn.metrics import accuracy_score, precision_score, recall_score, classification_report, confusion_matrix"
   ]
  },
  {
   "cell_type": "markdown",
   "metadata": {},
   "source": [
    "Set up an RNG:"
   ]
  },
  {
   "cell_type": "code",
   "execution_count": 3,
   "metadata": {},
   "outputs": [],
   "source": [
    "import seedbank\n",
    "seedbank.initialize(20211104)\n",
    "rng = seedbank.numpy_random_state()"
   ]
  },
  {
   "cell_type": "markdown",
   "metadata": {},
   "source": [
    "## Data Import\n",
    "\n",
    "Let's import the full SBA data:"
   ]
  },
  {
   "cell_type": "code",
   "execution_count": 4,
   "metadata": {},
   "outputs": [
    {
     "name": "stderr",
     "output_type": "stream",
     "text": [
      "/home/MICHAELEKSTRAND/anaconda3/envs/cs533/lib/python3.9/site-packages/IPython/core/interactiveshell.py:3441: DtypeWarning: Columns (9) have mixed types.Specify dtype option on import or set low_memory=False.\n",
      "  exec(code_obj, self.user_global_ns, self.user_ns)\n"
     ]
    },
    {
     "name": "stdout",
     "output_type": "stream",
     "text": [
      "<class 'pandas.core.frame.DataFrame'>\n",
      "RangeIndex: 899164 entries, 0 to 899163\n",
      "Data columns (total 27 columns):\n",
      " #   Column             Non-Null Count   Dtype  \n",
      "---  ------             --------------   -----  \n",
      " 0   LoanNr_ChkDgt      899164 non-null  int64  \n",
      " 1   Name               899150 non-null  object \n",
      " 2   City               899134 non-null  object \n",
      " 3   State              899150 non-null  object \n",
      " 4   Zip                899164 non-null  int64  \n",
      " 5   Bank               897605 non-null  object \n",
      " 6   BankState          897598 non-null  object \n",
      " 7   NAICS              899164 non-null  int64  \n",
      " 8   ApprovalDate       899164 non-null  object \n",
      " 9   ApprovalFY         899164 non-null  object \n",
      " 10  Term               899164 non-null  int64  \n",
      " 11  NoEmp              899164 non-null  int64  \n",
      " 12  NewExist           899028 non-null  float64\n",
      " 13  CreateJob          899164 non-null  int64  \n",
      " 14  RetainedJob        899164 non-null  int64  \n",
      " 15  FranchiseCode      899164 non-null  int64  \n",
      " 16  UrbanRural         899164 non-null  int64  \n",
      " 17  RevLineCr          894636 non-null  object \n",
      " 18  LowDoc             896582 non-null  object \n",
      " 19  ChgOffDate         162699 non-null  object \n",
      " 20  DisbursementDate   896796 non-null  object \n",
      " 21  DisbursementGross  899164 non-null  object \n",
      " 22  BalanceGross       899164 non-null  object \n",
      " 23  MIS_Status         897167 non-null  object \n",
      " 24  ChgOffPrinGr       899164 non-null  object \n",
      " 25  GrAppv             899164 non-null  object \n",
      " 26  SBA_Appv           899164 non-null  object \n",
      "dtypes: float64(1), int64(9), object(17)\n",
      "memory usage: 185.2+ MB\n"
     ]
    }
   ],
   "source": [
    "sba_full = pd.read_csv('../data/SBA/SBAnational.csv')\n",
    "sba_full.info()"
   ]
  },
  {
   "cell_type": "markdown",
   "metadata": {},
   "source": [
    "For consistency, let's go ahead and set up our outcome variable right now.  First, are we missing any?"
   ]
  },
  {
   "cell_type": "code",
   "execution_count": 5,
   "metadata": {},
   "outputs": [
    {
     "data": {
      "text/plain": [
       "1997"
      ]
     },
     "execution_count": 5,
     "metadata": {},
     "output_type": "execute_result"
    }
   ],
   "source": [
    "sba_full['MIS_Status'].isnull().sum()"
   ]
  },
  {
   "cell_type": "markdown",
   "metadata": {},
   "source": [
    "Ok, we have a small number of data points with no outcome variable. Drop them, and set a `PaidOff` variable:"
   ]
  },
  {
   "cell_type": "code",
   "execution_count": 6,
   "metadata": {},
   "outputs": [
    {
     "data": {
      "text/plain": [
       "897167"
      ]
     },
     "execution_count": 6,
     "metadata": {},
     "output_type": "execute_result"
    }
   ],
   "source": [
    "sba = sba_full[sba_full['MIS_Status'].notnull()].copy()\n",
    "sba['PaidOff'] = sba['MIS_Status'] == 'P I F'\n",
    "len(sba)"
   ]
  },
  {
   "cell_type": "markdown",
   "metadata": {},
   "source": [
    "The amounts (disbursement gross, etc.) are strings, because they contain '$' and commas.  Let's turn those into numbers."
   ]
  },
  {
   "cell_type": "code",
   "execution_count": 7,
   "metadata": {},
   "outputs": [
    {
     "name": "stderr",
     "output_type": "stream",
     "text": [
      "/tmp/ipykernel_284805/990110382.py:1: FutureWarning: The default value of regex will change from True to False in a future version.\n",
      "  sba['DisbursementGross'] = sba['DisbursementGross'].str.replace(r'^\\$|,', '').astype('f4')\n",
      "/tmp/ipykernel_284805/990110382.py:2: FutureWarning: The default value of regex will change from True to False in a future version.\n",
      "  sba['GrAppv'] = sba['GrAppv'].str.replace(r'^\\$|,', '').astype('f4')\n",
      "/tmp/ipykernel_284805/990110382.py:3: FutureWarning: The default value of regex will change from True to False in a future version.\n",
      "  sba['SBA_Appv'] = sba['SBA_Appv'].str.replace(r'^\\$|,', '').astype('f4')\n"
     ]
    }
   ],
   "source": [
    "sba['DisbursementGross'] = sba['DisbursementGross'].str.replace(r'^\\$|,', '').astype('f4')\n",
    "sba['GrAppv'] = sba['GrAppv'].str.replace(r'^\\$|,', '').astype('f4')\n",
    "sba['SBA_Appv'] = sba['SBA_Appv'].str.replace(r'^\\$|,', '').astype('f4')"
   ]
  },
  {
   "cell_type": "markdown",
   "metadata": {},
   "source": [
    "And we want to parse out dates. What is the disbursment date?"
   ]
  },
  {
   "cell_type": "code",
   "execution_count": 8,
   "metadata": {},
   "outputs": [],
   "source": [
    "sba['DisbursementDate'] = pd.to_datetime(sba['DisbursementDate'], format='%d-%b-%y')\n",
    "sba['ApprovalDate'] = pd.to_datetime(sba['ApprovalDate'], format='%d-%b-%y')"
   ]
  },
  {
   "cell_type": "markdown",
   "metadata": {},
   "source": [
    "And make a 25% train/test split:"
   ]
  },
  {
   "cell_type": "code",
   "execution_count": 9,
   "metadata": {},
   "outputs": [
    {
     "name": "stdout",
     "output_type": "stream",
     "text": [
      "<class 'pandas.core.frame.DataFrame'>\n",
      "Int64Index: 672875 entries, 636723 to 802466\n",
      "Data columns (total 28 columns):\n",
      " #   Column             Non-Null Count   Dtype         \n",
      "---  ------             --------------   -----         \n",
      " 0   LoanNr_ChkDgt      672875 non-null  int64         \n",
      " 1   Name               672863 non-null  object        \n",
      " 2   City               672850 non-null  object        \n",
      " 3   State              672867 non-null  object        \n",
      " 4   Zip                672875 non-null  int64         \n",
      " 5   Bank               671759 non-null  object        \n",
      " 6   BankState          671754 non-null  object        \n",
      " 7   NAICS              672875 non-null  int64         \n",
      " 8   ApprovalDate       672875 non-null  datetime64[ns]\n",
      " 9   ApprovalFY         672875 non-null  object        \n",
      " 10  Term               672875 non-null  int64         \n",
      " 11  NoEmp              672875 non-null  int64         \n",
      " 12  NewExist           672771 non-null  float64       \n",
      " 13  CreateJob          672875 non-null  int64         \n",
      " 14  RetainedJob        672875 non-null  int64         \n",
      " 15  FranchiseCode      672875 non-null  int64         \n",
      " 16  UrbanRural         672875 non-null  int64         \n",
      " 17  RevLineCr          669527 non-null  object        \n",
      " 18  LowDoc             670931 non-null  object        \n",
      " 19  ChgOffDate         121688 non-null  object        \n",
      " 20  DisbursementDate   671248 non-null  datetime64[ns]\n",
      " 21  DisbursementGross  672875 non-null  float32       \n",
      " 22  BalanceGross       672875 non-null  object        \n",
      " 23  MIS_Status         672875 non-null  object        \n",
      " 24  ChgOffPrinGr       672875 non-null  object        \n",
      " 25  GrAppv             672875 non-null  float32       \n",
      " 26  SBA_Appv           672875 non-null  float32       \n",
      " 27  PaidOff            672875 non-null  bool          \n",
      "dtypes: bool(1), datetime64[ns](2), float32(3), float64(1), int64(9), object(12)\n",
      "memory usage: 136.7+ MB\n"
     ]
    }
   ],
   "source": [
    "train, test = train_test_split(sba, test_size=0.25, random_state=rng)\n",
    "train.info()"
   ]
  },
  {
   "cell_type": "markdown",
   "metadata": {},
   "source": [
    "And make our feature and target variables.  I'm going to drop chargeoff features, because they are direct proxies for the outcome (if it is paid in full, there is no chargeoff date or amount)."
   ]
  },
  {
   "cell_type": "code",
   "execution_count": 10,
   "metadata": {},
   "outputs": [],
   "source": [
    "train_x = train.drop(columns=['ChgOffDate', 'ChgOffPrinGr', 'MIS_Status', 'PaidOff', 'BalanceGross'])\n",
    "test_x = test.drop(columns=['ChgOffDate', 'ChgOffPrinGr', 'MIS_Status', 'PaidOff', 'BalanceGross'])"
   ]
  },
  {
   "cell_type": "code",
   "execution_count": 11,
   "metadata": {},
   "outputs": [],
   "source": [
    "train_y = train['PaidOff']\n",
    "test_y = test['PaidOff']"
   ]
  },
  {
   "cell_type": "markdown",
   "metadata": {},
   "source": [
    "## Exploration\n",
    "\n",
    "What is the distrbution of outcome variables?"
   ]
  },
  {
   "cell_type": "code",
   "execution_count": 12,
   "metadata": {},
   "outputs": [
    {
     "data": {
      "text/plain": [
       "<AxesSubplot:xlabel='PaidOff', ylabel='count'>"
      ]
     },
     "execution_count": 12,
     "metadata": {},
     "output_type": "execute_result"
    },
    {
     "data": {
      "image/png": "[encoded data removed]",
      "text/plain": [
       "<Figure size 432x288 with 1 Axes>"
      ]
     },
     "metadata": {
      "needs_background": "light"
     },
     "output_type": "display_data"
    }
   ],
   "source": [
    "sns.countplot(x=train['PaidOff'])"
   ]
  },
  {
   "cell_type": "markdown",
   "metadata": {},
   "source": [
    "The majority class is clearly paid-in-full, and by quite a bit.\n",
    "\n",
    "So let's set up a majority-class output:"
   ]
  },
  {
   "cell_type": "code",
   "execution_count": 13,
   "metadata": {},
   "outputs": [],
   "source": [
    "maj_train_out = pd.Series(True, index=train.index)\n",
    "maj_test_out = pd.Series(True, index=test.index)"
   ]
  },
  {
   "cell_type": "markdown",
   "metadata": {},
   "source": [
    "Let's go ahead and get its accuracy on test data:"
   ]
  },
  {
   "cell_type": "code",
   "execution_count": 14,
   "metadata": {},
   "outputs": [
    {
     "data": {
      "text/plain": [
       "0.8238947443511138"
      ]
     },
     "execution_count": 14,
     "metadata": {},
     "output_type": "execute_result"
    }
   ],
   "source": [
    "accuracy_score(test_y, maj_test_out)"
   ]
  },
  {
   "cell_type": "markdown",
   "metadata": {},
   "source": [
    "Precision and recall are undefined and 0, respectively, because it never flags a default."
   ]
  },
  {
   "cell_type": "markdown",
   "metadata": {},
   "source": [
    "## Feature Selectors"
   ]
  },
  {
   "cell_type": "markdown",
   "metadata": {},
   "source": [
    "Let's make a few transformer functions that will be useful for a lot of our models:"
   ]
  },
  {
   "cell_type": "code",
   "execution_count": 15,
   "metadata": {},
   "outputs": [],
   "source": [
    "def f_is_new(X, *args):\n",
    "    res = X['NewExist'] == 2\n",
    "    return res.to_frame('IsNew')"
   ]
  },
  {
   "cell_type": "code",
   "execution_count": 16,
   "metadata": {},
   "outputs": [],
   "source": [
    "def f_portion(X, *args):\n",
    "    res = X['SBA_Appv'] / X['GrAppv']\n",
    "    return res.to_frame('Portion')"
   ]
  },
  {
   "cell_type": "markdown",
   "metadata": {},
   "source": [
    "And it's in the recession if it was disbursed before and due after the recession start date:"
   ]
  },
  {
   "cell_type": "code",
   "execution_count": 17,
   "metadata": {},
   "outputs": [],
   "source": [
    "def f_is_recession(X, *args):\n",
    "    start = pd.to_datetime('2007-12-01')\n",
    "    end = pd.to_datetime('2009-06-30')\n",
    "    db = X['DisbursementDate'] < start\n",
    "    due = X['DisbursementDate'].copy()\n",
    "    term = X['Term']\n",
    "    for t in term.unique():\n",
    "        tdo = pd.DateOffset(months=t)\n",
    "        due[term == t] += tdo\n",
    "    res = (due >= start) & (due <= end)\n",
    "    return res.to_frame('Recession')"
   ]
  },
  {
   "cell_type": "markdown",
   "metadata": {},
   "source": [
    "We'll then use these with function transformers:"
   ]
  },
  {
   "cell_type": "code",
   "execution_count": 18,
   "metadata": {},
   "outputs": [
    {
     "data": {
      "text/html": [
       "<div>\n",
       "<style scoped>\n",
       "    .dataframe tbody tr th:only-of-type {\n",
       "        vertical-align: middle;\n",
       "    }\n",
       "\n",
       "    .dataframe tbody tr th {\n",
       "        vertical-align: top;\n",
       "    }\n",
       "\n",
       "    .dataframe thead th {\n",
       "        text-align: right;\n",
       "    }\n",
       "</style>\n",
       "<table border=\"1\" class=\"dataframe\">\n",
       "  <thead>\n",
       "    <tr style=\"text-align: right;\">\n",
       "      <th></th>\n",
       "      <th>IsNew</th>\n",
       "    </tr>\n",
       "  </thead>\n",
       "  <tbody>\n",
       "    <tr>\n",
       "      <th>636723</th>\n",
       "      <td>False</td>\n",
       "    </tr>\n",
       "    <tr>\n",
       "      <th>664089</th>\n",
       "      <td>False</td>\n",
       "    </tr>\n",
       "    <tr>\n",
       "      <th>886213</th>\n",
       "      <td>True</td>\n",
       "    </tr>\n",
       "    <tr>\n",
       "      <th>542760</th>\n",
       "      <td>False</td>\n",
       "    </tr>\n",
       "    <tr>\n",
       "      <th>701623</th>\n",
       "      <td>False</td>\n",
       "    </tr>\n",
       "    <tr>\n",
       "      <th>...</th>\n",
       "      <td>...</td>\n",
       "    </tr>\n",
       "    <tr>\n",
       "      <th>779125</th>\n",
       "      <td>False</td>\n",
       "    </tr>\n",
       "    <tr>\n",
       "      <th>283144</th>\n",
       "      <td>False</td>\n",
       "    </tr>\n",
       "    <tr>\n",
       "      <th>554096</th>\n",
       "      <td>False</td>\n",
       "    </tr>\n",
       "    <tr>\n",
       "      <th>830059</th>\n",
       "      <td>False</td>\n",
       "    </tr>\n",
       "    <tr>\n",
       "      <th>802466</th>\n",
       "      <td>True</td>\n",
       "    </tr>\n",
       "  </tbody>\n",
       "</table>\n",
       "<p>672875 rows × 1 columns</p>\n",
       "</div>"
      ],
      "text/plain": [
       "        IsNew\n",
       "636723  False\n",
       "664089  False\n",
       "886213   True\n",
       "542760  False\n",
       "701623  False\n",
       "...       ...\n",
       "779125  False\n",
       "283144  False\n",
       "554096  False\n",
       "830059  False\n",
       "802466   True\n",
       "\n",
       "[672875 rows x 1 columns]"
      ]
     },
     "execution_count": 18,
     "metadata": {},
     "output_type": "execute_result"
    }
   ],
   "source": [
    "FunctionTransformer(f_is_new).fit_transform(train_x)"
   ]
  },
  {
   "cell_type": "markdown",
   "metadata": {},
   "source": [
    "## Logistic Model\n",
    "\n",
    "Let's build a logistic model!"
   ]
  },
  {
   "cell_type": "code",
   "execution_count": 19,
   "metadata": {},
   "outputs": [],
   "source": [
    "tt_x, tu_x, tt_y, tu_y = train_test_split(train_x, train_y, test_size=0.2)"
   ]
  },
  {
   "cell_type": "markdown",
   "metadata": {},
   "source": [
    "And get the tuning data majority class, this time with a `DummyClassifier` to demonstrate it:"
   ]
  },
  {
   "cell_type": "code",
   "execution_count": 20,
   "metadata": {},
   "outputs": [
    {
     "data": {
      "text/plain": [
       "0.8245365038082854"
      ]
     },
     "execution_count": 20,
     "metadata": {},
     "output_type": "execute_result"
    }
   ],
   "source": [
    "maj_cls = DummyClassifier(strategy='most_frequent')\n",
    "maj_cls.fit(tt_x, tt_y)\n",
    "tu_ma = accuracy_score(tu_y, maj_cls.predict(tu_x))\n",
    "tu_ma"
   ]
  },
  {
   "cell_type": "markdown",
   "metadata": {},
   "source": [
    "### Apply Simple Model\n",
    "And now we're going to try a simple model:"
   ]
  },
  {
   "cell_type": "code",
   "execution_count": 21,
   "metadata": {},
   "outputs": [
    {
     "data": {
      "text/plain": [
       "Pipeline(steps=[('prepare',\n",
       "                 ColumnTransformer(transformers=[('IsNew',\n",
       "                                                  FunctionTransformer(func=<function f_is_new at 0x7f57d863e940>),\n",
       "                                                  ['NewExist']),\n",
       "                                                 ('RealEstate',\n",
       "                                                  Binarizer(threshold=240),\n",
       "                                                  ['Term']),\n",
       "                                                 ('Portion',\n",
       "                                                  FunctionTransformer(func=<function f_portion at 0x7f57d863eb80>),\n",
       "                                                  ['GrAppv', 'SBA_Appv']),\n",
       "                                                 ('Gross', StandardScaler(),\n",
       "                                                  ['GrAppv'])])),\n",
       "                ('classify', LogisticRegression(penalty='none'))])"
      ]
     },
     "execution_count": 21,
     "metadata": {},
     "output_type": "execute_result"
    }
   ],
   "source": [
    "fss_prep = ColumnTransformer([\n",
    "    ('IsNew', FunctionTransformer(f_is_new), ['NewExist']),\n",
    "    ('RealEstate', Binarizer(threshold=240), ['Term']),\n",
    "    ('Portion', FunctionTransformer(f_portion), ['GrAppv', 'SBA_Appv']),\n",
    "#     ('Recession', FunctionTransformer(f_is_recession), ['DisbursementDate', 'Term']),\n",
    "    ('Gross', StandardScaler(), ['GrAppv'])\n",
    "])\n",
    "fss_pipe = Pipeline([\n",
    "    ('prepare', fss_prep),\n",
    "    ('classify', LogisticRegression(penalty='none'))\n",
    "])\n",
    "fss_pipe.fit(tt_x, tt_y)"
   ]
  },
  {
   "cell_type": "markdown",
   "metadata": {},
   "source": [
    "Training accuracy:"
   ]
  },
  {
   "cell_type": "code",
   "execution_count": 22,
   "metadata": {},
   "outputs": [
    {
     "data": {
      "text/plain": [
       "0.8245476500092885"
      ]
     },
     "execution_count": 22,
     "metadata": {},
     "output_type": "execute_result"
    }
   ],
   "source": [
    "accuracy_score(tt_y, fss_pipe.predict(tt_x))"
   ]
  },
  {
   "cell_type": "markdown",
   "metadata": {},
   "source": [
    "Tuning metrics:"
   ]
  },
  {
   "cell_type": "code",
   "execution_count": 23,
   "metadata": {},
   "outputs": [
    {
     "data": {
      "text/plain": [
       "0.824514211406279"
      ]
     },
     "execution_count": 23,
     "metadata": {},
     "output_type": "execute_result"
    }
   ],
   "source": [
    "accuracy_score(tu_y, fss_pipe.predict(tu_x))"
   ]
  },
  {
   "cell_type": "markdown",
   "metadata": {},
   "source": [
    "This regression is just always classifying \"paid in full\", though."
   ]
  },
  {
   "cell_type": "markdown",
   "metadata": {},
   "source": [
    "### Expand Model\n",
    "\n",
    "Now it's time to expand the model with some more features.\n",
    "\n",
    "We're going to use `pd.get_dummies` instead of `OneHotEncoder` to deal with missing data better.\n",
    "\n",
    "We're going to try including all of the numeric features."
   ]
  },
  {
   "cell_type": "code",
   "execution_count": 24,
   "metadata": {},
   "outputs": [],
   "source": [
    "def f_year(dates):\n",
    "    return dates.dt.year.to_frame('Year')"
   ]
  },
  {
   "cell_type": "code",
   "execution_count": 25,
   "metadata": {},
   "outputs": [],
   "source": [
    "def pd_dummies(X, *args):\n",
    "    xf = pd.get_dummies(X).fillna(0)\n",
    "    return xf"
   ]
  },
  {
   "cell_type": "code",
   "execution_count": 26,
   "metadata": {},
   "outputs": [
    {
     "data": {
      "text/plain": [
       "(0.8258889095300018, 0.0013524057217164653)"
      ]
     },
     "execution_count": 26,
     "metadata": {},
     "output_type": "execute_result"
    }
   ],
   "source": [
    "num_pipe = Pipeline([\n",
    "    ('scale', StandardScaler()),\n",
    "    ('impute', SimpleImputer())\n",
    "])\n",
    "fss_prep = ColumnTransformer([\n",
    "    ('IsNew', FunctionTransformer(f_is_new), ['NewExist']),\n",
    "    ('RealEstate', Binarizer(threshold=240), ['Term']),\n",
    "    ('Portion', FunctionTransformer(f_portion), ['GrAppv', 'SBA_Appv']),\n",
    "    ('Recession', FunctionTransformer(f_is_recession), ['DisbursementDate', 'Term']),\n",
    "    # ('Year', FunctionTransformer(f_year), 'DisbursementDate'),\n",
    "    ('Numerics', num_pipe, ['NoEmp', 'CreateJob', 'RetainedJob']),\n",
    "    ('State', FunctionTransformer(pd_dummies), 'State'),\n",
    "])\n",
    "# fss_state = ColumnTransformer([\n",
    "#     ('State', OneHotEncoder(drop='first'), ['State'])\n",
    "# ])\n",
    "fss_pipe = Pipeline([\n",
    "    #('prepare', Interact(fss_prep, fss_state)),\n",
    "    ('prepare', fss_prep),\n",
    "    ('classify', LogisticRegression(penalty='none', max_iter=500))\n",
    "])\n",
    "fss_pipe.fit(tt_x, tt_y)\n",
    "tu_acc = accuracy_score(tu_y, fss_pipe.predict(tu_x))\n",
    "tu_acc, tu_acc - tu_ma"
   ]
  },
  {
   "cell_type": "markdown",
   "metadata": {
    "cell_style": "split"
   },
   "source": [
    "A small improvement over majority!"
   ]
  },
  {
   "cell_type": "markdown",
   "metadata": {},
   "source": [
    "And train accuracy:"
   ]
  },
  {
   "cell_type": "code",
   "execution_count": 27,
   "metadata": {},
   "outputs": [
    {
     "data": {
      "text/plain": [
       "0.8258461824261564"
      ]
     },
     "execution_count": 27,
     "metadata": {},
     "output_type": "execute_result"
    }
   ],
   "source": [
    "accuracy_score(tt_y, fss_pipe.predict(tt_x))"
   ]
  },
  {
   "cell_type": "markdown",
   "metadata": {},
   "source": [
    "### Test Data\n",
    "\n",
    "Now we'll get test accuracy."
   ]
  },
  {
   "cell_type": "code",
   "execution_count": 28,
   "metadata": {
    "scrolled": true
   },
   "outputs": [],
   "source": [
    "fss_pipe.fit(train_x, train_y)\n",
    "lr_test_out = fss_pipe.predict(test_x)"
   ]
  },
  {
   "cell_type": "code",
   "execution_count": 29,
   "metadata": {},
   "outputs": [
    {
     "data": {
      "text/plain": [
       "0.8253927915396002"
      ]
     },
     "execution_count": 29,
     "metadata": {},
     "output_type": "execute_result"
    }
   ],
   "source": [
    "accuracy_score(test_y, lr_test_out)"
   ]
  },
  {
   "cell_type": "markdown",
   "metadata": {},
   "source": [
    "## Lasso\n",
    "\n",
    "Let's put a lasso on this for some automatic feature selection."
   ]
  },
  {
   "cell_type": "code",
   "execution_count": 30,
   "metadata": {},
   "outputs": [
    {
     "data": {
      "text/plain": [
       "Pipeline(steps=[('prepare',\n",
       "                 ColumnTransformer(transformers=[('IsNew',\n",
       "                                                  FunctionTransformer(func=<function f_is_new at 0x7f57d863e940>),\n",
       "                                                  ['NewExist']),\n",
       "                                                 ('RealEstate',\n",
       "                                                  Binarizer(threshold=240),\n",
       "                                                  ['Term']),\n",
       "                                                 ('Portion',\n",
       "                                                  FunctionTransformer(func=<function f_portion at 0x7f57d863eb80>),\n",
       "                                                  ['GrAppv', 'SBA_Appv']),\n",
       "                                                 ('Recession',\n",
       "                                                  FunctionTransformer(func=<function f_is_recession at 0x7f57d863edc0>),\n",
       "                                                  ['DisbursementDate', 'Term']),\n",
       "                                                 ('Numerics',\n",
       "                                                  Pipeline(steps=[('scale',\n",
       "                                                                   StandardScaler()),\n",
       "                                                                  ('impute',\n",
       "                                                                   SimpleImputer())]),\n",
       "                                                  ['NoEmp', 'CreateJob',\n",
       "                                                   'RetainedJob']),\n",
       "                                                 ('State',\n",
       "                                                  FunctionTransformer(func=<function pd_dummies at 0x7f57d8cf4040>),\n",
       "                                                  'State')])),\n",
       "                ('classify',\n",
       "                 LogisticRegressionCV(cv=4, max_iter=500, n_jobs=4,\n",
       "                                      penalty='l1', solver='saga'))])"
      ]
     },
     "execution_count": 30,
     "metadata": {},
     "output_type": "execute_result"
    }
   ],
   "source": [
    "num_pipe = Pipeline([\n",
    "    ('scale', StandardScaler()),\n",
    "    ('impute', SimpleImputer())\n",
    "])\n",
    "l1_prep = ColumnTransformer([\n",
    "    ('IsNew', FunctionTransformer(f_is_new), ['NewExist']),\n",
    "    ('RealEstate', Binarizer(threshold=240), ['Term']),\n",
    "    ('Portion', FunctionTransformer(f_portion), ['GrAppv', 'SBA_Appv']),\n",
    "    ('Recession', FunctionTransformer(f_is_recession), ['DisbursementDate', 'Term']),\n",
    "    # ('Year', FunctionTransformer(f_year), 'DisbursementDate'),\n",
    "    ('Numerics', num_pipe, make_column_selector(dtype_include=np.number)),\n",
    "    ('State', FunctionTransformer(pd_dummies), 'State')\n",
    "])\n",
    "l1_pipe = Pipeline([\n",
    "    ('prepare', fss_prep),\n",
    "    ('classify', LogisticRegressionCV(penalty='l1', cv=4, solver='saga', max_iter=500, n_jobs=4))\n",
    "])\n",
    "l1_pipe.fit(train_x, train_y)"
   ]
  },
  {
   "cell_type": "markdown",
   "metadata": {},
   "source": [
    "What's our train accuracy?"
   ]
  },
  {
   "cell_type": "code",
   "execution_count": 31,
   "metadata": {},
   "outputs": [
    {
     "data": {
      "text/plain": [
       "0.8258532416867918"
      ]
     },
     "execution_count": 31,
     "metadata": {},
     "output_type": "execute_result"
    }
   ],
   "source": [
    "accuracy_score(train_y, l1_pipe.predict(train_x))"
   ]
  },
  {
   "cell_type": "markdown",
   "metadata": {},
   "source": [
    "And test accuracy?"
   ]
  },
  {
   "cell_type": "code",
   "execution_count": 32,
   "metadata": {},
   "outputs": [
    {
     "data": {
      "text/plain": [
       "0.8254106254347012"
      ]
     },
     "execution_count": 32,
     "metadata": {},
     "output_type": "execute_result"
    }
   ],
   "source": [
    "l1_test_out = l1_pipe.predict(test_x)\n",
    "accuracy_score(test_y, l1_test_out)"
   ]
  },
  {
   "cell_type": "markdown",
   "metadata": {},
   "source": [
    "## Elastic Net\n",
    "\n",
    "Let's do the elastic net:"
   ]
  },
  {
   "cell_type": "code",
   "execution_count": 33,
   "metadata": {},
   "outputs": [
    {
     "data": {
      "text/plain": [
       "Pipeline(steps=[('prepare',\n",
       "                 ColumnTransformer(transformers=[('IsNew',\n",
       "                                                  FunctionTransformer(func=<function f_is_new at 0x7f57d863e940>),\n",
       "                                                  ['NewExist']),\n",
       "                                                 ('RealEstate',\n",
       "                                                  Binarizer(threshold=240),\n",
       "                                                  ['Term']),\n",
       "                                                 ('Portion',\n",
       "                                                  FunctionTransformer(func=<function f_portion at 0x7f57d863eb80>),\n",
       "                                                  ['GrAppv', 'SBA_Appv']),\n",
       "                                                 ('Recession',\n",
       "                                                  FunctionTransformer(func=<function f_is_recession a...\n",
       "                                                  ['DisbursementDate', 'Term']),\n",
       "                                                 ('Numerics',\n",
       "                                                  Pipeline(steps=[('scale',\n",
       "                                                                   StandardScaler()),\n",
       "                                                                  ('impute',\n",
       "                                                                   SimpleImputer())]),\n",
       "                                                  ['NoEmp', 'CreateJob',\n",
       "                                                   'RetainedJob']),\n",
       "                                                 ('State',\n",
       "                                                  FunctionTransformer(func=<function pd_dummies at 0x7f57d8cf4040>),\n",
       "                                                  'State')])),\n",
       "                ('classify',\n",
       "                 LogisticRegressionCV(cv=4,\n",
       "                                      l1_ratios=array([0.  , 0.25, 0.5 , 0.75, 1.  ]),\n",
       "                                      max_iter=500, n_jobs=12,\n",
       "                                      penalty='elasticnet', solver='saga'))])"
      ]
     },
     "execution_count": 33,
     "metadata": {},
     "output_type": "execute_result"
    }
   ],
   "source": [
    "num_pipe = Pipeline([\n",
    "    ('scale', StandardScaler()),\n",
    "    ('impute', SimpleImputer())\n",
    "])\n",
    "en_prep = ColumnTransformer([\n",
    "    ('IsNew', FunctionTransformer(f_is_new), ['NewExist']),\n",
    "    ('RealEstate', Binarizer(threshold=240), ['Term']),\n",
    "    ('Portion', FunctionTransformer(f_portion), ['GrAppv', 'SBA_Appv']),\n",
    "    ('Recession', FunctionTransformer(f_is_recession), ['DisbursementDate', 'Term']),\n",
    "    # ('Year', FunctionTransformer(f_year), 'DisbursementDate'),\n",
    "    ('Numerics', num_pipe, make_column_selector(dtype_include=np.number)),\n",
    "    ('State', FunctionTransformer(pd_dummies), 'State')\n",
    "])\n",
    "en_pipe = Pipeline([\n",
    "    ('prepare', fss_prep),\n",
    "    ('classify', LogisticRegressionCV(penalty='elasticnet', cv=4, l1_ratios=np.linspace(0, 1, 5), \n",
    "                                      solver='saga', max_iter=500, n_jobs=12))\n",
    "])\n",
    "en_pipe.fit(train_x, train_y)"
   ]
  },
  {
   "cell_type": "markdown",
   "metadata": {},
   "source": [
    "What's our train accuracy?"
   ]
  },
  {
   "cell_type": "code",
   "execution_count": 34,
   "metadata": {},
   "outputs": [
    {
     "data": {
      "text/plain": [
       "0.8258547278469255"
      ]
     },
     "execution_count": 34,
     "metadata": {},
     "output_type": "execute_result"
    }
   ],
   "source": [
    "accuracy_score(train_y, en_pipe.predict(train_x))"
   ]
  },
  {
   "cell_type": "markdown",
   "metadata": {},
   "source": [
    "And test accuracy?"
   ]
  },
  {
   "cell_type": "code",
   "execution_count": 35,
   "metadata": {},
   "outputs": [
    {
     "data": {
      "text/plain": [
       "0.8254106254347012"
      ]
     },
     "execution_count": 35,
     "metadata": {},
     "output_type": "execute_result"
    }
   ],
   "source": [
    "en_test_out = en_pipe.predict(test_x)\n",
    "accuracy_score(test_y, en_test_out)"
   ]
  },
  {
   "cell_type": "markdown",
   "metadata": {},
   "source": [
    "## Random Forest\n",
    "\n",
    "The random forest won't benefit from scaling.\n",
    "\n",
    "But we'll through all the features at it, with some transforms for some of ours."
   ]
  },
  {
   "cell_type": "code",
   "execution_count": 60,
   "metadata": {},
   "outputs": [],
   "source": [
    "rf_prep = ColumnTransformer([\n",
    "    ('IsNew', FunctionTransformer(f_is_new), ['NewExist']),\n",
    "    ('RealEstate', Binarizer(threshold=240), ['Term']),\n",
    "    ('Portion', FunctionTransformer(f_portion), ['GrAppv', 'SBA_Appv']),\n",
    "    ('Recession', FunctionTransformer(f_is_recession), ['DisbursementDate', 'Term']),\n",
    "    ('Numerics', SimpleImputer(), make_column_selector(dtype_include=np.number))\n",
    "])"
   ]
  },
  {
   "cell_type": "markdown",
   "metadata": {},
   "source": [
    "Now set up the pipeline. I'm going to limit the forest to depth-10 trees to reduce training time (and probably overfitting)."
   ]
  },
  {
   "cell_type": "code",
   "execution_count": 61,
   "metadata": {},
   "outputs": [],
   "source": [
    "rf_pipe = Pipeline([\n",
    "    ('prep', rf_prep),\n",
    "    ('classify', RandomForestClassifier(max_depth=10))\n",
    "])"
   ]
  },
  {
   "cell_type": "markdown",
   "metadata": {},
   "source": [
    "Fit the model:"
   ]
  },
  {
   "cell_type": "code",
   "execution_count": 62,
   "metadata": {},
   "outputs": [
    {
     "data": {
      "text/plain": [
       "Pipeline(steps=[('prep',\n",
       "                 ColumnTransformer(transformers=[('IsNew',\n",
       "                                                  FunctionTransformer(func=<function f_is_new at 0x7f57d863e940>),\n",
       "                                                  ['NewExist']),\n",
       "                                                 ('RealEstate',\n",
       "                                                  Binarizer(threshold=240),\n",
       "                                                  ['Term']),\n",
       "                                                 ('Portion',\n",
       "                                                  FunctionTransformer(func=<function f_portion at 0x7f57d863eb80>),\n",
       "                                                  ['GrAppv', 'SBA_Appv']),\n",
       "                                                 ('Recession',\n",
       "                                                  FunctionTransformer(func=<function f_is_recession at 0x7f57d863edc0>),\n",
       "                                                  ['DisbursementDate', 'Term']),\n",
       "                                                 ('Numerics', SimpleImputer(),\n",
       "                                                  <sklearn.compose._column_transformer.make_column_selector object at 0x7f57d8d14910>)])),\n",
       "                ('classify', RandomForestClassifier(max_depth=10))])"
      ]
     },
     "execution_count": 62,
     "metadata": {},
     "output_type": "execute_result"
    }
   ],
   "source": [
    "rf_pipe.fit(train_x, train_y)"
   ]
  },
  {
   "cell_type": "markdown",
   "metadata": {},
   "source": [
    "Get the train accuracy:"
   ]
  },
  {
   "cell_type": "code",
   "execution_count": 63,
   "metadata": {},
   "outputs": [
    {
     "data": {
      "text/plain": [
       "0.9264202117778191"
      ]
     },
     "execution_count": 63,
     "metadata": {},
     "output_type": "execute_result"
    }
   ],
   "source": [
    "accuracy_score(train_y, rf_pipe.predict(train_x))"
   ]
  },
  {
   "cell_type": "markdown",
   "metadata": {},
   "source": [
    "### Test Performance"
   ]
  },
  {
   "cell_type": "code",
   "execution_count": 64,
   "metadata": {},
   "outputs": [],
   "source": [
    "rf_test_out = rf_pipe.predict(test_x)"
   ]
  },
  {
   "cell_type": "code",
   "execution_count": 65,
   "metadata": {},
   "outputs": [
    {
     "data": {
      "text/plain": [
       "0.9246428762506019"
      ]
     },
     "execution_count": 65,
     "metadata": {},
     "output_type": "execute_result"
    }
   ],
   "source": [
    "accuracy_score(test_y, rf_test_out)"
   ]
  },
  {
   "cell_type": "markdown",
   "metadata": {},
   "source": [
    "## Summary Results\n",
    "\n",
    "Finally, let's put together summary results!"
   ]
  },
  {
   "cell_type": "code",
   "execution_count": 66,
   "metadata": {},
   "outputs": [
    {
     "data": {
      "text/html": [
       "<div>\n",
       "<style scoped>\n",
       "    .dataframe tbody tr th:only-of-type {\n",
       "        vertical-align: middle;\n",
       "    }\n",
       "\n",
       "    .dataframe tbody tr th {\n",
       "        vertical-align: top;\n",
       "    }\n",
       "\n",
       "    .dataframe thead th {\n",
       "        text-align: right;\n",
       "    }\n",
       "</style>\n",
       "<table border=\"1\" class=\"dataframe\">\n",
       "  <thead>\n",
       "    <tr style=\"text-align: right;\">\n",
       "      <th></th>\n",
       "      <th>Majority</th>\n",
       "      <th>Logistic</th>\n",
       "      <th>Lasso</th>\n",
       "      <th>ENet</th>\n",
       "      <th>RF</th>\n",
       "    </tr>\n",
       "  </thead>\n",
       "  <tbody>\n",
       "    <tr>\n",
       "      <th>680332</th>\n",
       "      <td>True</td>\n",
       "      <td>True</td>\n",
       "      <td>True</td>\n",
       "      <td>True</td>\n",
       "      <td>False</td>\n",
       "    </tr>\n",
       "    <tr>\n",
       "      <th>598268</th>\n",
       "      <td>True</td>\n",
       "      <td>True</td>\n",
       "      <td>True</td>\n",
       "      <td>True</td>\n",
       "      <td>True</td>\n",
       "    </tr>\n",
       "    <tr>\n",
       "      <th>223331</th>\n",
       "      <td>True</td>\n",
       "      <td>True</td>\n",
       "      <td>True</td>\n",
       "      <td>True</td>\n",
       "      <td>True</td>\n",
       "    </tr>\n",
       "    <tr>\n",
       "      <th>650774</th>\n",
       "      <td>True</td>\n",
       "      <td>True</td>\n",
       "      <td>True</td>\n",
       "      <td>True</td>\n",
       "      <td>True</td>\n",
       "    </tr>\n",
       "    <tr>\n",
       "      <th>876314</th>\n",
       "      <td>True</td>\n",
       "      <td>True</td>\n",
       "      <td>True</td>\n",
       "      <td>True</td>\n",
       "      <td>True</td>\n",
       "    </tr>\n",
       "    <tr>\n",
       "      <th>...</th>\n",
       "      <td>...</td>\n",
       "      <td>...</td>\n",
       "      <td>...</td>\n",
       "      <td>...</td>\n",
       "      <td>...</td>\n",
       "    </tr>\n",
       "    <tr>\n",
       "      <th>491114</th>\n",
       "      <td>True</td>\n",
       "      <td>True</td>\n",
       "      <td>True</td>\n",
       "      <td>True</td>\n",
       "      <td>False</td>\n",
       "    </tr>\n",
       "    <tr>\n",
       "      <th>168594</th>\n",
       "      <td>True</td>\n",
       "      <td>True</td>\n",
       "      <td>True</td>\n",
       "      <td>True</td>\n",
       "      <td>True</td>\n",
       "    </tr>\n",
       "    <tr>\n",
       "      <th>149991</th>\n",
       "      <td>True</td>\n",
       "      <td>True</td>\n",
       "      <td>True</td>\n",
       "      <td>True</td>\n",
       "      <td>True</td>\n",
       "    </tr>\n",
       "    <tr>\n",
       "      <th>879999</th>\n",
       "      <td>True</td>\n",
       "      <td>True</td>\n",
       "      <td>True</td>\n",
       "      <td>True</td>\n",
       "      <td>True</td>\n",
       "    </tr>\n",
       "    <tr>\n",
       "      <th>431125</th>\n",
       "      <td>True</td>\n",
       "      <td>True</td>\n",
       "      <td>True</td>\n",
       "      <td>True</td>\n",
       "      <td>True</td>\n",
       "    </tr>\n",
       "  </tbody>\n",
       "</table>\n",
       "<p>224292 rows × 5 columns</p>\n",
       "</div>"
      ],
      "text/plain": [
       "        Majority  Logistic  Lasso  ENet     RF\n",
       "680332      True      True   True  True  False\n",
       "598268      True      True   True  True   True\n",
       "223331      True      True   True  True   True\n",
       "650774      True      True   True  True   True\n",
       "876314      True      True   True  True   True\n",
       "...          ...       ...    ...   ...    ...\n",
       "491114      True      True   True  True  False\n",
       "168594      True      True   True  True   True\n",
       "149991      True      True   True  True   True\n",
       "879999      True      True   True  True   True\n",
       "431125      True      True   True  True   True\n",
       "\n",
       "[224292 rows x 5 columns]"
      ]
     },
     "execution_count": 66,
     "metadata": {},
     "output_type": "execute_result"
    }
   ],
   "source": [
    "results = pd.DataFrame({\n",
    "    'Majority': maj_test_out,\n",
    "    'Logistic': lr_test_out,\n",
    "    'Lasso': l1_test_out,\n",
    "    'ENet': en_test_out,\n",
    "    'RF': rf_test_out\n",
    "})\n",
    "results"
   ]
  },
  {
   "cell_type": "code",
   "execution_count": 67,
   "metadata": {},
   "outputs": [
    {
     "data": {
      "text/html": [
       "<div>\n",
       "<style scoped>\n",
       "    .dataframe tbody tr th:only-of-type {\n",
       "        vertical-align: middle;\n",
       "    }\n",
       "\n",
       "    .dataframe tbody tr th {\n",
       "        vertical-align: top;\n",
       "    }\n",
       "\n",
       "    .dataframe thead th {\n",
       "        text-align: right;\n",
       "    }\n",
       "</style>\n",
       "<table border=\"1\" class=\"dataframe\">\n",
       "  <thead>\n",
       "    <tr style=\"text-align: right;\">\n",
       "      <th></th>\n",
       "      <th>Accuracy</th>\n",
       "      <th>Precision</th>\n",
       "      <th>Recall</th>\n",
       "      <th>Specificity</th>\n",
       "    </tr>\n",
       "  </thead>\n",
       "  <tbody>\n",
       "    <tr>\n",
       "      <th>Majority</th>\n",
       "      <td>0.823895</td>\n",
       "      <td>0.823895</td>\n",
       "      <td>1.000000</td>\n",
       "      <td>0.000000</td>\n",
       "    </tr>\n",
       "    <tr>\n",
       "      <th>Logistic</th>\n",
       "      <td>0.825393</td>\n",
       "      <td>0.825917</td>\n",
       "      <td>0.998539</td>\n",
       "      <td>0.015342</td>\n",
       "    </tr>\n",
       "    <tr>\n",
       "      <th>Lasso</th>\n",
       "      <td>0.825411</td>\n",
       "      <td>0.825920</td>\n",
       "      <td>0.998561</td>\n",
       "      <td>0.015342</td>\n",
       "    </tr>\n",
       "    <tr>\n",
       "      <th>ENet</th>\n",
       "      <td>0.825411</td>\n",
       "      <td>0.825920</td>\n",
       "      <td>0.998561</td>\n",
       "      <td>0.015342</td>\n",
       "    </tr>\n",
       "    <tr>\n",
       "      <th>RF</th>\n",
       "      <td>0.924643</td>\n",
       "      <td>0.936495</td>\n",
       "      <td>0.974626</td>\n",
       "      <td>0.690802</td>\n",
       "    </tr>\n",
       "  </tbody>\n",
       "</table>\n",
       "</div>"
      ],
      "text/plain": [
       "          Accuracy  Precision    Recall  Specificity\n",
       "Majority  0.823895   0.823895  1.000000     0.000000\n",
       "Logistic  0.825393   0.825917  0.998539     0.015342\n",
       "Lasso     0.825411   0.825920  0.998561     0.015342\n",
       "ENet      0.825411   0.825920  0.998561     0.015342\n",
       "RF        0.924643   0.936495  0.974626     0.690802"
      ]
     },
     "execution_count": 67,
     "metadata": {},
     "output_type": "execute_result"
    }
   ],
   "source": [
    "metrics = pd.DataFrame({\n",
    "    'Accuracy': results.apply(lambda ds: accuracy_score(test_y, ds)),\n",
    "    'Precision': results.apply(lambda ds: precision_score(test_y, ds)),\n",
    "    'Recall': results.apply(lambda ds: recall_score(test_y, ds)),\n",
    "    # specificity is recall for the negative class\n",
    "    'Specificity': results.apply(lambda ds: recall_score(~test_y, ~ds)),\n",
    "})\n",
    "metrics"
   ]
  },
  {
   "cell_type": "markdown",
   "metadata": {},
   "source": [
    "Make the metrics \"tall\" for plotting"
   ]
  },
  {
   "cell_type": "code",
   "execution_count": 68,
   "metadata": {},
   "outputs": [
    {
     "data": {
      "text/html": [
       "<div>\n",
       "<style scoped>\n",
       "    .dataframe tbody tr th:only-of-type {\n",
       "        vertical-align: middle;\n",
       "    }\n",
       "\n",
       "    .dataframe tbody tr th {\n",
       "        vertical-align: top;\n",
       "    }\n",
       "\n",
       "    .dataframe thead th {\n",
       "        text-align: right;\n",
       "    }\n",
       "</style>\n",
       "<table border=\"1\" class=\"dataframe\">\n",
       "  <thead>\n",
       "    <tr style=\"text-align: right;\">\n",
       "      <th></th>\n",
       "      <th>Classifier</th>\n",
       "      <th>Metric</th>\n",
       "      <th>value</th>\n",
       "    </tr>\n",
       "  </thead>\n",
       "  <tbody>\n",
       "    <tr>\n",
       "      <th>0</th>\n",
       "      <td>Majority</td>\n",
       "      <td>Accuracy</td>\n",
       "      <td>0.823895</td>\n",
       "    </tr>\n",
       "    <tr>\n",
       "      <th>1</th>\n",
       "      <td>Logistic</td>\n",
       "      <td>Accuracy</td>\n",
       "      <td>0.825393</td>\n",
       "    </tr>\n",
       "    <tr>\n",
       "      <th>2</th>\n",
       "      <td>Lasso</td>\n",
       "      <td>Accuracy</td>\n",
       "      <td>0.825411</td>\n",
       "    </tr>\n",
       "    <tr>\n",
       "      <th>3</th>\n",
       "      <td>ENet</td>\n",
       "      <td>Accuracy</td>\n",
       "      <td>0.825411</td>\n",
       "    </tr>\n",
       "    <tr>\n",
       "      <th>4</th>\n",
       "      <td>RF</td>\n",
       "      <td>Accuracy</td>\n",
       "      <td>0.924643</td>\n",
       "    </tr>\n",
       "  </tbody>\n",
       "</table>\n",
       "</div>"
      ],
      "text/plain": [
       "  Classifier    Metric     value\n",
       "0   Majority  Accuracy  0.823895\n",
       "1   Logistic  Accuracy  0.825393\n",
       "2      Lasso  Accuracy  0.825411\n",
       "3       ENet  Accuracy  0.825411\n",
       "4         RF  Accuracy  0.924643"
      ]
     },
     "execution_count": 68,
     "metadata": {},
     "output_type": "execute_result"
    }
   ],
   "source": [
    "metrics.index.name = 'Classifier'\n",
    "tall_metrics = metrics.reset_index().melt(id_vars='Classifier', var_name='Metric')\n",
    "tall_metrics.head()"
   ]
  },
  {
   "cell_type": "code",
   "execution_count": 69,
   "metadata": {
    "scrolled": true
   },
   "outputs": [
    {
     "name": "stderr",
     "output_type": "stream",
     "text": [
      "/home/MICHAELEKSTRAND/anaconda3/envs/cs533/lib/python3.9/site-packages/seaborn/_decorators.py:36: FutureWarning: Pass the following variables as keyword args: x, y. From version 0.12, the only valid positional argument will be `data`, and passing other arguments without an explicit keyword will result in an error or misinterpretation.\n",
      "  warnings.warn(\n"
     ]
    },
    {
     "data": {
      "text/plain": [
       "<seaborn.axisgrid.FacetGrid at 0x7f57d865bf40>"
      ]
     },
     "execution_count": 69,
     "metadata": {},
     "output_type": "execute_result"
    },
    {
     "data": {
      "image/png": "[encoded data removed]",
      "text/plain": [
       "<Figure size 1152x288 with 4 Axes>"
      ]
     },
     "metadata": {
      "needs_background": "light"
     },
     "output_type": "display_data"
    }
   ],
   "source": [
    "sns.catplot('Classifier', 'value', data=tall_metrics, col='Metric', sharey=False, height=4)"
   ]
  },
  {
   "cell_type": "markdown",
   "metadata": {},
   "source": [
    "Now it's time for the cost.  SciPy confusion matrices are layed out as follows:\n",
    "\n",
    "$$\\begin{bmatrix}\n",
    "\\mathrm{TN} & \\mathrm{FP} \\\\\n",
    "\\mathrm{FN} & \\mathrm{TP}\n",
    "\\end{bmatrix}$$\n",
    "\n",
    "And we want the following costs:\n",
    "$$\\begin{bmatrix}\n",
    "0 & 1 \\\\\n",
    "5 & 0\n",
    "\\end{bmatrix}$$"
   ]
  },
  {
   "cell_type": "code",
   "execution_count": 70,
   "metadata": {},
   "outputs": [
    {
     "data": {
      "text/plain": [
       "array([[0, 1],\n",
       "       [5, 0]])"
      ]
     },
     "execution_count": 70,
     "metadata": {},
     "output_type": "execute_result"
    }
   ],
   "source": [
    "cost_matrix = np.array([\n",
    "    [0, 1],\n",
    "    [5, 0]\n",
    "])\n",
    "cost_matrix"
   ]
  },
  {
   "cell_type": "markdown",
   "metadata": {},
   "source": [
    "With this, we can cost by computing the confusion matrix, multiplying elementwise by cost, and summing up the whole matrix:"
   ]
  },
  {
   "cell_type": "code",
   "execution_count": 71,
   "metadata": {},
   "outputs": [],
   "source": [
    "def cost(preds):\n",
    "    cmat = confusion_matrix(test_y, preds)\n",
    "    cost = cmat * cost_matrix\n",
    "    return np.sum(cost)"
   ]
  },
  {
   "cell_type": "markdown",
   "metadata": {},
   "source": [
    "Test it out:"
   ]
  },
  {
   "cell_type": "code",
   "execution_count": 72,
   "metadata": {},
   "outputs": [
    {
     "data": {
      "text/plain": [
       "35658"
      ]
     },
     "execution_count": 72,
     "metadata": {},
     "output_type": "execute_result"
    }
   ],
   "source": [
    "cost(results['RF'])"
   ]
  },
  {
   "cell_type": "markdown",
   "metadata": {},
   "source": [
    "What's the cost of each classifier?"
   ]
  },
  {
   "cell_type": "code",
   "execution_count": 73,
   "metadata": {},
   "outputs": [
    {
     "data": {
      "text/html": [
       "<div>\n",
       "<style scoped>\n",
       "    .dataframe tbody tr th:only-of-type {\n",
       "        vertical-align: middle;\n",
       "    }\n",
       "\n",
       "    .dataframe tbody tr th {\n",
       "        vertical-align: top;\n",
       "    }\n",
       "\n",
       "    .dataframe thead th {\n",
       "        text-align: right;\n",
       "    }\n",
       "</style>\n",
       "<table border=\"1\" class=\"dataframe\">\n",
       "  <thead>\n",
       "    <tr style=\"text-align: right;\">\n",
       "      <th></th>\n",
       "      <th>Classifier</th>\n",
       "      <th>cost</th>\n",
       "    </tr>\n",
       "  </thead>\n",
       "  <tbody>\n",
       "    <tr>\n",
       "      <th>0</th>\n",
       "      <td>Majority</td>\n",
       "      <td>39499</td>\n",
       "    </tr>\n",
       "    <tr>\n",
       "      <th>1</th>\n",
       "      <td>Logistic</td>\n",
       "      <td>40243</td>\n",
       "    </tr>\n",
       "    <tr>\n",
       "      <th>2</th>\n",
       "      <td>Lasso</td>\n",
       "      <td>40223</td>\n",
       "    </tr>\n",
       "    <tr>\n",
       "      <th>3</th>\n",
       "      <td>ENet</td>\n",
       "      <td>40223</td>\n",
       "    </tr>\n",
       "    <tr>\n",
       "      <th>4</th>\n",
       "      <td>RF</td>\n",
       "      <td>35658</td>\n",
       "    </tr>\n",
       "  </tbody>\n",
       "</table>\n",
       "</div>"
      ],
      "text/plain": [
       "  Classifier   cost\n",
       "0   Majority  39499\n",
       "1   Logistic  40243\n",
       "2      Lasso  40223\n",
       "3       ENet  40223\n",
       "4         RF  35658"
      ]
     },
     "execution_count": 73,
     "metadata": {},
     "output_type": "execute_result"
    }
   ],
   "source": [
    "costs = results.apply(cost).to_frame('cost').reset_index()\n",
    "costs"
   ]
  },
  {
   "cell_type": "code",
   "execution_count": 74,
   "metadata": {},
   "outputs": [
    {
     "data": {
      "text/plain": [
       "<seaborn.axisgrid.FacetGrid at 0x7f57c81b1400>"
      ]
     },
     "execution_count": 74,
     "metadata": {},
     "output_type": "execute_result"
    },
    {
     "data": {
      "image/png": "[encoded data removed]",
      "text/plain": [
       "<Figure size 540x360 with 1 Axes>"
      ]
     },
     "metadata": {
      "needs_background": "light"
     },
     "output_type": "display_data"
    }
   ],
   "source": [
    "sns.catplot(x='Classifier', y='cost', data=costs, kind='bar', aspect=1.5)"
   ]
  },
  {
   "cell_type": "markdown",
   "metadata": {},
   "source": [
    "Our RF seems to pretty clearly be the winner.\n",
    "\n",
    "What are false positive rates?"
   ]
  },
  {
   "cell_type": "code",
   "execution_count": 75,
   "metadata": {},
   "outputs": [],
   "source": [
    "def fpr(true_y, pred_y):\n",
    "    fp = pred_y & (~true_y)\n",
    "    tn = (~pred_y) & (~true_y)\n",
    "    return np.sum(fp) / (np.sum(fp) + np.sum(tn))"
   ]
  },
  {
   "cell_type": "code",
   "execution_count": 76,
   "metadata": {},
   "outputs": [],
   "source": [
    "def fnr(true_y, pred_y):\n",
    "    fn = (~pred_y) & (true_y)\n",
    "    tp = (pred_y) & (true_y)\n",
    "    return np.sum(fn) / (np.sum(fn) + np.sum(tp))"
   ]
  },
  {
   "cell_type": "code",
   "execution_count": 77,
   "metadata": {},
   "outputs": [
    {
     "data": {
      "text/plain": [
       "<seaborn.axisgrid.FacetGrid at 0x7f57c81f84c0>"
      ]
     },
     "execution_count": 77,
     "metadata": {},
     "output_type": "execute_result"
    },
    {
     "data": {
      "image/png": "[encoded data removed]",
      "text/plain": [
       "<Figure size 540x360 with 1 Axes>"
      ]
     },
     "metadata": {
      "needs_background": "light"
     },
     "output_type": "display_data"
    }
   ],
   "source": [
    "fnrs = results.apply(lambda ds: fnr(test_y, ds)).to_frame('fnr').reset_index()\n",
    "sns.catplot(x='Classifier', y='fnr', data=fnrs, aspect=1.5)"
   ]
  },
  {
   "cell_type": "markdown",
   "metadata": {},
   "source": [
    "Now let's break it down by group. First we need to get the groups:"
   ]
  },
  {
   "cell_type": "code",
   "execution_count": 78,
   "metadata": {},
   "outputs": [
    {
     "data": {
      "text/html": [
       "<div>\n",
       "<style scoped>\n",
       "    .dataframe tbody tr th:only-of-type {\n",
       "        vertical-align: middle;\n",
       "    }\n",
       "\n",
       "    .dataframe tbody tr th {\n",
       "        vertical-align: top;\n",
       "    }\n",
       "\n",
       "    .dataframe thead th {\n",
       "        text-align: right;\n",
       "    }\n",
       "</style>\n",
       "<table border=\"1\" class=\"dataframe\">\n",
       "  <thead>\n",
       "    <tr style=\"text-align: right;\">\n",
       "      <th>Classifier</th>\n",
       "      <th>Majority</th>\n",
       "      <th>Logistic</th>\n",
       "      <th>Lasso</th>\n",
       "      <th>ENet</th>\n",
       "      <th>RF</th>\n",
       "      <th>Status</th>\n",
       "    </tr>\n",
       "  </thead>\n",
       "  <tbody>\n",
       "    <tr>\n",
       "      <th>680332</th>\n",
       "      <td>True</td>\n",
       "      <td>True</td>\n",
       "      <td>True</td>\n",
       "      <td>True</td>\n",
       "      <td>False</td>\n",
       "      <td>Existing</td>\n",
       "    </tr>\n",
       "    <tr>\n",
       "      <th>598268</th>\n",
       "      <td>True</td>\n",
       "      <td>True</td>\n",
       "      <td>True</td>\n",
       "      <td>True</td>\n",
       "      <td>True</td>\n",
       "      <td>Existing</td>\n",
       "    </tr>\n",
       "    <tr>\n",
       "      <th>223331</th>\n",
       "      <td>True</td>\n",
       "      <td>True</td>\n",
       "      <td>True</td>\n",
       "      <td>True</td>\n",
       "      <td>True</td>\n",
       "      <td>Existing</td>\n",
       "    </tr>\n",
       "    <tr>\n",
       "      <th>650774</th>\n",
       "      <td>True</td>\n",
       "      <td>True</td>\n",
       "      <td>True</td>\n",
       "      <td>True</td>\n",
       "      <td>True</td>\n",
       "      <td>Existing</td>\n",
       "    </tr>\n",
       "    <tr>\n",
       "      <th>876314</th>\n",
       "      <td>True</td>\n",
       "      <td>True</td>\n",
       "      <td>True</td>\n",
       "      <td>True</td>\n",
       "      <td>True</td>\n",
       "      <td>Existing</td>\n",
       "    </tr>\n",
       "  </tbody>\n",
       "</table>\n",
       "</div>"
      ],
      "text/plain": [
       "Classifier  Majority  Logistic  Lasso  ENet     RF    Status\n",
       "680332          True      True   True  True  False  Existing\n",
       "598268          True      True   True  True   True  Existing\n",
       "223331          True      True   True  True   True  Existing\n",
       "650774          True      True   True  True   True  Existing\n",
       "876314          True      True   True  True   True  Existing"
      ]
     },
     "execution_count": 78,
     "metadata": {},
     "output_type": "execute_result"
    }
   ],
   "source": [
    "res_class = results.assign(Status='Existing')\n",
    "res_class.loc[test_x['NewExist'] == 2, 'Status'] = 'New'\n",
    "res_class.head()"
   ]
  },
  {
   "cell_type": "code",
   "execution_count": 79,
   "metadata": {},
   "outputs": [
    {
     "data": {
      "text/html": [
       "<div>\n",
       "<style scoped>\n",
       "    .dataframe tbody tr th:only-of-type {\n",
       "        vertical-align: middle;\n",
       "    }\n",
       "\n",
       "    .dataframe tbody tr th {\n",
       "        vertical-align: top;\n",
       "    }\n",
       "\n",
       "    .dataframe thead th {\n",
       "        text-align: right;\n",
       "    }\n",
       "</style>\n",
       "<table border=\"1\" class=\"dataframe\">\n",
       "  <thead>\n",
       "    <tr style=\"text-align: right;\">\n",
       "      <th>Classifier</th>\n",
       "      <th>Status</th>\n",
       "      <th>Majority</th>\n",
       "      <th>Logistic</th>\n",
       "      <th>Lasso</th>\n",
       "      <th>ENet</th>\n",
       "      <th>RF</th>\n",
       "    </tr>\n",
       "  </thead>\n",
       "  <tbody>\n",
       "    <tr>\n",
       "      <th>0</th>\n",
       "      <td>Existing</td>\n",
       "      <td>0.828177</td>\n",
       "      <td>0.830215</td>\n",
       "      <td>0.830216</td>\n",
       "      <td>0.830216</td>\n",
       "      <td>0.941078</td>\n",
       "    </tr>\n",
       "    <tr>\n",
       "      <th>1</th>\n",
       "      <td>New</td>\n",
       "      <td>0.812968</td>\n",
       "      <td>0.814936</td>\n",
       "      <td>0.814945</td>\n",
       "      <td>0.814945</td>\n",
       "      <td>0.924701</td>\n",
       "    </tr>\n",
       "  </tbody>\n",
       "</table>\n",
       "</div>"
      ],
      "text/plain": [
       "Classifier    Status  Majority  Logistic     Lasso      ENet        RF\n",
       "0           Existing  0.828177  0.830215  0.830216  0.830216  0.941078\n",
       "1                New  0.812968  0.814936  0.814945  0.814945  0.924701"
      ]
     },
     "execution_count": 79,
     "metadata": {},
     "output_type": "execute_result"
    }
   ],
   "source": [
    "def all_metric(df, metric=precision_score):\n",
    "    ys = test_y.loc[df.index]\n",
    "    return df.drop(columns=['Status']).apply(lambda ds: metric(ys, ds))\n",
    "group_prec = res_class.groupby('Status').apply(all_metric).reset_index()\n",
    "group_prec"
   ]
  },
  {
   "cell_type": "code",
   "execution_count": 80,
   "metadata": {},
   "outputs": [
    {
     "data": {
      "text/plain": [
       "<seaborn.axisgrid.FacetGrid at 0x7f57c81b1bb0>"
      ]
     },
     "execution_count": 80,
     "metadata": {},
     "output_type": "execute_result"
    },
    {
     "data": {
      "image/png": "[encoded data removed]",
      "text/plain": [
       "<Figure size 507.75x288 with 1 Axes>"
      ]
     },
     "metadata": {
      "needs_background": "light"
     },
     "output_type": "display_data"
    }
   ],
   "source": [
    "sns.catplot(x='Classifier', y='Precision', hue='Status', kind='bar', aspect=1.5, height=4,\n",
    "            data=group_prec.melt(id_vars=['Status'], var_name='Classifier', value_name='Precision'))"
   ]
  },
  {
   "cell_type": "markdown",
   "metadata": {},
   "source": [
    "Linear models have higher precision for new businesses, and RF has higher for existing businesses. We have not tested the significance of these differences."
   ]
  },
  {
   "cell_type": "code",
   "execution_count": 81,
   "metadata": {},
   "outputs": [
    {
     "data": {
      "text/html": [
       "<div>\n",
       "<style scoped>\n",
       "    .dataframe tbody tr th:only-of-type {\n",
       "        vertical-align: middle;\n",
       "    }\n",
       "\n",
       "    .dataframe tbody tr th {\n",
       "        vertical-align: top;\n",
       "    }\n",
       "\n",
       "    .dataframe thead th {\n",
       "        text-align: right;\n",
       "    }\n",
       "</style>\n",
       "<table border=\"1\" class=\"dataframe\">\n",
       "  <thead>\n",
       "    <tr style=\"text-align: right;\">\n",
       "      <th>Classifier</th>\n",
       "      <th>Status</th>\n",
       "      <th>Majority</th>\n",
       "      <th>Logistic</th>\n",
       "      <th>Lasso</th>\n",
       "      <th>ENet</th>\n",
       "      <th>RF</th>\n",
       "    </tr>\n",
       "  </thead>\n",
       "  <tbody>\n",
       "    <tr>\n",
       "      <th>0</th>\n",
       "      <td>Existing</td>\n",
       "      <td>0.0</td>\n",
       "      <td>0.001117</td>\n",
       "      <td>0.001109</td>\n",
       "      <td>0.001109</td>\n",
       "      <td>0.023275</td>\n",
       "    </tr>\n",
       "    <tr>\n",
       "      <th>1</th>\n",
       "      <td>New</td>\n",
       "      <td>0.0</td>\n",
       "      <td>0.002357</td>\n",
       "      <td>0.002298</td>\n",
       "      <td>0.002298</td>\n",
       "      <td>0.030832</td>\n",
       "    </tr>\n",
       "  </tbody>\n",
       "</table>\n",
       "</div>"
      ],
      "text/plain": [
       "Classifier    Status  Majority  Logistic     Lasso      ENet        RF\n",
       "0           Existing       0.0  0.001117  0.001109  0.001109  0.023275\n",
       "1                New       0.0  0.002357  0.002298  0.002298  0.030832"
      ]
     },
     "execution_count": 81,
     "metadata": {},
     "output_type": "execute_result"
    }
   ],
   "source": [
    "group_fnr = res_class.groupby('Status').apply(all_metric, metric=fnr).reset_index()\n",
    "group_fnr"
   ]
  },
  {
   "cell_type": "code",
   "execution_count": 82,
   "metadata": {},
   "outputs": [
    {
     "data": {
      "text/plain": [
       "<seaborn.axisgrid.FacetGrid at 0x7f57c803dfd0>"
      ]
     },
     "execution_count": 82,
     "metadata": {},
     "output_type": "execute_result"
    },
    {
     "data": {
      "image/png": "[encoded data removed]",
      "text/plain": [
       "<Figure size 507.75x288 with 1 Axes>"
      ]
     },
     "metadata": {
      "needs_background": "light"
     },
     "output_type": "display_data"
    }
   ],
   "source": [
    "sns.catplot(x='Classifier', y='FNR', hue='Status', kind='bar', aspect=1.5, height=4,\n",
    "            data=group_fnr.melt(id_vars=['Status'], var_name='Classifier', value_name='FNR'))"
   ]
  },
  {
   "cell_type": "markdown",
   "metadata": {},
   "source": [
    "We see that linear models have higher FPRs for existing businesses, but the random forest has higher FPR for new businesses."
   ]
  },
  {
   "cell_type": "markdown",
   "metadata": {},
   "source": [
    "## Extra Code"
   ]
  },
  {
   "cell_type": "markdown",
   "metadata": {},
   "source": [
    "I'm going to make a custom transformer that takes two pipelines and computes the interaction terms of one with the other, but not within the one."
   ]
  },
  {
   "cell_type": "code",
   "execution_count": 59,
   "metadata": {},
   "outputs": [],
   "source": [
    "class Interact(BaseEstimator, TransformerMixin):\n",
    "    def __init__(self, xf1, xf2):\n",
    "        self.xf1 = xf1\n",
    "        self.xf2 = xf2\n",
    "    \n",
    "    def fit(self, *args):\n",
    "        self.xf1.fit(*args)\n",
    "        self.xf2.fit(*args)\n",
    "    \n",
    "    def transform(self, X):\n",
    "        X1 = self.xf1.transform(X)\n",
    "        X2 = self.xf2.transform(X)\n",
    "        nr1, nc1 = X1.shape\n",
    "        nr2, nc2 = X2.shape\n",
    "        assert nr1 == nr2\n",
    "        X12 = np.empty((nr1, nc1 * nc2))\n",
    "        for i in range(nc1):\n",
    "            for j in range(nc2):\n",
    "                pos = i * nc2 + j\n",
    "                X12[:, pos] = X1[:, i] * X2[:, i]\n",
    "        res = np.concatenate(X1, X2, X12, axis=1)\n",
    "        assert res.shape[0] == nr1"
   ]
  }
 ],
 "metadata": {
  "kernelspec": {
   "display_name": "Python 3 (ipykernel)",
   "language": "python",
   "name": "python3"
  },
  "language_info": {
   "codemirror_mode": {
    "name": "ipython",
    "version": 3
   },
   "file_extension": ".py",
   "mimetype": "text/x-python",
   "name": "python",
   "nbconvert_exporter": "python",
   "pygments_lexer": "ipython3",
   "version": "3.8.12"
  }
 },
 "nbformat": 4,
 "nbformat_minor": 4
}
